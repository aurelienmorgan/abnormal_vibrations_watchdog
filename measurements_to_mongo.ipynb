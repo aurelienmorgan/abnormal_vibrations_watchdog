{
 "cells": [
  {
   "cell_type": "code",
   "execution_count": 2,
   "metadata": {},
   "outputs": [],
   "source": [
    "import os, sys\n",
    "\n",
    "%reload_ext autoreload\n",
    "%autoreload 2"
   ]
  },
  {
   "cell_type": "markdown",
   "metadata": {},
   "source": [
    "# DATASET"
   ]
  },
  {
   "cell_type": "markdown",
   "metadata": {},
   "source": [
    "Collecting the dataset from the remote host&nbsp;:"
   ]
  },
  {
   "cell_type": "code",
   "execution_count": 66,
   "metadata": {},
   "outputs": [
    {
     "name": "stderr",
     "output_type": "stream",
     "text": [
      "Downloading archive :\n",
      "     100%|██████████████████████████████████████████████████| 262530/262530 [03:18<00:00, 1322.22it/s]\n",
      "Extracting 4 entries :\n",
      "\t['1st_test.rar', '2nd_test.rar', '3rd_test.rar', 'Readme Document for IMS Bearing Data.pdf'] done [00:01:37].\n",
      "Extracting sub-folder #1/3 (1st_test) :\n",
      "     100%|██████████████████████████████████████████████████| 2157/2157 [03:40<00:00,  9.78it/s]\n",
      "Extracting sub-folder #2/3 (2nd_test) :\n",
      "     100%|██████████████████████████████████████████████████| 985/985 [01:17<00:00, 12.76it/s]\n",
      "Extracting sub-folder #3/3 (3rd_test) :\n",
      "     100%|██████████████████████████████████████████████████| 6326/6326 [07:25<00:00, 14.20it/s]\n"
     ]
    },
    {
     "name": "stdout",
     "output_type": "stream",
     "text": [
      "completed in 00:17:20\n"
     ]
    }
   ],
   "source": [
    "from my_TS_Anomaly_lib import download_nasa_ims_bearings_dataset\n",
    "\n",
    "root_dir = os.path.join( '.', 'data' )\n",
    "\n",
    "download_nasa_ims_bearings_dataset(\n",
    "    root_dir\n",
    ")"
   ]
  },
  {
   "cell_type": "code",
   "execution_count": null,
   "metadata": {
    "scrolled": false
   },
   "outputs": [],
   "source": []
  },
  {
   "cell_type": "markdown",
   "metadata": {},
   "source": [
    "# MONGODB"
   ]
  },
  {
   "cell_type": "code",
   "execution_count": null,
   "metadata": {},
   "outputs": [],
   "source": [
    "# Launch the mongoDB local server instance (from command shell on Mongo DB server)\n",
    "# \"C:\\Program Files\\MongoDB\\Server\\4.4\\bin\\mongod.exe\" --dbpath=\"D:\\mongodb_data_dir\" --bind_ip 127.0.0.1 --auth"
   ]
  },
  {
   "cell_type": "markdown",
   "metadata": {},
   "source": [
    "Get a connection from Python Jupyter Notebook&nbsp;:"
   ]
  },
  {
   "cell_type": "code",
   "execution_count": 2,
   "metadata": {},
   "outputs": [],
   "source": [
    "from pymongo import MongoClient\n",
    "from pprint import pprint\n",
    "\n",
    "username = 'myAdmin'\n",
    "password = 'my_admin_password'\n",
    "\n",
    "client = MongoClient('mongodb://%s:%s@127.0.0.1' % (username, password)\n",
    "                     , appname='NASA IMS')"
   ]
  },
  {
   "cell_type": "markdown",
   "metadata": {},
   "source": [
    "Import the source files to a new database on the Mongo DB server&nbsp;:"
   ]
  },
  {
   "cell_type": "code",
   "execution_count": 6,
   "metadata": {
    "collapsed": true
   },
   "outputs": [
    {
     "name": "stdout",
     "output_type": "stream",
     "text": [
      "Transferring data to Mongo DB :\n"
     ]
    },
    {
     "data": {
      "application/vnd.jupyter.widget-view+json": {
       "model_id": "cecf3168f8d8472db8f59aad0c1c3eca",
       "version_major": 2,
       "version_minor": 0
      },
      "text/plain": [
       "HBox(children=(FloatProgress(value=0.0, max=9464.0), HTML(value='')))"
      ]
     },
     "metadata": {},
     "output_type": "display_data"
    },
    {
     "name": "stdout",
     "output_type": "stream",
     "text": [
      "\n",
      "Imported 194 Million 'timestep' documents\n"
     ]
    }
   ],
   "source": [
    "from my_TS_Anomaly_lib import measurements_to_mongo\n",
    "from multiprocessing import cpu_count\n",
    "\n",
    "root_dir =  os.path.join( '.', 'data' )\n",
    "database_name = 'nasa_ims_database'\n",
    "\n",
    "measurements_to_mongo( client, database_name, root_dir\n",
    "                       , par_backend = 'multiprocessing', n_jobs = cpu_count()-1 )\n",
    "\n",
    "if not client.admin['system.users'].find_one({'user': 'readOnlyUser'}) :\n",
    "    client.admin.command(\n",
    "        \"createUser\", 'readOnlyUser', pwd='readOnlyUser_password'\n",
    "        , roles=[{'role': 'read','db': database_name}]\n",
    "    )\n"
   ]
  },
  {
   "cell_type": "markdown",
   "metadata": {},
   "source": [
    "<p style=\"font-family: monospace\">\n",
    "Transferring data to Mongo DB :</p>\n",
    "\n",
    "<div>\n",
    "<img style=\"vertical-align:middle;\" width=\"310px\" align=\"left\" alt=\"measurements to mongo widget\" src=\"./images/tqdm_widget.png?uncache=464453868\" />\n",
    "\n",
    "<ul style=\"line-height: 34px; list-style-type: none;\">\n",
    "<li style=\"margin: 0px 10px 0px 30px;\">\n",
    "<p style=\"font-family: Helvetica; font-size: 10pt;\">9464/9464 [26:27&lt;00:00, 5.96it/s]</p>\n",
    "</li>\n",
    "</ul>\n",
    "</div>\n",
    "\n",
    "<p style=\"font-family: monospace\">\n",
    "Imported 194 Million 'timestep' documents.</p>"
   ]
  },
  {
   "cell_type": "markdown",
   "metadata": {},
   "source": [
    "As part of the <b><em>measurements_to_mongo</em></b> convenience method, an index on the 'test_id' attribute has been created&nbsp;:"
   ]
  },
  {
   "cell_type": "code",
   "execution_count": 8,
   "metadata": {},
   "outputs": [
    {
     "data": {
      "text/plain": [
       "{'_id_': {'v': 2, 'key': [('_id', 1)]},\n",
       " 'test_id_idx': {'v': 2, 'key': [('test_id', -1)], 'background': True}}"
      ]
     },
     "execution_count": 8,
     "metadata": {},
     "output_type": "execute_result"
    }
   ],
   "source": [
    "client[database_name].measurements.index_information()"
   ]
  },
  {
   "cell_type": "markdown",
   "metadata": {},
   "source": [
    "<hr style=\"height:2px;border-width:0;color:gray;background-color:gray;width:80%\" />"
   ]
  },
  {
   "cell_type": "markdown",
   "metadata": {},
   "source": [
    "Let's look into one measurement timestep document for each of the 3 bearings test-to-failure experiments&nbsp;:"
   ]
  },
  {
   "cell_type": "code",
   "execution_count": 14,
   "metadata": {},
   "outputs": [
    {
     "name": "stdout",
     "output_type": "stream",
     "text": [
      "example of measurement document for test #1 :\n",
      "{'sensor_1': '-0.022',\n",
      " 'sensor_2': '-0.039',\n",
      " 'sensor_3': '-0.183',\n",
      " 'sensor_4': '-0.054',\n",
      " 'sensor_5': '-0.105',\n",
      " 'sensor_6': '-0.134',\n",
      " 'sensor_7': '-0.129',\n",
      " 'sensor_8': '-0.142',\n",
      " 'test_id': 1}\n",
      "'timestamp': 2003-10-22 12:06:24\n",
      "\n",
      "example of measurement document for test #2 :\n",
      "{'sensor_1': '-0.049',\n",
      " 'sensor_2': '-0.071',\n",
      " 'sensor_3': '-0.132',\n",
      " 'sensor_4': '-0.010',\n",
      " 'test_id': 2}\n",
      "'timestamp': 2004-02-12 10:32:39\n",
      "\n",
      "example of measurement document for test #3 :\n",
      "{'sensor_1': '0.034',\n",
      " 'sensor_2': '0.264',\n",
      " 'sensor_3': '0.039',\n",
      " 'sensor_4': '-0.046',\n",
      " 'test_id': 3}\n",
      "'timestamp': 2004-03-04 09:27:46\n",
      "\n"
     ]
    }
   ],
   "source": [
    "from datetime import datetime\n",
    "\n",
    "cursor = client.nasa_ims_database.measurements.aggregate([\n",
    "    # group by test_id,\n",
    "    # keep first document of each group,\n",
    "    # get all attributes for each returned document\n",
    "    {'$group': {\n",
    "        '_id': \"$test_id\"\n",
    "        , 'test_Document': {'$first': {\n",
    "            \"$objectToArray\": \"$$ROOT\"\n",
    "        }}\n",
    "    }},\n",
    "    # sort result by increasing test_id\n",
    "    {'$sort': {\"_id\": 1}},\n",
    "    # convert from {'k': xxx, 'v': yyyy}\n",
    "    # to {xxx: yyyy} format\n",
    "    {\"$replaceRoot\": {\n",
    "        \"newRoot\": {\n",
    "            \"$arrayToObject\": \"$test_Document\"\n",
    "        }\n",
    "    }},\n",
    "    # remove the '_id' attribute from the returned document\n",
    "    {\"$project\": {\"_id\": 0}}\n",
    "])\n",
    "\n",
    "while cursor._has_next() :\n",
    "    cursor_document = cursor.next()\n",
    "    print(\"example of measurement document for test #\" +\n",
    "          str(cursor_document['test_id']) + \" :\")\n",
    "    pprint({x: cursor_document[x]\n",
    "            for x in cursor_document if x not in ['timestamp']})\n",
    "    print(\"'timestamp': \" + str(cursor_document['timestamp']))\n",
    "    print()\n"
   ]
  },
  {
   "cell_type": "markdown",
   "metadata": {},
   "source": [
    "Notice above that test 1 was performed with 8 sensors (i.e. 2 per bearing) whereas both test 2 & 3 were covered with only 4 sensors (i.e. 1 per bearing)."
   ]
  },
  {
   "cell_type": "markdown",
   "metadata": {},
   "source": [
    "<hr style=\"height:2px;border-width:0;color:gray;background-color:gray;width:80%\" />"
   ]
  },
  {
   "cell_type": "code",
   "execution_count": null,
   "metadata": {},
   "outputs": [],
   "source": []
  },
  {
   "cell_type": "code",
   "execution_count": 67,
   "metadata": {},
   "outputs": [
    {
     "data": {
      "text/plain": [
       "['admin', 'config', 'local', 'nasa_ims_database']"
      ]
     },
     "execution_count": 67,
     "metadata": {},
     "output_type": "execute_result"
    }
   ],
   "source": [
    "# list all databases on the Mongo DB server :\n",
    "client.list_database_names()"
   ]
  },
  {
   "cell_type": "code",
   "execution_count": 37,
   "metadata": {},
   "outputs": [
    {
     "data": {
      "text/plain": [
       "['measurements']"
      ]
     },
     "execution_count": 37,
     "metadata": {},
     "output_type": "execute_result"
    }
   ],
   "source": [
    "# list all collections in the (newly created) database :\n",
    "client.nasa_ims_database.list_collection_names()"
   ]
  },
  {
   "cell_type": "code",
   "execution_count": 5,
   "metadata": {},
   "outputs": [
    {
     "data": {
      "text/plain": [
       "{'dropped': 'nasa_ims_database', 'ok': 1.0}"
      ]
     },
     "execution_count": 5,
     "metadata": {},
     "output_type": "execute_result"
    }
   ],
   "source": [
    "# DEBUG\n",
    "# client.nasa_ims_database.command(\"dropDatabase\")"
   ]
  },
  {
   "cell_type": "markdown",
   "metadata": {},
   "source": [
    "<hr style=\"height:2px;border-width:0;color:gray;background-color:gray;width:80%\" />"
   ]
  },
  {
   "cell_type": "markdown",
   "metadata": {},
   "source": [
    "Count all documents attributes (from measurements, all timesteps, all sensors). This operation requires a complete database collection scan&nbsp;:"
   ]
  },
  {
   "cell_type": "code",
   "execution_count": 28,
   "metadata": {
    "collapsed": true
   },
   "outputs": [
    {
     "data": {
      "application/vnd.jupyter.widget-view+json": {
       "model_id": "5d60960cbeb341b7abdcb2e26311b5d1",
       "version_major": 2,
       "version_minor": 0
      },
      "text/plain": [
       "HBox(children=(FloatProgress(value=0.0, max=193822720.0), HTML(value='')))"
      ]
     },
     "metadata": {},
     "output_type": "display_data"
    },
    {
     "name": "stdout",
     "output_type": "stream",
     "text": [
      "\n",
      "952 Million sensory measurements in total\n"
     ]
    }
   ],
   "source": [
    "from my_TS_Anomaly_lib.utils import millify\n",
    "\n",
    "batch_size = 70_000\n",
    "\n",
    "# we use the 'aggregate' operator to apply projection query\n",
    "# (exclusion projection, addFields, inclusion projection)\n",
    "cursor = client.nasa_ims_database['measurements'].aggregate([\n",
    "    # exclusion projection (do not consider these attributes in what will follow)\n",
    "    { \"$project\": {\n",
    "        \"_id\": 0\n",
    "        , \"timestamp\": 0\n",
    "        , \"test_id\": 0\n",
    "    } },\n",
    "    # addFields 'count' : count the attributes of each returned records\n",
    "    { \"$addFields\": {\n",
    "        \"count\": {\n",
    "            \"$size\": { \n",
    "                \"$objectToArray\": \"$$ROOT\"\n",
    "            }\n",
    "        }\n",
    "    } },\n",
    "    # inclusion projection, only keep the 'count' (added) attribute\n",
    "    { \"$project\": {\n",
    "        \"count\": 1\n",
    "    } }\n",
    "    #, { \"$limit\": 10 }\n",
    "]\n",
    ").batch_size(batch_size)\n",
    "\n",
    "\n",
    "\n",
    "from tqdm.notebook import tqdm as notebook_tqdm\n",
    "\n",
    "print(\"Counting the sensors for all timesteps :\")\n",
    "attributes_counter = 0 ; document_counter = 0 ; pbar_rate = 10_000\n",
    "total = client.nasa_ims_database.measurements \\\n",
    "            .estimated_document_count()\n",
    "with notebook_tqdm(\n",
    "    total = total\n",
    ") as pbar :\n",
    "    for document in cursor :\n",
    "        document_counter += 1\n",
    "        attributes_counter += document['count']\n",
    "        if document_counter % pbar_rate == 0 : pbar.update(pbar_rate)\n",
    "    pbar.n = total ; pbar.refresh()\n",
    "\n",
    "print( millify(attributes_counter) + \" sensory measurements in total\" )"
   ]
  },
  {
   "cell_type": "markdown",
   "metadata": {},
   "source": [
    "<p style=\"font-family: monospace\">\n",
    "Counting the sensors for all timesteps&nbsp;:</p>\n",
    "\n",
    "<div>\n",
    "<img style=\"vertical-align:middle;\" width=\"310px\" align=\"left\" alt=\"measurements to mongo widget\" src=\"./images/tqdm_widget.png?uncache=464453868\" />\n",
    "\n",
    "<ul style=\"line-height: 34px; list-style-type: none;\">\n",
    "<li style=\"margin: 0px 10px 0px 30px;\">\n",
    "<p style=\"font-family: Helvetica; font-size: 10pt;\">193822720/193822720 [26:04&lt;00:00, 123902.03it/s]\n",
    "</li>\n",
    "</ul>\n",
    "</div>\n",
    "\n",
    "<p style=\"font-family: monospace\">\n",
    "952 Million sensory measurements in total</p>"
   ]
  },
  {
   "cell_type": "markdown",
   "metadata": {},
   "source": [
    "<br />\n",
    "<br />\n",
    "<br />\n",
    "<center><b><font size=14pt>THE END.</font></b></center>\n",
    "<br />\n",
    "<br />\n",
    "<br />"
   ]
  },
  {
   "cell_type": "markdown",
   "metadata": {},
   "source": [
    "<hr style=\"height:2px;border-width:0;color:gray;background-color:gray;width:80%\" />"
   ]
  },
  {
   "cell_type": "markdown",
   "metadata": {},
   "source": [
    "# EXTRA"
   ]
  },
  {
   "cell_type": "markdown",
   "metadata": {},
   "source": [
    "<b>Export Notebook to HTML (with Markdown extension cells evaluated and hidden cell outputs omitted)&nbsp;:</b>"
   ]
  },
  {
   "cell_type": "code",
   "execution_count": 3,
   "metadata": {},
   "outputs": [
    {
     "name": "stdout",
     "output_type": "stream",
     "text": [
      "'measurements_to_mongo.ipynb' ; 'D:\\jupyter_notebooks\\TimeSeries_Anomaly_Detection\\measurements_to_mongo.html'\n",
      "done.\n"
     ]
    }
   ],
   "source": [
    "from my_TS_Anomaly_lib.jupyter_markdown_extension import md_extension_to_html\n",
    "\n",
    "md_extension_to_html(os.path.join(os.path.realpath('.'), 'measurements_to_mongo.ipynb'))"
   ]
  },
  {
   "cell_type": "markdown",
   "metadata": {},
   "source": [
    "<hr style=\"height: 4px; width: 70%; margin:0 auto;\" />"
   ]
  },
  {
   "cell_type": "markdown",
   "metadata": {},
   "source": [
    "<b>Updates to the user 'readOnlyUser'&nbsp;:</b>"
   ]
  },
  {
   "cell_type": "code",
   "execution_count": 156,
   "metadata": {},
   "outputs": [
    {
     "name": "stdout",
     "output_type": "stream",
     "text": [
      "{'ok': 1.0,\n",
      " 'users': [{'_id': 'admin.myAdmin',\n",
      "            'db': 'admin',\n",
      "            'mechanisms': ['SCRAM-SHA-1', 'SCRAM-SHA-256'],\n",
      "            'roles': [{'db': 'admin', 'role': 'root'}],\n",
      "            'user': 'myAdmin',\n",
      "            'userId': UUID('56ad1f34-b558-4970-90b6-3b85bab5a2b0')},\n",
      "           {'_id': 'admin.myUserAdmin',\n",
      "            'db': 'admin',\n",
      "            'mechanisms': ['SCRAM-SHA-1', 'SCRAM-SHA-256'],\n",
      "            'roles': [{'db': 'admin', 'role': 'userAdminAnyDatabase'},\n",
      "                      {'db': 'admin', 'role': 'readWriteAnyDatabase'}],\n",
      "            'user': 'myUserAdmin',\n",
      "            'userId': UUID('b3c75ece-c910-4257-a44f-63f05e8f2e96')},\n",
      "           {'_id': 'admin.readOnlyUser',\n",
      "            'db': 'admin',\n",
      "            'mechanisms': ['SCRAM-SHA-1', 'SCRAM-SHA-256'],\n",
      "            'roles': [{'db': 'nasa_ims_database', 'role': 'read'}],\n",
      "            'user': 'readOnlyUser',\n",
      "            'userId': UUID('a27cdd77-a790-4e78-a262-047225a0be99')}]}\n"
     ]
    }
   ],
   "source": [
    "# list all users :\n",
    "pprint(client.admin.command('usersInfo'))"
   ]
  },
  {
   "cell_type": "code",
   "execution_count": 32,
   "metadata": {},
   "outputs": [
    {
     "data": {
      "text/plain": [
       "{'ok': 1.0}"
      ]
     },
     "execution_count": 32,
     "metadata": {},
     "output_type": "execute_result"
    }
   ],
   "source": [
    "# drop 'readOnlyUser'\n",
    "client.admin.command('dropUser', 'readOnlyUser')"
   ]
  },
  {
   "cell_type": "code",
   "execution_count": 33,
   "metadata": {},
   "outputs": [
    {
     "data": {
      "text/plain": [
       "{'ok': 1.0}"
      ]
     },
     "execution_count": 33,
     "metadata": {},
     "output_type": "execute_result"
    }
   ],
   "source": [
    "# create 'readOnlyUser'\n",
    "client.admin.command(\"createUser\", 'readOnlyUser', pwd='readOnlyUser_password'\n",
    "    , roles=[{'role':'read','db':'nasa_ims_database'}]\n",
    ")"
   ]
  },
  {
   "cell_type": "code",
   "execution_count": 34,
   "metadata": {},
   "outputs": [
    {
     "name": "stdout",
     "output_type": "stream",
     "text": [
      "['system.users', 'system.version']\n",
      "[{'db': 'nasa_ims_database', 'role': 'read'}]\n"
     ]
    }
   ],
   "source": [
    "print(client.admin.list_collection_names())\n",
    "# list role/database pairs\n",
    "pprint(\n",
    "    client.admin['system.users'].find_one(\n",
    "        {'user': 'readOnlyUser'}\n",
    "        , ['roles']\n",
    "    )['roles']\n",
    ")"
   ]
  },
  {
   "cell_type": "code",
   "execution_count": 30,
   "metadata": {},
   "outputs": [
    {
     "data": {
      "text/plain": [
       "{'ok': 1.0}"
      ]
     },
     "execution_count": 30,
     "metadata": {},
     "output_type": "execute_result"
    }
   ],
   "source": [
    "# add 'read' role on 'test' db to 'readOnlyUser' =>\n",
    "client.admin.command(\"updateUser\"\n",
    "    , \"readOnlyUser\"\n",
    "    , roles = client.admin['system.users'].find_one(\n",
    "                    {'user': 'readOnlyUser'}\n",
    "                    , ['roles']\n",
    "                )['roles'] +\n",
    "                [{'role':'read','db':'test'}]\n",
    ")"
   ]
  },
  {
   "cell_type": "markdown",
   "metadata": {},
   "source": [
    "<hr style=\"height: 4px; width: 70%; margin:0 auto;\" />"
   ]
  },
  {
   "cell_type": "code",
   "execution_count": null,
   "metadata": {},
   "outputs": [],
   "source": []
  },
  {
   "cell_type": "code",
   "execution_count": null,
   "metadata": {},
   "outputs": [],
   "source": []
  },
  {
   "cell_type": "code",
   "execution_count": null,
   "metadata": {},
   "outputs": [],
   "source": []
  },
  {
   "cell_type": "code",
   "execution_count": 7,
   "metadata": {},
   "outputs": [],
   "source": []
  },
  {
   "cell_type": "code",
   "execution_count": null,
   "metadata": {},
   "outputs": [],
   "source": []
  },
  {
   "cell_type": "code",
   "execution_count": null,
   "metadata": {},
   "outputs": [],
   "source": []
  },
  {
   "cell_type": "code",
   "execution_count": null,
   "metadata": {},
   "outputs": [],
   "source": []
  },
  {
   "cell_type": "code",
   "execution_count": null,
   "metadata": {},
   "outputs": [],
   "source": []
  },
  {
   "cell_type": "code",
   "execution_count": null,
   "metadata": {},
   "outputs": [],
   "source": []
  },
  {
   "cell_type": "code",
   "execution_count": null,
   "metadata": {},
   "outputs": [],
   "source": []
  },
  {
   "cell_type": "code",
   "execution_count": null,
   "metadata": {},
   "outputs": [],
   "source": [
    "\n",
    "\n",
    "\n",
    "\n",
    "\n",
    "\n",
    "\n",
    "\n",
    "\n",
    "\n",
    "\n",
    "\n",
    "\n",
    "\n",
    "\n",
    "\n",
    "\n",
    "\n",
    "\n",
    "\n",
    "\n",
    "\n",
    "\n",
    "\n",
    "\n",
    "\n",
    "\n",
    "\n",
    "\n",
    "\n",
    "\n",
    "\n",
    "\n",
    "\n",
    "\n",
    "\n",
    "\n",
    "\n",
    "\n",
    "\n"
   ]
  }
 ],
 "metadata": {
  "kernelspec": {
   "display_name": "TensorFlow-GPU-1.13.1",
   "language": "python",
   "name": "r-tensorflow"
  },
  "language_info": {
   "codemirror_mode": {
    "name": "ipython",
    "version": 3
   },
   "file_extension": ".py",
   "mimetype": "text/x-python",
   "name": "python",
   "nbconvert_exporter": "python",
   "pygments_lexer": "ipython3",
   "version": "3.6.8"
  },
  "widgets": {
   "application/vnd.jupyter.widget-state+json": {
    "state": {
     "006114858067450a8e5a1bb994b19ee6": {
      "model_module": "@jupyter-widgets/controls",
      "model_module_version": "1.5.0",
      "model_name": "ProgressStyleModel",
      "state": {
       "description_width": "initial"
      }
     },
     "00a71137d4f8419fb87ddd7ea12196f9": {
      "model_module": "@jupyter-widgets/base",
      "model_module_version": "1.2.0",
      "model_name": "LayoutModel",
      "state": {}
     },
     "011d34d0d6e141bd8ffa10623d4c23d9": {
      "model_module": "@jupyter-widgets/controls",
      "model_module_version": "1.5.0",
      "model_name": "HTMLModel",
      "state": {
       "layout": "IPY_MODEL_eb7a16476227453ebdf189c6e8f3b04c",
       "style": "IPY_MODEL_d2a9f3f9e585413ab8bf847850eb0e0c",
       "value": " 193822720/193822720 [26:26&lt;00:00, 122157.49it/s]"
      }
     },
     "01ce301b4239410b899e1a9185c9d7c7": {
      "model_module": "@jupyter-widgets/controls",
      "model_module_version": "1.5.0",
      "model_name": "HBoxModel",
      "state": {
       "children": [
        "IPY_MODEL_c9dfbbb2105e4715806c491a88943a90",
        "IPY_MODEL_04cf763034a14f0fac21499f964b5db9"
       ],
       "layout": "IPY_MODEL_f3ab8faaa3a54ff195117f1b743d52e5"
      }
     },
     "01e0bc4f2ae94e4f85d5ec14fae9aaeb": {
      "model_module": "@jupyter-widgets/base",
      "model_module_version": "1.2.0",
      "model_name": "LayoutModel",
      "state": {}
     },
     "02c0f11def4a49b5a7400f7709ba44df": {
      "model_module": "@jupyter-widgets/controls",
      "model_module_version": "1.5.0",
      "model_name": "ProgressStyleModel",
      "state": {
       "description_width": "initial"
      }
     },
     "036138de74be4878a26802dcf142170c": {
      "model_module": "@jupyter-widgets/controls",
      "model_module_version": "1.5.0",
      "model_name": "HBoxModel",
      "state": {
       "children": [
        "IPY_MODEL_c21d88f7e6e14a21b222ac2abb8e6ace",
        "IPY_MODEL_a1a1594a79034312aa8ef822357e7e64"
       ],
       "layout": "IPY_MODEL_5f4919b6842d43febcf340cef2b88f44"
      }
     },
     "03e55aa1d62041fd99eec7640c427e83": {
      "model_module": "@jupyter-widgets/base",
      "model_module_version": "1.2.0",
      "model_name": "LayoutModel",
      "state": {}
     },
     "04258851fc6647cdabfada29f612b26b": {
      "model_module": "@jupyter-widgets/controls",
      "model_module_version": "1.5.0",
      "model_name": "DescriptionStyleModel",
      "state": {
       "description_width": ""
      }
     },
     "04977136fe1c44b8b987aea68eff3a2e": {
      "model_module": "@jupyter-widgets/base",
      "model_module_version": "1.2.0",
      "model_name": "LayoutModel",
      "state": {}
     },
     "04cf763034a14f0fac21499f964b5db9": {
      "model_module": "@jupyter-widgets/controls",
      "model_module_version": "1.5.0",
      "model_name": "HTMLModel",
      "state": {
       "layout": "IPY_MODEL_639c7bfcd5314d3191d3fbe639f0c712",
       "style": "IPY_MODEL_361d9c5101d0437abd28ff639923a9c5",
       "value": " 9464/9464 [54:06&lt;00:00,  2.91it/s]"
      }
     },
     "059c272cb2a8401fade91b0e1e7df249": {
      "model_module": "@jupyter-widgets/controls",
      "model_module_version": "1.5.0",
      "model_name": "HBoxModel",
      "state": {
       "children": [
        "IPY_MODEL_80ffe3bca60d40888c453aff2446492b",
        "IPY_MODEL_ba0d5adb30b0451bbbf028b874ffbe95"
       ],
       "layout": "IPY_MODEL_1ec78a452c8b446eaf2685b484beb11b"
      }
     },
     "0691da5be500433d8f509d281de9f5a8": {
      "model_module": "@jupyter-widgets/base",
      "model_module_version": "1.2.0",
      "model_name": "LayoutModel",
      "state": {}
     },
     "0692352873b3401ca1c267004940937a": {
      "model_module": "@jupyter-widgets/controls",
      "model_module_version": "1.5.0",
      "model_name": "HTMLModel",
      "state": {
       "layout": "IPY_MODEL_11523bc69ecb431c85564a56807af48e",
       "style": "IPY_MODEL_ae653311c7b94ddfb3e3d4d89ec76a40",
       "value": " 27/27 [00:37&lt;00:00,  1.40s/it]"
      }
     },
     "075c1edccd4445c9b1f82c893b6415de": {
      "model_module": "@jupyter-widgets/base",
      "model_module_version": "1.2.0",
      "model_name": "LayoutModel",
      "state": {}
     },
     "0836a379366d4fb4ba648c3b36232b1d": {
      "model_module": "@jupyter-widgets/controls",
      "model_module_version": "1.5.0",
      "model_name": "FloatProgressModel",
      "state": {
       "bar_style": "success",
       "description": "100%",
       "layout": "IPY_MODEL_2971d7bfb9b24f67af161de4412aa169",
       "max": 193822720,
       "style": "IPY_MODEL_8275782d30a743fdbbc74275e2da7e7b",
       "value": 193822720
      }
     },
     "08b8dbbd63cd4f5ea5a7bb392ffc5a42": {
      "model_module": "@jupyter-widgets/controls",
      "model_module_version": "1.5.0",
      "model_name": "HBoxModel",
      "state": {
       "children": [
        "IPY_MODEL_593d1d8c0d6040f4ac5a4b4278b596b3",
        "IPY_MODEL_f26f8c0695784f50ac195d40e5651b62"
       ],
       "layout": "IPY_MODEL_f7b082ee83314114bf26243961188ea8"
      }
     },
     "09483f8008d341ee94b77ae92d15e338": {
      "model_module": "@jupyter-widgets/controls",
      "model_module_version": "1.5.0",
      "model_name": "HBoxModel",
      "state": {
       "children": [
        "IPY_MODEL_b5d2c14bf7c44d49b8b2cc2ef31100c5",
        "IPY_MODEL_1f8aac4950124101b9a37eb4a0b05e97"
       ],
       "layout": "IPY_MODEL_dfc734f0e3ca497986e4e02f75c639c8"
      }
     },
     "09d0e32f2abf4955b90d11ff6b1a7a8c": {
      "model_module": "@jupyter-widgets/base",
      "model_module_version": "1.2.0",
      "model_name": "LayoutModel",
      "state": {}
     },
     "0a2adcfee9524fe6a115f681b1b4e7f4": {
      "model_module": "@jupyter-widgets/controls",
      "model_module_version": "1.5.0",
      "model_name": "DescriptionStyleModel",
      "state": {
       "description_width": ""
      }
     },
     "0b34d14952654ef7962289a1bca58613": {
      "model_module": "@jupyter-widgets/controls",
      "model_module_version": "1.5.0",
      "model_name": "ProgressStyleModel",
      "state": {
       "description_width": "initial"
      }
     },
     "0b41268b8b5c4da283ef40c9917ab64c": {
      "model_module": "@jupyter-widgets/controls",
      "model_module_version": "1.5.0",
      "model_name": "HTMLModel",
      "state": {
       "layout": "IPY_MODEL_ea1109e5e9bf479da332ef92c39f672c",
       "style": "IPY_MODEL_d81634dcd59b4167b2de45613b04d6e7",
       "value": " 193822720/193822720 [26:04&lt;00:00, 123902.03it/s]"
      }
     },
     "0ba7fb75ffce4b42918b5399e0548a07": {
      "model_module": "@jupyter-widgets/controls",
      "model_module_version": "1.5.0",
      "model_name": "HBoxModel",
      "state": {
       "children": [
        "IPY_MODEL_b836e96f9e864916b20d4027a29cf294",
        "IPY_MODEL_60fd1388f3b345d7b920914e23c9e4de"
       ],
       "layout": "IPY_MODEL_8e17312b5f6c4769bf0fe5307123b32c"
      }
     },
     "0bab5e98d7dc41cb92f8edf81e7694ca": {
      "model_module": "@jupyter-widgets/controls",
      "model_module_version": "1.5.0",
      "model_name": "FloatProgressModel",
      "state": {
       "bar_style": "danger",
       "description": "  0%",
       "layout": "IPY_MODEL_96397b93fe114340b06354788dfa857b",
       "max": 9464,
       "style": "IPY_MODEL_ea0ca08b238a4a5b97322dd03a5db925"
      }
     },
     "0c891dfb6b5140b2aca801125e822615": {
      "model_module": "@jupyter-widgets/controls",
      "model_module_version": "1.5.0",
      "model_name": "HTMLModel",
      "state": {
       "layout": "IPY_MODEL_3a2bcb1417f8434abb711f0c0033bb78",
       "style": "IPY_MODEL_85eceae03ef84ad5a8d071d0a4961ca9",
       "value": " 27/27 [08:15&lt;00:00, 18.33s/it]"
      }
     },
     "0c8dca698ef344be8f91fa440b0bb7f4": {
      "model_module": "@jupyter-widgets/controls",
      "model_module_version": "1.5.0",
      "model_name": "DescriptionStyleModel",
      "state": {
       "description_width": ""
      }
     },
     "0c97ee13d023477ea7aa694dfab55bef": {
      "model_module": "@jupyter-widgets/base",
      "model_module_version": "1.2.0",
      "model_name": "LayoutModel",
      "state": {}
     },
     "0cd507b99f6e441abdbe5f53dba24453": {
      "model_module": "@jupyter-widgets/controls",
      "model_module_version": "1.5.0",
      "model_name": "FloatProgressModel",
      "state": {
       "bar_style": "success",
       "description": "100%",
       "layout": "IPY_MODEL_8c25e9eda3e048feb75550bb8023421c",
       "max": 27,
       "style": "IPY_MODEL_e6ff2fa868ba43f699bf18a93f88d1e6",
       "value": 27
      }
     },
     "0d2ea42a5dd040d2b45e704b9305ee1b": {
      "model_module": "@jupyter-widgets/base",
      "model_module_version": "1.2.0",
      "model_name": "LayoutModel",
      "state": {}
     },
     "0d9a6b1a877a43698bbd45ccf6d7b1de": {
      "model_module": "@jupyter-widgets/base",
      "model_module_version": "1.2.0",
      "model_name": "LayoutModel",
      "state": {}
     },
     "0dc2538a3ead42beaea08f7beda0100c": {
      "model_module": "@jupyter-widgets/base",
      "model_module_version": "1.2.0",
      "model_name": "LayoutModel",
      "state": {}
     },
     "0e7b7ace5a3742cfb0f499f047ac6335": {
      "model_module": "@jupyter-widgets/base",
      "model_module_version": "1.2.0",
      "model_name": "LayoutModel",
      "state": {}
     },
     "0edd24e275e64cbb8e5c1f8e8b015946": {
      "model_module": "@jupyter-widgets/controls",
      "model_module_version": "1.5.0",
      "model_name": "FloatProgressModel",
      "state": {
       "bar_style": "success",
       "description": "100%",
       "layout": "IPY_MODEL_bb12fb53f40c470890e9b9ed1950a067",
       "max": 27,
       "style": "IPY_MODEL_37ec23a8c25549f19f5dfa40da32caf0",
       "value": 27
      }
     },
     "0f1ce51e65ac442483370749ac93fa25": {
      "model_module": "@jupyter-widgets/controls",
      "model_module_version": "1.5.0",
      "model_name": "HBoxModel",
      "state": {
       "children": [
        "IPY_MODEL_7ee57dd874834e5c9e22b3c8de8034dd",
        "IPY_MODEL_640bce0c2bc44cbcb0aca4d71bd344c2"
       ],
       "layout": "IPY_MODEL_268f2deef90b4c12bfc4e899255215b8"
      }
     },
     "0f4edfbf9b4b4e8e97d187a171e3c8af": {
      "model_module": "@jupyter-widgets/base",
      "model_module_version": "1.2.0",
      "model_name": "LayoutModel",
      "state": {}
     },
     "0fe41e8c73e4461d81cfd3191e9349e4": {
      "model_module": "@jupyter-widgets/controls",
      "model_module_version": "1.5.0",
      "model_name": "FloatProgressModel",
      "state": {
       "bar_style": "success",
       "description": "100%",
       "layout": "IPY_MODEL_4ea1e17f131847869c736f4d4f496616",
       "max": 9464,
       "style": "IPY_MODEL_8fbf287462924abcad9866ffeeed2bd7",
       "value": 9464
      }
     },
     "1019b3c66f6f40ee8b78aa950264ff65": {
      "model_module": "@jupyter-widgets/controls",
      "model_module_version": "1.5.0",
      "model_name": "ProgressStyleModel",
      "state": {
       "description_width": "initial"
      }
     },
     "101f286306a340feaeb49b6d8cfba1b0": {
      "model_module": "@jupyter-widgets/base",
      "model_module_version": "1.2.0",
      "model_name": "LayoutModel",
      "state": {}
     },
     "114780df94c141739ded826fe940c884": {
      "model_module": "@jupyter-widgets/base",
      "model_module_version": "1.2.0",
      "model_name": "LayoutModel",
      "state": {}
     },
     "11523bc69ecb431c85564a56807af48e": {
      "model_module": "@jupyter-widgets/base",
      "model_module_version": "1.2.0",
      "model_name": "LayoutModel",
      "state": {}
     },
     "11bd0e50324a4f13901b670dee79cb1f": {
      "model_module": "@jupyter-widgets/controls",
      "model_module_version": "1.5.0",
      "model_name": "FloatProgressModel",
      "state": {
       "bar_style": "success",
       "description": "100%",
       "layout": "IPY_MODEL_37c925404adc432fb0397cff95664ad9",
       "max": 27,
       "style": "IPY_MODEL_851ea23636eb4c2a8c33b553b78acbe4",
       "value": 27
      }
     },
     "121cf2e4eb5241c6b63fe530e495c4cc": {
      "model_module": "@jupyter-widgets/controls",
      "model_module_version": "1.5.0",
      "model_name": "DescriptionStyleModel",
      "state": {
       "description_width": ""
      }
     },
     "12cc4800dce64debaa964f218666a82b": {
      "model_module": "@jupyter-widgets/controls",
      "model_module_version": "1.5.0",
      "model_name": "ProgressStyleModel",
      "state": {
       "description_width": "initial"
      }
     },
     "12f95bf4e0654b669dc13d5959ac86bf": {
      "model_module": "@jupyter-widgets/base",
      "model_module_version": "1.2.0",
      "model_name": "LayoutModel",
      "state": {}
     },
     "1355acaea1f94777aa8697871afae8e7": {
      "model_module": "@jupyter-widgets/controls",
      "model_module_version": "1.5.0",
      "model_name": "HBoxModel",
      "state": {
       "children": [
        "IPY_MODEL_f4f602ac2cb14dab9049426dd702ead5",
        "IPY_MODEL_c736297940484283be7cee26886da0f6"
       ],
       "layout": "IPY_MODEL_50ba3fd714734891a72a4b9d6f9e561c"
      }
     },
     "14167f06f4af4b358a9842914c791569": {
      "model_module": "@jupyter-widgets/controls",
      "model_module_version": "1.5.0",
      "model_name": "DescriptionStyleModel",
      "state": {
       "description_width": ""
      }
     },
     "14264e1d906b47068666847da3755ff2": {
      "model_module": "@jupyter-widgets/controls",
      "model_module_version": "1.5.0",
      "model_name": "HTMLModel",
      "state": {
       "layout": "IPY_MODEL_ec43c063f83f444f8dc80f1884c7ba4f",
       "style": "IPY_MODEL_04258851fc6647cdabfada29f612b26b",
       "value": " 27/27 [10:08&lt;00:00, 22.53s/it]"
      }
     },
     "15011b6c2aa04f158c7203cc55653c8c": {
      "model_module": "@jupyter-widgets/controls",
      "model_module_version": "1.5.0",
      "model_name": "ProgressStyleModel",
      "state": {
       "description_width": "initial"
      }
     },
     "153e9a80469b4a74b3e41b5f2ca97df2": {
      "model_module": "@jupyter-widgets/controls",
      "model_module_version": "1.5.0",
      "model_name": "DescriptionStyleModel",
      "state": {
       "description_width": ""
      }
     },
     "154e381e798248c68b0c5305349dfdfe": {
      "model_module": "@jupyter-widgets/controls",
      "model_module_version": "1.5.0",
      "model_name": "HBoxModel",
      "state": {
       "children": [
        "IPY_MODEL_64965470e9bd4a209b45b389922816f1",
        "IPY_MODEL_0692352873b3401ca1c267004940937a"
       ],
       "layout": "IPY_MODEL_9f94b81126b949688a232dfbc909a45f"
      }
     },
     "15d37b9afb7043508d3e344620c4d6f0": {
      "model_module": "@jupyter-widgets/controls",
      "model_module_version": "1.5.0",
      "model_name": "ProgressStyleModel",
      "state": {
       "description_width": "initial"
      }
     },
     "160341f5cabe4dc08ae295a3eca28e8d": {
      "model_module": "@jupyter-widgets/controls",
      "model_module_version": "1.5.0",
      "model_name": "ProgressStyleModel",
      "state": {
       "description_width": "initial"
      }
     },
     "167df5bd620844cc8ec13dfb6b2eb4a4": {
      "model_module": "@jupyter-widgets/controls",
      "model_module_version": "1.5.0",
      "model_name": "FloatProgressModel",
      "state": {
       "bar_style": "info",
       "layout": "IPY_MODEL_7c128df7b4fc4e7ab51f2e01957aba4f",
       "max": 1,
       "style": "IPY_MODEL_2b3d5871020d44dcb2dcbbb555208e0d"
      }
     },
     "1689477bd77345ffb5c69b56d604696b": {
      "model_module": "@jupyter-widgets/controls",
      "model_module_version": "1.5.0",
      "model_name": "ProgressStyleModel",
      "state": {
       "description_width": "initial"
      }
     },
     "16a2c257d9504944927080f153f4e494": {
      "model_module": "@jupyter-widgets/base",
      "model_module_version": "1.2.0",
      "model_name": "LayoutModel",
      "state": {}
     },
     "16f69ad3531c473d948e75efbd3204ec": {
      "model_module": "@jupyter-widgets/base",
      "model_module_version": "1.2.0",
      "model_name": "LayoutModel",
      "state": {}
     },
     "1715f0c84cbd478fb4d74e8a0a77ce0d": {
      "model_module": "@jupyter-widgets/controls",
      "model_module_version": "1.5.0",
      "model_name": "HTMLModel",
      "state": {
       "layout": "IPY_MODEL_8bf916593c8044beb6f5fd42cc6e7ab1",
       "style": "IPY_MODEL_ee67f556938c4a068ee635c9203c794a",
       "value": " 193820000/193822720 [27:53&lt;00:00, 115782.85it/s]"
      }
     },
     "17728a98d01b42bea84c2cc3144baae2": {
      "model_module": "@jupyter-widgets/controls",
      "model_module_version": "1.5.0",
      "model_name": "FloatProgressModel",
      "state": {
       "bar_style": "info",
       "layout": "IPY_MODEL_298bef7a4f194b6ca13048b358d22d8e",
       "max": 1,
       "style": "IPY_MODEL_b16d894dfa394e56bb9392a05bcf8f6b"
      }
     },
     "18324c961a544fca8e397a08169b7dbb": {
      "model_module": "@jupyter-widgets/base",
      "model_module_version": "1.2.0",
      "model_name": "LayoutModel",
      "state": {}
     },
     "185aea93085e43efa34208d33fdc8248": {
      "model_module": "@jupyter-widgets/controls",
      "model_module_version": "1.5.0",
      "model_name": "HBoxModel",
      "state": {
       "children": [
        "IPY_MODEL_eff96eeb647f4b469141e4671ecf04e8",
        "IPY_MODEL_7e77cbe5b5e3489ebcb06050e3e46bae"
       ],
       "layout": "IPY_MODEL_a69f7ef8e3e24981b92eebbfd0fcee17"
      }
     },
     "1900b82d4650446f867d9bb1b2f09339": {
      "model_module": "@jupyter-widgets/controls",
      "model_module_version": "1.5.0",
      "model_name": "DescriptionStyleModel",
      "state": {
       "description_width": ""
      }
     },
     "193b33d13afb48f4b73ef271f32e81c9": {
      "model_module": "@jupyter-widgets/base",
      "model_module_version": "1.2.0",
      "model_name": "LayoutModel",
      "state": {}
     },
     "196ce683bee343b2b477b62b75f3f400": {
      "model_module": "@jupyter-widgets/controls",
      "model_module_version": "1.5.0",
      "model_name": "FloatProgressModel",
      "state": {
       "bar_style": "success",
       "description": "100%",
       "layout": "IPY_MODEL_566b029e1786426ab5683198e89f7955",
       "max": 27,
       "style": "IPY_MODEL_ebd02b5a54f746f980b195676e7f6e06",
       "value": 27
      }
     },
     "1971a2da6e594277a301229430947ff1": {
      "model_module": "@jupyter-widgets/controls",
      "model_module_version": "1.5.0",
      "model_name": "HBoxModel",
      "state": {
       "children": [
        "IPY_MODEL_19ccf636adf64fb3a2931c44913a291a",
        "IPY_MODEL_9f9dfeba731c4c3cb77eff1d58f992d9"
       ],
       "layout": "IPY_MODEL_72e6a8bea0b747bfbb16806a65c7c5b6"
      }
     },
     "19b168bcc365499ea1c13c6c1ab7cf9b": {
      "model_module": "@jupyter-widgets/controls",
      "model_module_version": "1.5.0",
      "model_name": "HBoxModel",
      "state": {
       "children": [
        "IPY_MODEL_f5821835f1d54d95a9b4c088c8c16865",
        "IPY_MODEL_5056def0ca57416892b08dc6e199ac93"
       ],
       "layout": "IPY_MODEL_04977136fe1c44b8b987aea68eff3a2e"
      }
     },
     "19ccf636adf64fb3a2931c44913a291a": {
      "model_module": "@jupyter-widgets/controls",
      "model_module_version": "1.5.0",
      "model_name": "FloatProgressModel",
      "state": {
       "bar_style": "danger",
       "description": "  2%",
       "layout": "IPY_MODEL_3df79d9a019b4bfbaf491378c977be6a",
       "max": 9464,
       "style": "IPY_MODEL_a230e2f869224623a02ebd85b7f8cad3",
       "value": 161
      }
     },
     "1a447137e13f43ab8046ffbdb2f75efc": {
      "model_module": "@jupyter-widgets/controls",
      "model_module_version": "1.5.0",
      "model_name": "ProgressStyleModel",
      "state": {
       "description_width": "initial"
      }
     },
     "1a5bb349e0c14a7199a82832c147351b": {
      "model_module": "@jupyter-widgets/controls",
      "model_module_version": "1.5.0",
      "model_name": "DescriptionStyleModel",
      "state": {
       "description_width": ""
      }
     },
     "1a73fd5a84cd44bfa09a73eb1fce5cfe": {
      "model_module": "@jupyter-widgets/controls",
      "model_module_version": "1.5.0",
      "model_name": "FloatProgressModel",
      "state": {
       "bar_style": "success",
       "description": "100%",
       "layout": "IPY_MODEL_99a387e26f8241389bcc6f81add67aa5",
       "max": 27,
       "style": "IPY_MODEL_15011b6c2aa04f158c7203cc55653c8c",
       "value": 27
      }
     },
     "1b86f9d25ef24c5bba51df57461e4beb": {
      "model_module": "@jupyter-widgets/controls",
      "model_module_version": "1.5.0",
      "model_name": "ProgressStyleModel",
      "state": {
       "description_width": "initial"
      }
     },
     "1b9d3fe175904c4da9b5ce4236324bf8": {
      "model_module": "@jupyter-widgets/base",
      "model_module_version": "1.2.0",
      "model_name": "LayoutModel",
      "state": {}
     },
     "1ce8b7cfb751493180e87d5a66c208b3": {
      "model_module": "@jupyter-widgets/controls",
      "model_module_version": "1.5.0",
      "model_name": "HTMLModel",
      "state": {
       "layout": "IPY_MODEL_818fac90a4024dc793214da1dd3c2c40",
       "style": "IPY_MODEL_d18aea06368449fbba3d23a3f454bf9b",
       "value": " 0/9464 [46:15&lt;?, ?it/s]"
      }
     },
     "1d4b3ccd94ca41178bb9786316957932": {
      "model_module": "@jupyter-widgets/controls",
      "model_module_version": "1.5.0",
      "model_name": "ProgressStyleModel",
      "state": {
       "description_width": "initial"
      }
     },
     "1d6568e3ef074c75ad3f483c7ad66309": {
      "model_module": "@jupyter-widgets/base",
      "model_module_version": "1.2.0",
      "model_name": "LayoutModel",
      "state": {}
     },
     "1d75fd24a31f42f3b66c0ad3368396b1": {
      "model_module": "@jupyter-widgets/controls",
      "model_module_version": "1.5.0",
      "model_name": "DescriptionStyleModel",
      "state": {
       "description_width": ""
      }
     },
     "1d8ddbc5372842f982819bb96a384fda": {
      "model_module": "@jupyter-widgets/controls",
      "model_module_version": "1.5.0",
      "model_name": "HTMLModel",
      "state": {
       "layout": "IPY_MODEL_114780df94c141739ded826fe940c884",
       "style": "IPY_MODEL_5d03630fea154d1e8ca5397ccb41416b",
       "value": " 0/? [1:04:49&lt;?, ?it/s]"
      }
     },
     "1daf2465ec3b4e96922dffae1b1d58c9": {
      "model_module": "@jupyter-widgets/controls",
      "model_module_version": "1.5.0",
      "model_name": "DescriptionStyleModel",
      "state": {
       "description_width": ""
      }
     },
     "1e2b654757554d11a264c0b9f34fa71a": {
      "model_module": "@jupyter-widgets/controls",
      "model_module_version": "1.5.0",
      "model_name": "DescriptionStyleModel",
      "state": {
       "description_width": ""
      }
     },
     "1e46d81a2ea545a7a98749aa16611f55": {
      "model_module": "@jupyter-widgets/controls",
      "model_module_version": "1.5.0",
      "model_name": "ProgressStyleModel",
      "state": {
       "description_width": "initial"
      }
     },
     "1ec78a452c8b446eaf2685b484beb11b": {
      "model_module": "@jupyter-widgets/base",
      "model_module_version": "1.2.0",
      "model_name": "LayoutModel",
      "state": {}
     },
     "1f32c14ab218453e88a812f6f84791dd": {
      "model_module": "@jupyter-widgets/base",
      "model_module_version": "1.2.0",
      "model_name": "LayoutModel",
      "state": {}
     },
     "1f8aac4950124101b9a37eb4a0b05e97": {
      "model_module": "@jupyter-widgets/controls",
      "model_module_version": "1.5.0",
      "model_name": "HTMLModel",
      "state": {
       "layout": "IPY_MODEL_ad2df5f04f524bdc9ae9a9fe789d59a3",
       "style": "IPY_MODEL_ef1f1e1fd915444ab6d9bca4e7b0903b",
       "value": " 0/9464 [01:54&lt;?, ?it/s]"
      }
     },
     "203d836bb481443896b5e23460265c81": {
      "model_module": "@jupyter-widgets/controls",
      "model_module_version": "1.5.0",
      "model_name": "ProgressStyleModel",
      "state": {
       "description_width": "initial"
      }
     },
     "20a12b756334417d97ecee65236ddf8e": {
      "model_module": "@jupyter-widgets/base",
      "model_module_version": "1.2.0",
      "model_name": "LayoutModel",
      "state": {}
     },
     "20cfcc1f97e047dc8a58a48c41cde2d3": {
      "model_module": "@jupyter-widgets/controls",
      "model_module_version": "1.5.0",
      "model_name": "DescriptionStyleModel",
      "state": {
       "description_width": ""
      }
     },
     "211cd0d76414483d842d7d280c36c027": {
      "model_module": "@jupyter-widgets/controls",
      "model_module_version": "1.5.0",
      "model_name": "HBoxModel",
      "state": {
       "children": [
        "IPY_MODEL_2bceee1869964bc598e53c4ad50168e6",
        "IPY_MODEL_7ae39f4f36284b4e98aa6f32109cd9d4"
       ],
       "layout": "IPY_MODEL_ebab349263de4784be71a2373f021772"
      }
     },
     "2192ca030d12401f802b1548333fd00f": {
      "model_module": "@jupyter-widgets/controls",
      "model_module_version": "1.5.0",
      "model_name": "ProgressStyleModel",
      "state": {
       "description_width": "initial"
      }
     },
     "21ef4f2389a4411288dd0e7d4b244f0b": {
      "model_module": "@jupyter-widgets/base",
      "model_module_version": "1.2.0",
      "model_name": "LayoutModel",
      "state": {}
     },
     "2289db99df3149e1b05f11c771dc7c61": {
      "model_module": "@jupyter-widgets/controls",
      "model_module_version": "1.5.0",
      "model_name": "HTMLModel",
      "state": {
       "layout": "IPY_MODEL_51589fb652e14970bf18b17fe5f0d732",
       "style": "IPY_MODEL_153e9a80469b4a74b3e41b5f2ca97df2",
       "value": " 22/9464 [01:45&lt;12:34:46,  4.80s/it]"
      }
     },
     "229bbb46e18047c792f4f680d38c72cb": {
      "model_module": "@jupyter-widgets/controls",
      "model_module_version": "1.5.0",
      "model_name": "ProgressStyleModel",
      "state": {
       "description_width": "initial"
      }
     },
     "2392580fb635487b866591feed40f3c6": {
      "model_module": "@jupyter-widgets/controls",
      "model_module_version": "1.5.0",
      "model_name": "ProgressStyleModel",
      "state": {
       "description_width": "initial"
      }
     },
     "23f6e1d470d64a4ca1b0d5052961646f": {
      "model_module": "@jupyter-widgets/base",
      "model_module_version": "1.2.0",
      "model_name": "LayoutModel",
      "state": {}
     },
     "241cb0d030064cfd859db626e8dc4f50": {
      "model_module": "@jupyter-widgets/base",
      "model_module_version": "1.2.0",
      "model_name": "LayoutModel",
      "state": {}
     },
     "246f49f88dd3486caa879224d5500baa": {
      "model_module": "@jupyter-widgets/controls",
      "model_module_version": "1.5.0",
      "model_name": "ProgressStyleModel",
      "state": {
       "description_width": "initial"
      }
     },
     "2485b1549b3e414db290c0c84d491046": {
      "model_module": "@jupyter-widgets/controls",
      "model_module_version": "1.5.0",
      "model_name": "HBoxModel",
      "state": {
       "children": [
        "IPY_MODEL_bef5f6dfa6b6473b9d2709b8fe6ab85b",
        "IPY_MODEL_def82c6e64c047f2bfcd3545b4d45bf6"
       ],
       "layout": "IPY_MODEL_a835c957a412440a8e74c48419304f10"
      }
     },
     "2494b08ad1584b0abcaeb4652d906f20": {
      "model_module": "@jupyter-widgets/controls",
      "model_module_version": "1.5.0",
      "model_name": "FloatProgressModel",
      "state": {
       "bar_style": "success",
       "description": "100%",
       "layout": "IPY_MODEL_21ef4f2389a4411288dd0e7d4b244f0b",
       "max": 9464,
       "style": "IPY_MODEL_505b326342044ca59fea2d48486a9e29",
       "value": 9464
      }
     },
     "24bf8259ddae47549691e61144261013": {
      "model_module": "@jupyter-widgets/base",
      "model_module_version": "1.2.0",
      "model_name": "LayoutModel",
      "state": {}
     },
     "24e748025ae74d59a7257cd5f640255d": {
      "model_module": "@jupyter-widgets/controls",
      "model_module_version": "1.5.0",
      "model_name": "HTMLModel",
      "state": {
       "layout": "IPY_MODEL_b9b2e1fa6a0f43f1b61c5486fcc85a58",
       "style": "IPY_MODEL_cddbac1a56284c178c80587a12b087a6",
       "value": " 0/? [1:05:10&lt;?, ?it/s]"
      }
     },
     "2503901bc0cc49f4afa47910b2554d79": {
      "model_module": "@jupyter-widgets/controls",
      "model_module_version": "1.5.0",
      "model_name": "HBoxModel",
      "state": {
       "children": [
        "IPY_MODEL_d523e4873778487ea307e2e05eb38235",
        "IPY_MODEL_3381318ceaae40ba972f7c385ff14d85"
       ],
       "layout": "IPY_MODEL_7b97e98dd3a9476aafbec5f41ab7179b"
      }
     },
     "25e740f4a4b6459690f96271b1381f48": {
      "model_module": "@jupyter-widgets/base",
      "model_module_version": "1.2.0",
      "model_name": "LayoutModel",
      "state": {}
     },
     "2612db5e8c1b45f19affffeff4f68397": {
      "model_module": "@jupyter-widgets/controls",
      "model_module_version": "1.5.0",
      "model_name": "ProgressStyleModel",
      "state": {
       "description_width": "initial"
      }
     },
     "2683f26f2cf34a85a7f651172c7ec90c": {
      "model_module": "@jupyter-widgets/base",
      "model_module_version": "1.2.0",
      "model_name": "LayoutModel",
      "state": {}
     },
     "268f2deef90b4c12bfc4e899255215b8": {
      "model_module": "@jupyter-widgets/base",
      "model_module_version": "1.2.0",
      "model_name": "LayoutModel",
      "state": {}
     },
     "26b62cb37a2a4329bd30658ac6f498ed": {
      "model_module": "@jupyter-widgets/controls",
      "model_module_version": "1.5.0",
      "model_name": "FloatProgressModel",
      "state": {
       "bar_style": "success",
       "description": "100%",
       "layout": "IPY_MODEL_8671316f70834da4ba14eb6fa579448e",
       "max": 27,
       "style": "IPY_MODEL_a51538fb60544bafb36f6ea96b7a051f",
       "value": 27
      }
     },
     "27f5e7728ec54f1f995703611c0735c1": {
      "model_module": "@jupyter-widgets/controls",
      "model_module_version": "1.5.0",
      "model_name": "HBoxModel",
      "state": {
       "children": [
        "IPY_MODEL_507e65e3ae0549c9aae81638029fedda",
        "IPY_MODEL_d6c0fe94c1f442878c1d35f3ad3e0260"
       ],
       "layout": "IPY_MODEL_2e6dc5176b27406a8687ae9417cb60d4"
      }
     },
     "2872c53227424d42aadec4f3c3ad9fd8": {
      "model_module": "@jupyter-widgets/base",
      "model_module_version": "1.2.0",
      "model_name": "LayoutModel",
      "state": {}
     },
     "288e9beed7cf41c3a4a3d1c6dfa7184e": {
      "model_module": "@jupyter-widgets/controls",
      "model_module_version": "1.5.0",
      "model_name": "HBoxModel",
      "state": {
       "children": [
        "IPY_MODEL_4cba1617572a4bdb85d2cac11d8ce801",
        "IPY_MODEL_1ce8b7cfb751493180e87d5a66c208b3"
       ],
       "layout": "IPY_MODEL_da6f90a6cd184777b36dc157353af1e2"
      }
     },
     "29715531b61645bf874c16b5e7a4fff4": {
      "model_module": "@jupyter-widgets/base",
      "model_module_version": "1.2.0",
      "model_name": "LayoutModel",
      "state": {}
     },
     "2971d7bfb9b24f67af161de4412aa169": {
      "model_module": "@jupyter-widgets/base",
      "model_module_version": "1.2.0",
      "model_name": "LayoutModel",
      "state": {}
     },
     "298bef7a4f194b6ca13048b358d22d8e": {
      "model_module": "@jupyter-widgets/base",
      "model_module_version": "1.2.0",
      "model_name": "LayoutModel",
      "state": {}
     },
     "2aa1d8af8b9b4828b725f03c887b3574": {
      "model_module": "@jupyter-widgets/base",
      "model_module_version": "1.2.0",
      "model_name": "LayoutModel",
      "state": {}
     },
     "2b0317d95a3b46b19271b9afd991d125": {
      "model_module": "@jupyter-widgets/controls",
      "model_module_version": "1.5.0",
      "model_name": "DescriptionStyleModel",
      "state": {
       "description_width": ""
      }
     },
     "2b3d5871020d44dcb2dcbbb555208e0d": {
      "model_module": "@jupyter-widgets/controls",
      "model_module_version": "1.5.0",
      "model_name": "ProgressStyleModel",
      "state": {
       "description_width": "initial"
      }
     },
     "2b7cafb32bdf4c16b49e74a5e402f761": {
      "model_module": "@jupyter-widgets/base",
      "model_module_version": "1.2.0",
      "model_name": "LayoutModel",
      "state": {}
     },
     "2bcdac29c9e842bc8509afd791156a5d": {
      "model_module": "@jupyter-widgets/controls",
      "model_module_version": "1.5.0",
      "model_name": "DescriptionStyleModel",
      "state": {
       "description_width": ""
      }
     },
     "2bceee1869964bc598e53c4ad50168e6": {
      "model_module": "@jupyter-widgets/controls",
      "model_module_version": "1.5.0",
      "model_name": "FloatProgressModel",
      "state": {
       "bar_style": "success",
       "description": "100%",
       "layout": "IPY_MODEL_9a9448dbf5044db085b171ee79283cca",
       "max": 9464,
       "style": "IPY_MODEL_02c0f11def4a49b5a7400f7709ba44df",
       "value": 9464
      }
     },
     "2cad051d990a47628b077aaecf009198": {
      "model_module": "@jupyter-widgets/base",
      "model_module_version": "1.2.0",
      "model_name": "LayoutModel",
      "state": {}
     },
     "2dc537476772406c8bf57716fbc70bcb": {
      "model_module": "@jupyter-widgets/base",
      "model_module_version": "1.2.0",
      "model_name": "LayoutModel",
      "state": {}
     },
     "2e6dc5176b27406a8687ae9417cb60d4": {
      "model_module": "@jupyter-widgets/base",
      "model_module_version": "1.2.0",
      "model_name": "LayoutModel",
      "state": {}
     },
     "3048e3ea6d3f4260b8f69bb702a2c3d9": {
      "model_module": "@jupyter-widgets/controls",
      "model_module_version": "1.5.0",
      "model_name": "HTMLModel",
      "state": {
       "layout": "IPY_MODEL_693512d2830c4bf2a2feb91f7d0c4367",
       "style": "IPY_MODEL_78485ceb62d34e0186619581c49c2443",
       "value": " 27/27 [01:59&lt;00:00,  4.41s/it]"
      }
     },
     "30b4075074fc4559884cbc2fabf07cde": {
      "model_module": "@jupyter-widgets/controls",
      "model_module_version": "1.5.0",
      "model_name": "HBoxModel",
      "state": {
       "children": [
        "IPY_MODEL_d2fc94615583435bb1e4acc4933f3ca8",
        "IPY_MODEL_1715f0c84cbd478fb4d74e8a0a77ce0d"
       ],
       "layout": "IPY_MODEL_0e7b7ace5a3742cfb0f499f047ac6335"
      }
     },
     "30c4d695398d481faf9086d1b7020d61": {
      "model_module": "@jupyter-widgets/controls",
      "model_module_version": "1.5.0",
      "model_name": "DescriptionStyleModel",
      "state": {
       "description_width": ""
      }
     },
     "3118e1e1c58546318eaeb96d20a355cb": {
      "model_module": "@jupyter-widgets/base",
      "model_module_version": "1.2.0",
      "model_name": "LayoutModel",
      "state": {}
     },
     "3197a0f01e794ed584521c2e91ce6fa6": {
      "model_module": "@jupyter-widgets/controls",
      "model_module_version": "1.5.0",
      "model_name": "HTMLModel",
      "state": {
       "layout": "IPY_MODEL_74c0b6a55cf3435b90f9fb72c46d0030",
       "style": "IPY_MODEL_ce17922f245c49daabe2a129ed801875",
       "value": " 27/27 [01:18&lt;00:00,  2.90s/it]"
      }
     },
     "324c29310b3d489aaf26d08f0d9693ed": {
      "model_module": "@jupyter-widgets/base",
      "model_module_version": "1.2.0",
      "model_name": "LayoutModel",
      "state": {}
     },
     "3381318ceaae40ba972f7c385ff14d85": {
      "model_module": "@jupyter-widgets/controls",
      "model_module_version": "1.5.0",
      "model_name": "HTMLModel",
      "state": {
       "layout": "IPY_MODEL_c9244abcea9c4d7d9a1e996f9f9b97f7",
       "style": "IPY_MODEL_7b07da40b4bd4d4e9a3656fe2a95235b",
       "value": " 27/27 [00:38&lt;00:00,  1.41s/it]"
      }
     },
     "341cbffbb47b4f1da52ba891171599fb": {
      "model_module": "@jupyter-widgets/controls",
      "model_module_version": "1.5.0",
      "model_name": "HTMLModel",
      "state": {
       "layout": "IPY_MODEL_ca4bc03e0388499f8f5175f8cee9b37c",
       "style": "IPY_MODEL_bf1bdaa6f0254f51a2435cf719531fa3",
       "value": " 0/? [1:05:18&lt;?, ?it/s]"
      }
     },
     "348f7cfe11aa4759a78898f09a07eace": {
      "model_module": "@jupyter-widgets/base",
      "model_module_version": "1.2.0",
      "model_name": "LayoutModel",
      "state": {}
     },
     "350023bb663f4c098d26aaecf6c03167": {
      "model_module": "@jupyter-widgets/controls",
      "model_module_version": "1.5.0",
      "model_name": "HBoxModel",
      "state": {
       "children": [
        "IPY_MODEL_0bab5e98d7dc41cb92f8edf81e7694ca",
        "IPY_MODEL_e010f20e60b7422fbf71c1ae0cdd3229"
       ],
       "layout": "IPY_MODEL_e68245b8a88845b583242c8b14dc326f"
      }
     },
     "351c38867732431b8f302e9368103dfd": {
      "model_module": "@jupyter-widgets/controls",
      "model_module_version": "1.5.0",
      "model_name": "ProgressStyleModel",
      "state": {
       "description_width": "initial"
      }
     },
     "35f3e0513b844c7a8914e29d36d0d5e6": {
      "model_module": "@jupyter-widgets/base",
      "model_module_version": "1.2.0",
      "model_name": "LayoutModel",
      "state": {}
     },
     "361d9c5101d0437abd28ff639923a9c5": {
      "model_module": "@jupyter-widgets/controls",
      "model_module_version": "1.5.0",
      "model_name": "DescriptionStyleModel",
      "state": {
       "description_width": ""
      }
     },
     "3667daf93f6842a19559701ca4a14b9c": {
      "model_module": "@jupyter-widgets/controls",
      "model_module_version": "1.5.0",
      "model_name": "FloatProgressModel",
      "state": {
       "bar_style": "danger",
       "description": "  0%",
       "layout": "IPY_MODEL_3edef4689124493db814e3c221007677",
       "max": 9464,
       "style": "IPY_MODEL_88241bd9eebb496b99893af9699b8553"
      }
     },
     "367fbf8a16a746cb8533b4529acf6987": {
      "model_module": "@jupyter-widgets/controls",
      "model_module_version": "1.5.0",
      "model_name": "FloatProgressModel",
      "state": {
       "bar_style": "info",
       "layout": "IPY_MODEL_20a12b756334417d97ecee65236ddf8e",
       "max": 1,
       "style": "IPY_MODEL_2392580fb635487b866591feed40f3c6"
      }
     },
     "371ad16a9c544c609df90d250cd53b52": {
      "model_module": "@jupyter-widgets/controls",
      "model_module_version": "1.5.0",
      "model_name": "HTMLModel",
      "state": {
       "layout": "IPY_MODEL_d9cfcf987c064e8e8b6fea739ecb120c",
       "style": "IPY_MODEL_e755952164ab4eeca343f6f9de33b003",
       "value": " 27/27 [11:29&lt;00:00, 25.53s/it]"
      }
     },
     "37aca47a82324b8980614f6ce497e852": {
      "model_module": "@jupyter-widgets/controls",
      "model_module_version": "1.5.0",
      "model_name": "ProgressStyleModel",
      "state": {
       "description_width": "initial"
      }
     },
     "37bdf0b8e9a243ffbcc75c2e742bbd07": {
      "model_module": "@jupyter-widgets/controls",
      "model_module_version": "1.5.0",
      "model_name": "ProgressStyleModel",
      "state": {
       "description_width": "initial"
      }
     },
     "37c925404adc432fb0397cff95664ad9": {
      "model_module": "@jupyter-widgets/base",
      "model_module_version": "1.2.0",
      "model_name": "LayoutModel",
      "state": {}
     },
     "37ec23a8c25549f19f5dfa40da32caf0": {
      "model_module": "@jupyter-widgets/controls",
      "model_module_version": "1.5.0",
      "model_name": "ProgressStyleModel",
      "state": {
       "description_width": "initial"
      }
     },
     "37f48d30168745c29f01f787487c0c2b": {
      "model_module": "@jupyter-widgets/base",
      "model_module_version": "1.2.0",
      "model_name": "LayoutModel",
      "state": {}
     },
     "3849d8f34f1e4fc0991f86b0baddbb26": {
      "model_module": "@jupyter-widgets/controls",
      "model_module_version": "1.5.0",
      "model_name": "HBoxModel",
      "state": {
       "children": [
        "IPY_MODEL_1a73fd5a84cd44bfa09a73eb1fce5cfe",
        "IPY_MODEL_b07403a68be74109932df45a4a2ed8c7"
       ],
       "layout": "IPY_MODEL_e66a47c4567a48dca6e51ab76740dbd9"
      }
     },
     "384bf5008e20404a92ec8dee051e833b": {
      "model_module": "@jupyter-widgets/base",
      "model_module_version": "1.2.0",
      "model_name": "LayoutModel",
      "state": {}
     },
     "385db967ff4c4373adbdf7c6b4658b76": {
      "model_module": "@jupyter-widgets/controls",
      "model_module_version": "1.5.0",
      "model_name": "HBoxModel",
      "state": {
       "children": [
        "IPY_MODEL_6241f2fd482d4e0fbc6658d77d068fd6",
        "IPY_MODEL_8a7ec38dc0ca4e7d9755837500649083"
       ],
       "layout": "IPY_MODEL_72e6d9ffd4e34f0aa84a654a93f0f3ce"
      }
     },
     "38fa815cbea94d7da6b8eb6402c129f7": {
      "model_module": "@jupyter-widgets/base",
      "model_module_version": "1.2.0",
      "model_name": "LayoutModel",
      "state": {}
     },
     "3903f5b5fccf48d48c4c1924e95dc2f5": {
      "model_module": "@jupyter-widgets/base",
      "model_module_version": "1.2.0",
      "model_name": "LayoutModel",
      "state": {}
     },
     "396d74788f91469da5fc043795421770": {
      "model_module": "@jupyter-widgets/base",
      "model_module_version": "1.2.0",
      "model_name": "LayoutModel",
      "state": {}
     },
     "396f03b988e14428964b1702ca79f1bd": {
      "model_module": "@jupyter-widgets/base",
      "model_module_version": "1.2.0",
      "model_name": "LayoutModel",
      "state": {}
     },
     "3a2bcb1417f8434abb711f0c0033bb78": {
      "model_module": "@jupyter-widgets/base",
      "model_module_version": "1.2.0",
      "model_name": "LayoutModel",
      "state": {}
     },
     "3ae66fd2047d488ab6f35bf103c24d6d": {
      "model_module": "@jupyter-widgets/base",
      "model_module_version": "1.2.0",
      "model_name": "LayoutModel",
      "state": {}
     },
     "3ae7824417d44148867dc7c591ae58fc": {
      "model_module": "@jupyter-widgets/controls",
      "model_module_version": "1.5.0",
      "model_name": "DescriptionStyleModel",
      "state": {
       "description_width": ""
      }
     },
     "3bfeda3da97b4730b828a9fd10c67b1d": {
      "model_module": "@jupyter-widgets/base",
      "model_module_version": "1.2.0",
      "model_name": "LayoutModel",
      "state": {}
     },
     "3c24c177fd0f4ef782221c0eaa6ed4f0": {
      "model_module": "@jupyter-widgets/controls",
      "model_module_version": "1.5.0",
      "model_name": "FloatProgressModel",
      "state": {
       "bar_style": "danger",
       "description": "  0%",
       "layout": "IPY_MODEL_b55853faf75b4801987751a50f640178",
       "max": 27,
       "style": "IPY_MODEL_15d37b9afb7043508d3e344620c4d6f0"
      }
     },
     "3c4001a9ef764370b38a6739b6475994": {
      "model_module": "@jupyter-widgets/controls",
      "model_module_version": "1.5.0",
      "model_name": "FloatProgressModel",
      "state": {
       "bar_style": "success",
       "description": "100%",
       "layout": "IPY_MODEL_bd9a7edf48ba4af1a472a0b0e446b493",
       "max": 27,
       "style": "IPY_MODEL_4720c027355941398f239676052cc195",
       "value": 27
      }
     },
     "3c4d2609ccdd440f9dfb3c4136200840": {
      "model_module": "@jupyter-widgets/controls",
      "model_module_version": "1.5.0",
      "model_name": "DescriptionStyleModel",
      "state": {
       "description_width": ""
      }
     },
     "3c60b8bacd864e868f33c94ab938d8f3": {
      "model_module": "@jupyter-widgets/controls",
      "model_module_version": "1.5.0",
      "model_name": "FloatProgressModel",
      "state": {
       "bar_style": "danger",
       "description": "  0%",
       "layout": "IPY_MODEL_95926672ca664feeafd37ca8d463b1f4",
       "max": 9464,
       "style": "IPY_MODEL_1689477bd77345ffb5c69b56d604696b",
       "value": 22
      }
     },
     "3c7458e86537448f862f6c7938713576": {
      "model_module": "@jupyter-widgets/controls",
      "model_module_version": "1.5.0",
      "model_name": "HBoxModel",
      "state": {
       "children": [
        "IPY_MODEL_757278d950c64d36918f96fce423b669",
        "IPY_MODEL_990cfff8e40d45d194243b73070b9cae"
       ],
       "layout": "IPY_MODEL_9460136639454fa7b815286e858396ad"
      }
     },
     "3cbcc5cd25184f66a253d5f62e4423fb": {
      "model_module": "@jupyter-widgets/controls",
      "model_module_version": "1.5.0",
      "model_name": "ProgressStyleModel",
      "state": {
       "description_width": "initial"
      }
     },
     "3d60f496c6444dbd94db8ea692405cde": {
      "model_module": "@jupyter-widgets/controls",
      "model_module_version": "1.5.0",
      "model_name": "HBoxModel",
      "state": {
       "children": [
        "IPY_MODEL_f6903eab09d84f7ebab36ad7e0b781c0",
        "IPY_MODEL_14264e1d906b47068666847da3755ff2"
       ],
       "layout": "IPY_MODEL_cab5399fd74143389be7c4c1ebddec35"
      }
     },
     "3df2bfcb5c6947aa81d62487c3e1cd77": {
      "model_module": "@jupyter-widgets/controls",
      "model_module_version": "1.5.0",
      "model_name": "FloatProgressModel",
      "state": {
       "bar_style": "danger",
       "description": "  2%",
       "layout": "IPY_MODEL_eb0a5a28182a428bb2c68c91328aa480",
       "max": 193822720,
       "style": "IPY_MODEL_f91171f724894edead34cd4be06a1eb0",
       "value": 4670000
      }
     },
     "3df79d9a019b4bfbaf491378c977be6a": {
      "model_module": "@jupyter-widgets/base",
      "model_module_version": "1.2.0",
      "model_name": "LayoutModel",
      "state": {}
     },
     "3e33fc40572a4999bb911ae6ea25f070": {
      "model_module": "@jupyter-widgets/base",
      "model_module_version": "1.2.0",
      "model_name": "LayoutModel",
      "state": {}
     },
     "3ec8b0848b0143268171c09efe3be7ff": {
      "model_module": "@jupyter-widgets/controls",
      "model_module_version": "1.5.0",
      "model_name": "DescriptionStyleModel",
      "state": {
       "description_width": ""
      }
     },
     "3edef4689124493db814e3c221007677": {
      "model_module": "@jupyter-widgets/base",
      "model_module_version": "1.2.0",
      "model_name": "LayoutModel",
      "state": {}
     },
     "3f0b78d8ddaf4f6d9210ed4d12a76409": {
      "model_module": "@jupyter-widgets/controls",
      "model_module_version": "1.5.0",
      "model_name": "HTMLModel",
      "state": {
       "layout": "IPY_MODEL_8a915071ad234961a97c134ebf1a4fee",
       "style": "IPY_MODEL_30c4d695398d481faf9086d1b7020d61",
       "value": " 27/27 [00:28&lt;00:00,  1.07s/it]"
      }
     },
     "40108521276c476cb92fc40519c86fc8": {
      "model_module": "@jupyter-widgets/controls",
      "model_module_version": "1.5.0",
      "model_name": "DescriptionStyleModel",
      "state": {
       "description_width": ""
      }
     },
     "4078373fc1ba403f87b27d7aafe375be": {
      "model_module": "@jupyter-widgets/controls",
      "model_module_version": "1.5.0",
      "model_name": "HBoxModel",
      "state": {
       "children": [
        "IPY_MODEL_778340acf4504872b0c4c9e5e121c551",
        "IPY_MODEL_7c766fcc0d76481eaa278f2a97d90380"
       ],
       "layout": "IPY_MODEL_e806152aaa824b808e02c3bac9ad1c43"
      }
     },
     "42b8c8d2d04c469a9200886867c89345": {
      "model_module": "@jupyter-widgets/controls",
      "model_module_version": "1.5.0",
      "model_name": "HTMLModel",
      "state": {
       "layout": "IPY_MODEL_bf4e3d91f55340fbb7b0475e81496a22",
       "style": "IPY_MODEL_40108521276c476cb92fc40519c86fc8",
       "value": " 4670000/193822720 [02:59&lt;2:01:07, 26026.96it/s]"
      }
     },
     "433b88c144524253992a78f4e69f7b28": {
      "model_module": "@jupyter-widgets/controls",
      "model_module_version": "1.5.0",
      "model_name": "HTMLModel",
      "state": {
       "layout": "IPY_MODEL_9338373d93084b64848f1438465326ad",
       "style": "IPY_MODEL_882d9c38bd1044b49abf3478e11eb0be",
       "value": " 0/0 [01:50&lt;?, ?it/s]"
      }
     },
     "4391d8a9724f46bfb766f94410f212f7": {
      "model_module": "@jupyter-widgets/base",
      "model_module_version": "1.2.0",
      "model_name": "LayoutModel",
      "state": {}
     },
     "453622e6373549dc8a8bc1d22b533c3c": {
      "model_module": "@jupyter-widgets/controls",
      "model_module_version": "1.5.0",
      "model_name": "ProgressStyleModel",
      "state": {
       "description_width": "initial"
      }
     },
     "462707aa52e84da8aa3e16371cffcf53": {
      "model_module": "@jupyter-widgets/base",
      "model_module_version": "1.2.0",
      "model_name": "LayoutModel",
      "state": {}
     },
     "4635a0f011104995b886e672a1f630bf": {
      "model_module": "@jupyter-widgets/base",
      "model_module_version": "1.2.0",
      "model_name": "LayoutModel",
      "state": {}
     },
     "46f2ccdf5d5c4ac9950620463bfb0e7c": {
      "model_module": "@jupyter-widgets/controls",
      "model_module_version": "1.5.0",
      "model_name": "HTMLModel",
      "state": {
       "layout": "IPY_MODEL_9c7eeb41ad2346059746a9abe58d45f5",
       "style": "IPY_MODEL_85f7f3c31ae1497b849ec4300780f533",
       "value": " 0/? [47:35&lt;?, ?it/s]"
      }
     },
     "4720c027355941398f239676052cc195": {
      "model_module": "@jupyter-widgets/controls",
      "model_module_version": "1.5.0",
      "model_name": "ProgressStyleModel",
      "state": {
       "description_width": "initial"
      }
     },
     "4769e8a26dc342dbad365923d3177ce2": {
      "model_module": "@jupyter-widgets/controls",
      "model_module_version": "1.5.0",
      "model_name": "ProgressStyleModel",
      "state": {
       "description_width": "initial"
      }
     },
     "47890a7ed42c4af2a1b93a5e164d2a4e": {
      "model_module": "@jupyter-widgets/controls",
      "model_module_version": "1.5.0",
      "model_name": "HTMLModel",
      "state": {
       "layout": "IPY_MODEL_4812831c86284c6692dfdee535410a51",
       "style": "IPY_MODEL_481e92f988de45cc982f31f0f8b84561",
       "value": " 0/? [1:07:39&lt;?, ?it/s]"
      }
     },
     "47ed48148ccb49899d57c9f1b5a6777a": {
      "model_module": "@jupyter-widgets/controls",
      "model_module_version": "1.5.0",
      "model_name": "HBoxModel",
      "state": {
       "children": [
        "IPY_MODEL_0fe41e8c73e4461d81cfd3191e9349e4",
        "IPY_MODEL_625eea1b0f2e4108b5a73b64aced0562"
       ],
       "layout": "IPY_MODEL_8f2180c0104345e3a7e34071ecf934b9"
      }
     },
     "4812831c86284c6692dfdee535410a51": {
      "model_module": "@jupyter-widgets/base",
      "model_module_version": "1.2.0",
      "model_name": "LayoutModel",
      "state": {}
     },
     "481e92f988de45cc982f31f0f8b84561": {
      "model_module": "@jupyter-widgets/controls",
      "model_module_version": "1.5.0",
      "model_name": "DescriptionStyleModel",
      "state": {
       "description_width": ""
      }
     },
     "48c5edefa690464d997f4bad1456156c": {
      "model_module": "@jupyter-widgets/controls",
      "model_module_version": "1.5.0",
      "model_name": "HBoxModel",
      "state": {
       "children": [
        "IPY_MODEL_c5a7d7af42284fe581332b5d1bb5de38",
        "IPY_MODEL_63f08fa8f0d446abb62bc6273ad54b3b"
       ],
       "layout": "IPY_MODEL_98644e1a4af644d799cc3f2c9a87550b"
      }
     },
     "48cbbc00406f414a83761d950010b2d8": {
      "model_module": "@jupyter-widgets/controls",
      "model_module_version": "1.5.0",
      "model_name": "HTMLModel",
      "state": {
       "layout": "IPY_MODEL_2aa1d8af8b9b4828b725f03c887b3574",
       "style": "IPY_MODEL_cc88121e2a51444ebf54168daa69e7e0",
       "value": " 27/27 [18:15&lt;00:00, 40.58s/it]"
      }
     },
     "4956a78809cf48b19dd1d36fa6ca588b": {
      "model_module": "@jupyter-widgets/controls",
      "model_module_version": "1.5.0",
      "model_name": "HBoxModel",
      "state": {
       "children": [
        "IPY_MODEL_847be183c7bd4368be41ae408fec3e26",
        "IPY_MODEL_5ae201eb310941c491a874f1b27d9059"
       ],
       "layout": "IPY_MODEL_49f9beca7d7347ceb36a33bddeb8dc17"
      }
     },
     "49f9beca7d7347ceb36a33bddeb8dc17": {
      "model_module": "@jupyter-widgets/base",
      "model_module_version": "1.2.0",
      "model_name": "LayoutModel",
      "state": {}
     },
     "4a11f582733d44b18fb265b322a18449": {
      "model_module": "@jupyter-widgets/controls",
      "model_module_version": "1.5.0",
      "model_name": "DescriptionStyleModel",
      "state": {
       "description_width": ""
      }
     },
     "4a25754241de449ca5ccff57133e435b": {
      "model_module": "@jupyter-widgets/base",
      "model_module_version": "1.2.0",
      "model_name": "LayoutModel",
      "state": {}
     },
     "4a5f5798777e493dbcd9c100d78e207c": {
      "model_module": "@jupyter-widgets/base",
      "model_module_version": "1.2.0",
      "model_name": "LayoutModel",
      "state": {}
     },
     "4b056ed89e6541af9cd45f64ea81309f": {
      "model_module": "@jupyter-widgets/controls",
      "model_module_version": "1.5.0",
      "model_name": "FloatProgressModel",
      "state": {
       "bar_style": "info",
       "layout": "IPY_MODEL_bc72e53f0b3e4c96b4617169de3f9dd5",
       "max": 1,
       "style": "IPY_MODEL_cf4ac109251749d0bed204a33ff97657"
      }
     },
     "4c1a591a8beb43a0865de5535a9f4ed9": {
      "model_module": "@jupyter-widgets/base",
      "model_module_version": "1.2.0",
      "model_name": "LayoutModel",
      "state": {}
     },
     "4cba1617572a4bdb85d2cac11d8ce801": {
      "model_module": "@jupyter-widgets/controls",
      "model_module_version": "1.5.0",
      "model_name": "FloatProgressModel",
      "state": {
       "bar_style": "danger",
       "description": "  0%",
       "layout": "IPY_MODEL_594433fb684449c9950da257ba1ace0d",
       "max": 9464,
       "style": "IPY_MODEL_9d62ba50fe4d4d6790576baee9418d27"
      }
     },
     "4d4fbbc4f9d9471a840e70d8b56a730b": {
      "model_module": "@jupyter-widgets/controls",
      "model_module_version": "1.5.0",
      "model_name": "HTMLModel",
      "state": {
       "layout": "IPY_MODEL_193b33d13afb48f4b73ef271f32e81c9",
       "style": "IPY_MODEL_dd1a6495876a4868a762df705258ade6",
       "value": " 27/27 [01:42&lt;00:00,  3.79s/it]"
      }
     },
     "4d797e7c30674920b5432841f6c0be13": {
      "model_module": "@jupyter-widgets/controls",
      "model_module_version": "1.5.0",
      "model_name": "HTMLModel",
      "state": {
       "layout": "IPY_MODEL_4a5f5798777e493dbcd9c100d78e207c",
       "style": "IPY_MODEL_ffcc152144674a189bad4a8be92d7d77",
       "value": " 552960/552960 [1:03:44&lt;00:00, 144.59it/s]"
      }
     },
     "4ea1e17f131847869c736f4d4f496616": {
      "model_module": "@jupyter-widgets/base",
      "model_module_version": "1.2.0",
      "model_name": "LayoutModel",
      "state": {}
     },
     "4f5868bc7d664e0a80f646542bc71f2b": {
      "model_module": "@jupyter-widgets/controls",
      "model_module_version": "1.5.0",
      "model_name": "DescriptionStyleModel",
      "state": {
       "description_width": ""
      }
     },
     "4f848fc3c7ee4e2faad1a405fe846db2": {
      "model_module": "@jupyter-widgets/controls",
      "model_module_version": "1.5.0",
      "model_name": "DescriptionStyleModel",
      "state": {
       "description_width": ""
      }
     },
     "4ff52997384246948dd7cb0866f7c786": {
      "model_module": "@jupyter-widgets/base",
      "model_module_version": "1.2.0",
      "model_name": "LayoutModel",
      "state": {}
     },
     "502c057e48e04a7dbb3eb632ae838b4a": {
      "model_module": "@jupyter-widgets/controls",
      "model_module_version": "1.5.0",
      "model_name": "FloatProgressModel",
      "state": {
       "bar_style": "info",
       "layout": "IPY_MODEL_384bf5008e20404a92ec8dee051e833b",
       "max": 1,
       "style": "IPY_MODEL_9e11014b86954851af93c770d8c9ec8a"
      }
     },
     "5056def0ca57416892b08dc6e199ac93": {
      "model_module": "@jupyter-widgets/controls",
      "model_module_version": "1.5.0",
      "model_name": "HTMLModel",
      "state": {
       "layout": "IPY_MODEL_d471893a85424ad7bfbda145eede7f82",
       "style": "IPY_MODEL_2bcdac29c9e842bc8509afd791156a5d",
       "value": " 0/27 [04:09&lt;?, ?it/s]"
      }
     },
     "505b326342044ca59fea2d48486a9e29": {
      "model_module": "@jupyter-widgets/controls",
      "model_module_version": "1.5.0",
      "model_name": "ProgressStyleModel",
      "state": {
       "description_width": "initial"
      }
     },
     "507e65e3ae0549c9aae81638029fedda": {
      "model_module": "@jupyter-widgets/controls",
      "model_module_version": "1.5.0",
      "model_name": "FloatProgressModel",
      "state": {
       "bar_style": "success",
       "description": "100%",
       "layout": "IPY_MODEL_9082fd1ec9564dbbaa8fb82344260c5b",
       "max": 27,
       "style": "IPY_MODEL_7132b68ccd39446e853688008513adcc",
       "value": 27
      }
     },
     "50aa3e4f97b842ff88c8f708c932fff5": {
      "model_module": "@jupyter-widgets/controls",
      "model_module_version": "1.5.0",
      "model_name": "HBoxModel",
      "state": {
       "children": [
        "IPY_MODEL_95e919d53a81470899d566917ccea033",
        "IPY_MODEL_6817214e5e654636a2586eaae3afdb29"
       ],
       "layout": "IPY_MODEL_7962897eaa254c80bddc5ec1aa962cc2"
      }
     },
     "50ba3fd714734891a72a4b9d6f9e561c": {
      "model_module": "@jupyter-widgets/base",
      "model_module_version": "1.2.0",
      "model_name": "LayoutModel",
      "state": {}
     },
     "50e73f3c534a4a6d9b1a5944b816f427": {
      "model_module": "@jupyter-widgets/controls",
      "model_module_version": "1.5.0",
      "model_name": "ProgressStyleModel",
      "state": {
       "description_width": "initial"
      }
     },
     "51384e52b0e7468082d37311b086939d": {
      "model_module": "@jupyter-widgets/controls",
      "model_module_version": "1.5.0",
      "model_name": "ProgressStyleModel",
      "state": {
       "description_width": "initial"
      }
     },
     "51589fb652e14970bf18b17fe5f0d732": {
      "model_module": "@jupyter-widgets/base",
      "model_module_version": "1.2.0",
      "model_name": "LayoutModel",
      "state": {}
     },
     "51927c49e7914552bfaccc8b678d2f66": {
      "model_module": "@jupyter-widgets/controls",
      "model_module_version": "1.5.0",
      "model_name": "HBoxModel",
      "state": {
       "children": [
        "IPY_MODEL_a2f86cc0ec7b41a9885706314d4ce436",
        "IPY_MODEL_011d34d0d6e141bd8ffa10623d4c23d9"
       ],
       "layout": "IPY_MODEL_03e55aa1d62041fd99eec7640c427e83"
      }
     },
     "51a0cff3c99d4de2a5fcbce29c1a33c0": {
      "model_module": "@jupyter-widgets/base",
      "model_module_version": "1.2.0",
      "model_name": "LayoutModel",
      "state": {}
     },
     "522ed26eaf074f62b2c993c740d507ef": {
      "model_module": "@jupyter-widgets/base",
      "model_module_version": "1.2.0",
      "model_name": "LayoutModel",
      "state": {}
     },
     "5247703209f04f17bd3144396fb6532f": {
      "model_module": "@jupyter-widgets/controls",
      "model_module_version": "1.5.0",
      "model_name": "FloatProgressModel",
      "state": {
       "bar_style": "info",
       "layout": "IPY_MODEL_7caf0745be8d41aeaf1ac7f9d0a1f043",
       "max": 1,
       "style": "IPY_MODEL_73ca5dc3e00b43778721e8c4ddccc0d4"
      }
     },
     "525416c82e3a484a85042a9adacd03ad": {
      "model_module": "@jupyter-widgets/controls",
      "model_module_version": "1.5.0",
      "model_name": "HBoxModel",
      "state": {
       "children": [
        "IPY_MODEL_2494b08ad1584b0abcaeb4652d906f20",
        "IPY_MODEL_7f85a3158f9d4ca98f9e3d30569ac5f8"
       ],
       "layout": "IPY_MODEL_73f480f1b8cb4d3588c7d047979ff989"
      }
     },
     "52bd5b927c8c4b5ca5facee082e32e9e": {
      "model_module": "@jupyter-widgets/base",
      "model_module_version": "1.2.0",
      "model_name": "LayoutModel",
      "state": {}
     },
     "52d7d9bb26a249bf9beb0b4cbc6abd3b": {
      "model_module": "@jupyter-widgets/controls",
      "model_module_version": "1.5.0",
      "model_name": "HBoxModel",
      "state": {
       "children": [
        "IPY_MODEL_d25e3a5fb3af42f4a9bb830fdcd1e2de",
        "IPY_MODEL_a99aa0e4a1314d2684ae1872d3f23026"
       ],
       "layout": "IPY_MODEL_075c1edccd4445c9b1f82c893b6415de"
      }
     },
     "53543231110248e9be948873c49e7851": {
      "model_module": "@jupyter-widgets/controls",
      "model_module_version": "1.5.0",
      "model_name": "ProgressStyleModel",
      "state": {
       "description_width": "initial"
      }
     },
     "536201d01c7b4332be3b5886b4841162": {
      "model_module": "@jupyter-widgets/controls",
      "model_module_version": "1.5.0",
      "model_name": "ProgressStyleModel",
      "state": {
       "description_width": "initial"
      }
     },
     "5364fa8dc47048089adf8cbb61c54cf7": {
      "model_module": "@jupyter-widgets/controls",
      "model_module_version": "1.5.0",
      "model_name": "ProgressStyleModel",
      "state": {
       "description_width": "initial"
      }
     },
     "537d8e11460148f0b4dda26a11300cd3": {
      "model_module": "@jupyter-widgets/base",
      "model_module_version": "1.2.0",
      "model_name": "LayoutModel",
      "state": {}
     },
     "537f8bb3ff974a6f917dd2e0ab3d2450": {
      "model_module": "@jupyter-widgets/base",
      "model_module_version": "1.2.0",
      "model_name": "LayoutModel",
      "state": {}
     },
     "5386b67f409a4808a85b5ea4022f846a": {
      "model_module": "@jupyter-widgets/controls",
      "model_module_version": "1.5.0",
      "model_name": "HTMLModel",
      "state": {
       "layout": "IPY_MODEL_85d3a65a790040249e91fbd2bd5f22bb",
       "style": "IPY_MODEL_1e2b654757554d11a264c0b9f34fa71a",
       "value": " 27/27 [00:55&lt;00:00,  2.05s/it]"
      }
     },
     "53cedda9bb984e3c9a4d6bf841c3be3c": {
      "model_module": "@jupyter-widgets/controls",
      "model_module_version": "1.5.0",
      "model_name": "FloatProgressModel",
      "state": {
       "bar_style": "danger",
       "description": "  0%",
       "layout": "IPY_MODEL_dc5a54d9776e4000ab979878f391ded0",
       "max": 9464,
       "style": "IPY_MODEL_4769e8a26dc342dbad365923d3177ce2",
       "value": 35
      }
     },
     "5497ed2efaf04999bd94e206e9f1ae04": {
      "model_module": "@jupyter-widgets/controls",
      "model_module_version": "1.5.0",
      "model_name": "ProgressStyleModel",
      "state": {
       "description_width": "initial"
      }
     },
     "5507276c37584c6fb86c32b94e3cc0ea": {
      "model_module": "@jupyter-widgets/base",
      "model_module_version": "1.2.0",
      "model_name": "LayoutModel",
      "state": {}
     },
     "5540dcf7e5f84106ad1ba7fdc45cddcc": {
      "model_module": "@jupyter-widgets/controls",
      "model_module_version": "1.5.0",
      "model_name": "FloatProgressModel",
      "state": {
       "bar_style": "success",
       "description": "100%",
       "layout": "IPY_MODEL_8d6081f9ca7244f19ef1c872635a9f88",
       "max": 552960,
       "style": "IPY_MODEL_7377bb3d6eff43f1af1a6a20ad9480c2",
       "value": 552960
      }
     },
     "55b2cd758ac044e38c7e393fae7ba998": {
      "model_module": "@jupyter-widgets/controls",
      "model_module_version": "1.5.0",
      "model_name": "HBoxModel",
      "state": {
       "children": [
        "IPY_MODEL_b0be05aa6e3d4fff9e9e24f3f08956eb",
        "IPY_MODEL_859e326e6c494db4bbf900a916bf3f55"
       ],
       "layout": "IPY_MODEL_2b7cafb32bdf4c16b49e74a5e402f761"
      }
     },
     "566b029e1786426ab5683198e89f7955": {
      "model_module": "@jupyter-widgets/base",
      "model_module_version": "1.2.0",
      "model_name": "LayoutModel",
      "state": {}
     },
     "56b97d3de5b64d0680686e7bb9d88ceb": {
      "model_module": "@jupyter-widgets/base",
      "model_module_version": "1.2.0",
      "model_name": "LayoutModel",
      "state": {}
     },
     "56d1fc1b1b6f43669bff3d676f449a55": {
      "model_module": "@jupyter-widgets/controls",
      "model_module_version": "1.5.0",
      "model_name": "ProgressStyleModel",
      "state": {
       "description_width": "initial"
      }
     },
     "57f035bf91d94edf9b073869f8dcc68b": {
      "model_module": "@jupyter-widgets/controls",
      "model_module_version": "1.5.0",
      "model_name": "DescriptionStyleModel",
      "state": {
       "description_width": ""
      }
     },
     "57f5fba622b3486f9afae4f9fafb5c40": {
      "model_module": "@jupyter-widgets/controls",
      "model_module_version": "1.5.0",
      "model_name": "ProgressStyleModel",
      "state": {
       "description_width": "initial"
      }
     },
     "583dca28a99244c3932a6e7f58f621e1": {
      "model_module": "@jupyter-widgets/controls",
      "model_module_version": "1.5.0",
      "model_name": "HBoxModel",
      "state": {
       "children": [
        "IPY_MODEL_f68a60ab492545fd9b995730f6b06b69",
        "IPY_MODEL_95ebe270d4374f068773ed617bdf3ddd"
       ],
       "layout": "IPY_MODEL_7a188bb7706f4cc6b020422a6a8e2d2a"
      }
     },
     "585d288b1491461694c7e2a369e4c54c": {
      "model_module": "@jupyter-widgets/controls",
      "model_module_version": "1.5.0",
      "model_name": "HTMLModel",
      "state": {
       "layout": "IPY_MODEL_6965f030431c482b8113ce5e07a842d7",
       "style": "IPY_MODEL_d6f30f66babf44c3be4d3d5b960aed9c",
       "value": " 0/9464 [01:27&lt;?, ?it/s]"
      }
     },
     "593d1d8c0d6040f4ac5a4b4278b596b3": {
      "model_module": "@jupyter-widgets/controls",
      "model_module_version": "1.5.0",
      "model_name": "FloatProgressModel",
      "state": {
       "bar_style": "danger",
       "description": "  0%",
       "layout": "IPY_MODEL_c04a4105eec74ed9bf93222055ba9fd4",
       "max": 9464,
       "style": "IPY_MODEL_0b34d14952654ef7962289a1bca58613"
      }
     },
     "594433fb684449c9950da257ba1ace0d": {
      "model_module": "@jupyter-widgets/base",
      "model_module_version": "1.2.0",
      "model_name": "LayoutModel",
      "state": {}
     },
     "59833cce9ac1454593b22a6fe5843be7": {
      "model_module": "@jupyter-widgets/base",
      "model_module_version": "1.2.0",
      "model_name": "LayoutModel",
      "state": {}
     },
     "5a4b30b3d04c48ffa78af1d530f7d074": {
      "model_module": "@jupyter-widgets/controls",
      "model_module_version": "1.5.0",
      "model_name": "DescriptionStyleModel",
      "state": {
       "description_width": ""
      }
     },
     "5a50219337434393a27c92b2a9040fda": {
      "model_module": "@jupyter-widgets/controls",
      "model_module_version": "1.5.0",
      "model_name": "DescriptionStyleModel",
      "state": {
       "description_width": ""
      }
     },
     "5aa5b2e4862f4e5bb211c8879bf0369d": {
      "model_module": "@jupyter-widgets/controls",
      "model_module_version": "1.5.0",
      "model_name": "HBoxModel",
      "state": {
       "children": [
        "IPY_MODEL_d3221247037844c5b5fa59276f034eb8",
        "IPY_MODEL_b6d39897accb442dbd9881b664879cfc"
       ],
       "layout": "IPY_MODEL_add30b98fd9f475a8fae40439c8b4eb4"
      }
     },
     "5aa9b7278b7e424786a5621ba2b6de74": {
      "model_module": "@jupyter-widgets/controls",
      "model_module_version": "1.5.0",
      "model_name": "HBoxModel",
      "state": {
       "children": [
        "IPY_MODEL_8c92ebea79164a57ad32ff339d039653",
        "IPY_MODEL_585d288b1491461694c7e2a369e4c54c"
       ],
       "layout": "IPY_MODEL_2872c53227424d42aadec4f3c3ad9fd8"
      }
     },
     "5ae201eb310941c491a874f1b27d9059": {
      "model_module": "@jupyter-widgets/controls",
      "model_module_version": "1.5.0",
      "model_name": "HTMLModel",
      "state": {
       "layout": "IPY_MODEL_2cad051d990a47628b077aaecf009198",
       "style": "IPY_MODEL_c0ae0e0fa9d645d99a9a8ec27ab73587",
       "value": " 193822720/193822720 [26:54&lt;00:00, 120017.36it/s]"
      }
     },
     "5b731f6839454c63a5b8390ac35e8213": {
      "model_module": "@jupyter-widgets/controls",
      "model_module_version": "1.5.0",
      "model_name": "HBoxModel",
      "state": {
       "children": [
        "IPY_MODEL_0cd507b99f6e441abdbe5f53dba24453",
        "IPY_MODEL_62766b8250fe4a4eb9eb6b5c324a9af8"
       ],
       "layout": "IPY_MODEL_6d4b34b6a0164e98a4570e33e042a185"
      }
     },
     "5c08999581864bc8afcb5c4d754fb996": {
      "model_module": "@jupyter-widgets/controls",
      "model_module_version": "1.5.0",
      "model_name": "HTMLModel",
      "state": {
       "layout": "IPY_MODEL_d37181f649a44788977316220e5ebd4b",
       "style": "IPY_MODEL_a01b9a47362f466db6973401ec7ac7bc",
       "value": " 27/27 [00:34&lt;00:00,  1.28s/it]"
      }
     },
     "5c1d3a6e02cd47edba4a26441230b46c": {
      "model_module": "@jupyter-widgets/controls",
      "model_module_version": "1.5.0",
      "model_name": "DescriptionStyleModel",
      "state": {
       "description_width": ""
      }
     },
     "5cb9ed3b5d8045199d9c140832c5b76a": {
      "model_module": "@jupyter-widgets/base",
      "model_module_version": "1.2.0",
      "model_name": "LayoutModel",
      "state": {}
     },
     "5d03630fea154d1e8ca5397ccb41416b": {
      "model_module": "@jupyter-widgets/controls",
      "model_module_version": "1.5.0",
      "model_name": "DescriptionStyleModel",
      "state": {
       "description_width": ""
      }
     },
     "5d1a335bffed4e84a516f7b7215583cd": {
      "model_module": "@jupyter-widgets/base",
      "model_module_version": "1.2.0",
      "model_name": "LayoutModel",
      "state": {}
     },
     "5d5fc7d968b94630886891470bd1d993": {
      "model_module": "@jupyter-widgets/base",
      "model_module_version": "1.2.0",
      "model_name": "LayoutModel",
      "state": {}
     },
     "5d60960cbeb341b7abdcb2e26311b5d1": {
      "model_module": "@jupyter-widgets/controls",
      "model_module_version": "1.5.0",
      "model_name": "HBoxModel",
      "state": {
       "children": [
        "IPY_MODEL_de71b0f3cfac45f3b3b9985482ccec42",
        "IPY_MODEL_0b41268b8b5c4da283ef40c9917ab64c"
       ],
       "layout": "IPY_MODEL_a96bb7d867d746f8af62066522a7077e"
      }
     },
     "5d860cc5e035421a917b0f6ada77e3dc": {
      "model_module": "@jupyter-widgets/base",
      "model_module_version": "1.2.0",
      "model_name": "LayoutModel",
      "state": {}
     },
     "5e6282d5102841e9b5f496840dc34ab9": {
      "model_module": "@jupyter-widgets/controls",
      "model_module_version": "1.5.0",
      "model_name": "DescriptionStyleModel",
      "state": {
       "description_width": ""
      }
     },
     "5e75e48f50c34d4d9b6460bbbe58edfd": {
      "model_module": "@jupyter-widgets/base",
      "model_module_version": "1.2.0",
      "model_name": "LayoutModel",
      "state": {}
     },
     "5ec9641112c84cd38e8cfbd1b6b062a4": {
      "model_module": "@jupyter-widgets/controls",
      "model_module_version": "1.5.0",
      "model_name": "DescriptionStyleModel",
      "state": {
       "description_width": ""
      }
     },
     "5f4919b6842d43febcf340cef2b88f44": {
      "model_module": "@jupyter-widgets/base",
      "model_module_version": "1.2.0",
      "model_name": "LayoutModel",
      "state": {}
     },
     "5f9a3054a72f444bb91bc4d7966a9d22": {
      "model_module": "@jupyter-widgets/base",
      "model_module_version": "1.2.0",
      "model_name": "LayoutModel",
      "state": {}
     },
     "5fa58294fc974290ac34d935be4f762d": {
      "model_module": "@jupyter-widgets/base",
      "model_module_version": "1.2.0",
      "model_name": "LayoutModel",
      "state": {}
     },
     "5fd48c136ebd4a7d8c453d5debb74900": {
      "model_module": "@jupyter-widgets/base",
      "model_module_version": "1.2.0",
      "model_name": "LayoutModel",
      "state": {}
     },
     "6058b241c7d6489fa91e7b90c4b49cf5": {
      "model_module": "@jupyter-widgets/controls",
      "model_module_version": "1.5.0",
      "model_name": "HBoxModel",
      "state": {
       "children": [
        "IPY_MODEL_f98ed054588c418d93ee5f484bb02659",
        "IPY_MODEL_433b88c144524253992a78f4e69f7b28"
       ],
       "layout": "IPY_MODEL_f17155d02b104801856cbc70cb3162d2"
      }
     },
     "605df5d2edb54f5196af4d697ec59054": {
      "model_module": "@jupyter-widgets/controls",
      "model_module_version": "1.5.0",
      "model_name": "HTMLModel",
      "state": {
       "layout": "IPY_MODEL_90ffcd5a33da4666af627352eaf0dc09",
       "style": "IPY_MODEL_1900b82d4650446f867d9bb1b2f09339",
       "value": " 0/? [1:03:07&lt;?, ?it/s]"
      }
     },
     "609536017a434380bc0e5a55e99a5cdb": {
      "model_module": "@jupyter-widgets/base",
      "model_module_version": "1.2.0",
      "model_name": "LayoutModel",
      "state": {}
     },
     "60fd1388f3b345d7b920914e23c9e4de": {
      "model_module": "@jupyter-widgets/controls",
      "model_module_version": "1.5.0",
      "model_name": "HTMLModel",
      "state": {
       "layout": "IPY_MODEL_0d2ea42a5dd040d2b45e704b9305ee1b",
       "style": "IPY_MODEL_a55d5fc0f8c646afaf2831ceb8bd45ba",
       "value": " 0/9464 [00:22&lt;?, ?it/s]"
      }
     },
     "610a580e05d44d209711e5a1ebf13f94": {
      "model_module": "@jupyter-widgets/base",
      "model_module_version": "1.2.0",
      "model_name": "LayoutModel",
      "state": {}
     },
     "61477d6c954b40cfa5c4031501283679": {
      "model_module": "@jupyter-widgets/controls",
      "model_module_version": "1.5.0",
      "model_name": "DescriptionStyleModel",
      "state": {
       "description_width": ""
      }
     },
     "623918d515ab41218b26157d8933154e": {
      "model_module": "@jupyter-widgets/base",
      "model_module_version": "1.2.0",
      "model_name": "LayoutModel",
      "state": {}
     },
     "623d2ec629834bd68ce6e10c67223306": {
      "model_module": "@jupyter-widgets/controls",
      "model_module_version": "1.5.0",
      "model_name": "HTMLModel",
      "state": {
       "layout": "IPY_MODEL_c9228491021e4e52ab88a8663e028925",
       "style": "IPY_MODEL_f51a4a1a46da4004bea72be7c4000092",
       "value": " 0/? [00:00&lt;?, ?it/s]"
      }
     },
     "6241f2fd482d4e0fbc6658d77d068fd6": {
      "model_module": "@jupyter-widgets/controls",
      "model_module_version": "1.5.0",
      "model_name": "FloatProgressModel",
      "state": {
       "bar_style": "danger",
       "description": "  0%",
       "layout": "IPY_MODEL_d4ebc31b0e6c4a9a965a721db734b681",
       "max": 9464,
       "style": "IPY_MODEL_c3f40848d41c464491617e83d02c8eda",
       "value": 1
      }
     },
     "624c11e532134c478460c1a933096703": {
      "model_module": "@jupyter-widgets/controls",
      "model_module_version": "1.5.0",
      "model_name": "DescriptionStyleModel",
      "state": {
       "description_width": ""
      }
     },
     "625eea1b0f2e4108b5a73b64aced0562": {
      "model_module": "@jupyter-widgets/controls",
      "model_module_version": "1.5.0",
      "model_name": "HTMLModel",
      "state": {
       "layout": "IPY_MODEL_a481b33cef884a9a8c120b9c48a7f00b",
       "style": "IPY_MODEL_79aff4e706fb4adeb4d1934736a35809",
       "value": " 9464/9464 [24:11&lt;00:00,  6.52it/s]"
      }
     },
     "62766b8250fe4a4eb9eb6b5c324a9af8": {
      "model_module": "@jupyter-widgets/controls",
      "model_module_version": "1.5.0",
      "model_name": "HTMLModel",
      "state": {
       "layout": "IPY_MODEL_101f286306a340feaeb49b6d8cfba1b0",
       "style": "IPY_MODEL_c8cd705292a74f08aa5e9fbaf73a8013",
       "value": " 27/27 [02:20&lt;00:00,  5.20s/it]"
      }
     },
     "62c0140d4a724afabf35b1ad84dc5e69": {
      "model_module": "@jupyter-widgets/base",
      "model_module_version": "1.2.0",
      "model_name": "LayoutModel",
      "state": {}
     },
     "62de6f789d364462b922b05541349496": {
      "model_module": "@jupyter-widgets/controls",
      "model_module_version": "1.5.0",
      "model_name": "HTMLModel",
      "state": {
       "layout": "IPY_MODEL_01e0bc4f2ae94e4f85d5ec14fae9aaeb",
       "style": "IPY_MODEL_f67e94c35b8c47958c1917d9c80580de",
       "value": " 27/27 [15:04&lt;00:00, 33.49s/it]"
      }
     },
     "639c7bfcd5314d3191d3fbe639f0c712": {
      "model_module": "@jupyter-widgets/base",
      "model_module_version": "1.2.0",
      "model_name": "LayoutModel",
      "state": {}
     },
     "63a18fe2879a403d9fbe568363ad29f8": {
      "model_module": "@jupyter-widgets/base",
      "model_module_version": "1.2.0",
      "model_name": "LayoutModel",
      "state": {}
     },
     "63e7a37ac2a24a6f8325ba89f0b2b3d2": {
      "model_module": "@jupyter-widgets/base",
      "model_module_version": "1.2.0",
      "model_name": "LayoutModel",
      "state": {}
     },
     "63f08fa8f0d446abb62bc6273ad54b3b": {
      "model_module": "@jupyter-widgets/controls",
      "model_module_version": "1.5.0",
      "model_name": "HTMLModel",
      "state": {
       "layout": "IPY_MODEL_8d55dc8f0bc446dd8c58fc1a8ed49e51",
       "style": "IPY_MODEL_cd067bf90fa347f1bcded810f0935ccb",
       "value": " 6600000/193822720 [01:26&lt;40:58, 76161.69it/s]"
      }
     },
     "640bce0c2bc44cbcb0aca4d71bd344c2": {
      "model_module": "@jupyter-widgets/controls",
      "model_module_version": "1.5.0",
      "model_name": "HTMLModel",
      "state": {
       "layout": "IPY_MODEL_bfa543ad5fec4922b5dfbdad0ec78289",
       "style": "IPY_MODEL_3c4d2609ccdd440f9dfb3c4136200840",
       "value": " 700000/193822720 [07:11&lt;33:05:41, 1620.96it/s]"
      }
     },
     "64965470e9bd4a209b45b389922816f1": {
      "model_module": "@jupyter-widgets/controls",
      "model_module_version": "1.5.0",
      "model_name": "FloatProgressModel",
      "state": {
       "bar_style": "success",
       "description": "100%",
       "layout": "IPY_MODEL_63e7a37ac2a24a6f8325ba89f0b2b3d2",
       "max": 27,
       "style": "IPY_MODEL_453622e6373549dc8a8bc1d22b533c3c",
       "value": 27
      }
     },
     "65829722ee6a4b93910d0b3f1c99fe4b": {
      "model_module": "@jupyter-widgets/controls",
      "model_module_version": "1.5.0",
      "model_name": "ProgressStyleModel",
      "state": {
       "description_width": "initial"
      }
     },
     "65dd5fe58f1a4ba495a98e60f4d86891": {
      "model_module": "@jupyter-widgets/controls",
      "model_module_version": "1.5.0",
      "model_name": "DescriptionStyleModel",
      "state": {
       "description_width": ""
      }
     },
     "679454576c3e426298d40e7be3f22faa": {
      "model_module": "@jupyter-widgets/controls",
      "model_module_version": "1.5.0",
      "model_name": "ProgressStyleModel",
      "state": {
       "description_width": "initial"
      }
     },
     "68005e31b98441c0b943130192a80c84": {
      "model_module": "@jupyter-widgets/controls",
      "model_module_version": "1.5.0",
      "model_name": "DescriptionStyleModel",
      "state": {
       "description_width": ""
      }
     },
     "6817214e5e654636a2586eaae3afdb29": {
      "model_module": "@jupyter-widgets/controls",
      "model_module_version": "1.5.0",
      "model_name": "HTMLModel",
      "state": {
       "layout": "IPY_MODEL_feb780cec587421e8389ef8d405bace6",
       "style": "IPY_MODEL_5e6282d5102841e9b5f496840dc34ab9",
       "value": " 27/27 [00:26&lt;00:00,  1.01it/s]"
      }
     },
     "68a95162896a438c8483145fdb22ef49": {
      "model_module": "@jupyter-widgets/base",
      "model_module_version": "1.2.0",
      "model_name": "LayoutModel",
      "state": {}
     },
     "691d917c99aa4d5da6b486903535029a": {
      "model_module": "@jupyter-widgets/base",
      "model_module_version": "1.2.0",
      "model_name": "LayoutModel",
      "state": {}
     },
     "693512d2830c4bf2a2feb91f7d0c4367": {
      "model_module": "@jupyter-widgets/base",
      "model_module_version": "1.2.0",
      "model_name": "LayoutModel",
      "state": {}
     },
     "695f2dffe9664abcb5d36ce650f2722f": {
      "model_module": "@jupyter-widgets/controls",
      "model_module_version": "1.5.0",
      "model_name": "HBoxModel",
      "state": {
       "children": [
        "IPY_MODEL_3df2bfcb5c6947aa81d62487c3e1cd77",
        "IPY_MODEL_42b8c8d2d04c469a9200886867c89345"
       ],
       "layout": "IPY_MODEL_348f7cfe11aa4759a78898f09a07eace"
      }
     },
     "6965f030431c482b8113ce5e07a842d7": {
      "model_module": "@jupyter-widgets/base",
      "model_module_version": "1.2.0",
      "model_name": "LayoutModel",
      "state": {}
     },
     "696f5d33a0594e77b55b3b79f5618443": {
      "model_module": "@jupyter-widgets/base",
      "model_module_version": "1.2.0",
      "model_name": "LayoutModel",
      "state": {}
     },
     "69be5b6c6c5d4493b8404bdd3f2d70de": {
      "model_module": "@jupyter-widgets/controls",
      "model_module_version": "1.5.0",
      "model_name": "HBoxModel",
      "state": {
       "children": [
        "IPY_MODEL_a7b9e168038b4ed7abf1512fce4bbefc",
        "IPY_MODEL_768104e7fe0c489a8a5a16eeb4d1b372"
       ],
       "layout": "IPY_MODEL_24bf8259ddae47549691e61144261013"
      }
     },
     "6a9ee0a13f1a42d4bc809daeb716b6b3": {
      "model_module": "@jupyter-widgets/controls",
      "model_module_version": "1.5.0",
      "model_name": "DescriptionStyleModel",
      "state": {
       "description_width": ""
      }
     },
     "6ae48c87317b44d39fd7104e46aa5a0a": {
      "model_module": "@jupyter-widgets/base",
      "model_module_version": "1.2.0",
      "model_name": "LayoutModel",
      "state": {}
     },
     "6c41a260a89d41e59ffa26776de35b55": {
      "model_module": "@jupyter-widgets/base",
      "model_module_version": "1.2.0",
      "model_name": "LayoutModel",
      "state": {}
     },
     "6ccb731bfab74bebb4fe329e933a5b53": {
      "model_module": "@jupyter-widgets/base",
      "model_module_version": "1.2.0",
      "model_name": "LayoutModel",
      "state": {}
     },
     "6d4b34b6a0164e98a4570e33e042a185": {
      "model_module": "@jupyter-widgets/base",
      "model_module_version": "1.2.0",
      "model_name": "LayoutModel",
      "state": {}
     },
     "711e5cfc63f840c9b25afa4afd026c3e": {
      "model_module": "@jupyter-widgets/controls",
      "model_module_version": "1.5.0",
      "model_name": "FloatProgressModel",
      "state": {
       "bar_style": "info",
       "layout": "IPY_MODEL_dfb39036065e4c4ba629cdaea0a19d1d",
       "max": 1,
       "style": "IPY_MODEL_1e46d81a2ea545a7a98749aa16611f55"
      }
     },
     "7132b68ccd39446e853688008513adcc": {
      "model_module": "@jupyter-widgets/controls",
      "model_module_version": "1.5.0",
      "model_name": "ProgressStyleModel",
      "state": {
       "description_width": "initial"
      }
     },
     "71a868dc30994b86b3aaf7565ab229ec": {
      "model_module": "@jupyter-widgets/base",
      "model_module_version": "1.2.0",
      "model_name": "LayoutModel",
      "state": {}
     },
     "72e6a8bea0b747bfbb16806a65c7c5b6": {
      "model_module": "@jupyter-widgets/base",
      "model_module_version": "1.2.0",
      "model_name": "LayoutModel",
      "state": {}
     },
     "72e6d9ffd4e34f0aa84a654a93f0f3ce": {
      "model_module": "@jupyter-widgets/base",
      "model_module_version": "1.2.0",
      "model_name": "LayoutModel",
      "state": {}
     },
     "7377bb3d6eff43f1af1a6a20ad9480c2": {
      "model_module": "@jupyter-widgets/controls",
      "model_module_version": "1.5.0",
      "model_name": "ProgressStyleModel",
      "state": {
       "description_width": "initial"
      }
     },
     "73ca5dc3e00b43778721e8c4ddccc0d4": {
      "model_module": "@jupyter-widgets/controls",
      "model_module_version": "1.5.0",
      "model_name": "ProgressStyleModel",
      "state": {
       "description_width": "initial"
      }
     },
     "73f480f1b8cb4d3588c7d047979ff989": {
      "model_module": "@jupyter-widgets/base",
      "model_module_version": "1.2.0",
      "model_name": "LayoutModel",
      "state": {}
     },
     "74702412925a41079eaeeaa247f6a794": {
      "model_module": "@jupyter-widgets/controls",
      "model_module_version": "1.5.0",
      "model_name": "FloatProgressModel",
      "state": {
       "bar_style": "info",
       "layout": "IPY_MODEL_9b3faf8e51504388b60bf930345f5815",
       "max": 1,
       "style": "IPY_MODEL_160341f5cabe4dc08ae295a3eca28e8d"
      }
     },
     "74c0b6a55cf3435b90f9fb72c46d0030": {
      "model_module": "@jupyter-widgets/base",
      "model_module_version": "1.2.0",
      "model_name": "LayoutModel",
      "state": {}
     },
     "74c66f1cd8c947ae896b6bb992335e14": {
      "model_module": "@jupyter-widgets/base",
      "model_module_version": "1.2.0",
      "model_name": "LayoutModel",
      "state": {}
     },
     "7547800f969144039d77d923fcb2a2b2": {
      "model_module": "@jupyter-widgets/base",
      "model_module_version": "1.2.0",
      "model_name": "LayoutModel",
      "state": {}
     },
     "757278d950c64d36918f96fce423b669": {
      "model_module": "@jupyter-widgets/controls",
      "model_module_version": "1.5.0",
      "model_name": "FloatProgressModel",
      "state": {
       "bar_style": "success",
       "description": "100%",
       "layout": "IPY_MODEL_12f95bf4e0654b669dc13d5959ac86bf",
       "max": 193822720,
       "style": "IPY_MODEL_53543231110248e9be948873c49e7851",
       "value": 193822720
      }
     },
     "760baed2aa2b4e0faf2a852e6e7986a0": {
      "model_module": "@jupyter-widgets/controls",
      "model_module_version": "1.5.0",
      "model_name": "HBoxModel",
      "state": {
       "children": [
        "IPY_MODEL_9105b2d3c59544698bcbd12b904beba8",
        "IPY_MODEL_d49d49ef39424e27810a6b1e82a4e6bd"
       ],
       "layout": "IPY_MODEL_c57d514d23944d869485107c0992d3cb"
      }
     },
     "762637bf7218493b9831a0ad45a7cbf5": {
      "model_module": "@jupyter-widgets/controls",
      "model_module_version": "1.5.0",
      "model_name": "FloatProgressModel",
      "state": {
       "bar_style": "success",
       "description": "100%",
       "layout": "IPY_MODEL_16a2c257d9504944927080f153f4e494",
       "max": 27,
       "style": "IPY_MODEL_229bbb46e18047c792f4f680d38c72cb",
       "value": 27
      }
     },
     "768104e7fe0c489a8a5a16eeb4d1b372": {
      "model_module": "@jupyter-widgets/controls",
      "model_module_version": "1.5.0",
      "model_name": "HTMLModel",
      "state": {
       "layout": "IPY_MODEL_effd85debc5c474e8336d9010eef14b4",
       "style": "IPY_MODEL_efcad946c9e04161bd05be713e88d5ff",
       "value": " 9464/9464 [44:06&lt;00:00,  3.58it/s]"
      }
     },
     "778340acf4504872b0c4c9e5e121c551": {
      "model_module": "@jupyter-widgets/controls",
      "model_module_version": "1.5.0",
      "model_name": "FloatProgressModel",
      "state": {
       "bar_style": "danger",
       "description": "  2%",
       "layout": "IPY_MODEL_35f3e0513b844c7a8914e29d36d0d5e6",
       "max": 193822720,
       "style": "IPY_MODEL_1b86f9d25ef24c5bba51df57461e4beb",
       "value": 3150000
      }
     },
     "77f1c7f78cba4bbc9759830f97ba28f4": {
      "model_module": "@jupyter-widgets/controls",
      "model_module_version": "1.5.0",
      "model_name": "FloatProgressModel",
      "state": {
       "bar_style": "success",
       "description": "100%",
       "layout": "IPY_MODEL_3ae66fd2047d488ab6f35bf103c24d6d",
       "max": 87,
       "style": "IPY_MODEL_c86d1326c81e4c9ea2941856c27d44a8",
       "value": 87
      }
     },
     "78485ceb62d34e0186619581c49c2443": {
      "model_module": "@jupyter-widgets/controls",
      "model_module_version": "1.5.0",
      "model_name": "DescriptionStyleModel",
      "state": {
       "description_width": ""
      }
     },
     "7962897eaa254c80bddc5ec1aa962cc2": {
      "model_module": "@jupyter-widgets/base",
      "model_module_version": "1.2.0",
      "model_name": "LayoutModel",
      "state": {}
     },
     "79aff4e706fb4adeb4d1934736a35809": {
      "model_module": "@jupyter-widgets/controls",
      "model_module_version": "1.5.0",
      "model_name": "DescriptionStyleModel",
      "state": {
       "description_width": ""
      }
     },
     "7a188bb7706f4cc6b020422a6a8e2d2a": {
      "model_module": "@jupyter-widgets/base",
      "model_module_version": "1.2.0",
      "model_name": "LayoutModel",
      "state": {}
     },
     "7ae39f4f36284b4e98aa6f32109cd9d4": {
      "model_module": "@jupyter-widgets/controls",
      "model_module_version": "1.5.0",
      "model_name": "HTMLModel",
      "state": {
       "layout": "IPY_MODEL_8d69c3b2b10f43268d09492bc878fcde",
       "style": "IPY_MODEL_d28aa61a584b4a338aa24f5809c65839",
       "value": " 9464/9464 [18:06&lt;00:00,  8.71it/s]"
      }
     },
     "7b07da40b4bd4d4e9a3656fe2a95235b": {
      "model_module": "@jupyter-widgets/controls",
      "model_module_version": "1.5.0",
      "model_name": "DescriptionStyleModel",
      "state": {
       "description_width": ""
      }
     },
     "7b97e98dd3a9476aafbec5f41ab7179b": {
      "model_module": "@jupyter-widgets/base",
      "model_module_version": "1.2.0",
      "model_name": "LayoutModel",
      "state": {}
     },
     "7c128df7b4fc4e7ab51f2e01957aba4f": {
      "model_module": "@jupyter-widgets/base",
      "model_module_version": "1.2.0",
      "model_name": "LayoutModel",
      "state": {}
     },
     "7c12aa49f7124ff2a980658f59b52282": {
      "model_module": "@jupyter-widgets/controls",
      "model_module_version": "1.5.0",
      "model_name": "DescriptionStyleModel",
      "state": {
       "description_width": ""
      }
     },
     "7c766fcc0d76481eaa278f2a97d90380": {
      "model_module": "@jupyter-widgets/controls",
      "model_module_version": "1.5.0",
      "model_name": "HTMLModel",
      "state": {
       "layout": "IPY_MODEL_5fd48c136ebd4a7d8c453d5debb74900",
       "style": "IPY_MODEL_9c450e4022954e6aae22c41411c30088",
       "value": " 3150000/193822720 [07:51&lt;7:55:33, 6682.31it/s]"
      }
     },
     "7caf0745be8d41aeaf1ac7f9d0a1f043": {
      "model_module": "@jupyter-widgets/base",
      "model_module_version": "1.2.0",
      "model_name": "LayoutModel",
      "state": {}
     },
     "7e2fc34e96234c47aae30389ec1cefbe": {
      "model_module": "@jupyter-widgets/controls",
      "model_module_version": "1.5.0",
      "model_name": "FloatProgressModel",
      "state": {
       "bar_style": "success",
       "description": "100%",
       "layout": "IPY_MODEL_af819c4c7a294e0e9c0be4257e11058d",
       "max": 27,
       "style": "IPY_MODEL_57f5fba622b3486f9afae4f9fafb5c40",
       "value": 27
      }
     },
     "7e77cbe5b5e3489ebcb06050e3e46bae": {
      "model_module": "@jupyter-widgets/controls",
      "model_module_version": "1.5.0",
      "model_name": "HTMLModel",
      "state": {
       "layout": "IPY_MODEL_8f0afc4e87c64fbe81e6ad64256cb90f",
       "style": "IPY_MODEL_e3f16cfa3c4a4e04a6f57d846f916fff",
       "value": " 27/27 [01:50&lt;00:00,  4.08s/it]"
      }
     },
     "7ec02d889da64bff918d6c67ecdf6de1": {
      "model_module": "@jupyter-widgets/controls",
      "model_module_version": "1.5.0",
      "model_name": "HTMLModel",
      "state": {
       "layout": "IPY_MODEL_e2ab79da6598464db9852e0ba5ef1b44",
       "style": "IPY_MODEL_5ec9641112c84cd38e8cfbd1b6b062a4",
       "value": " 4925000/193822720 [02:14&lt;1:26:04, 36573.92it/s]"
      }
     },
     "7ee57dd874834e5c9e22b3c8de8034dd": {
      "model_module": "@jupyter-widgets/controls",
      "model_module_version": "1.5.0",
      "model_name": "FloatProgressModel",
      "state": {
       "bar_style": "danger",
       "description": "  0%",
       "layout": "IPY_MODEL_8742a5a33634451499687504d7883673",
       "max": 193822720,
       "style": "IPY_MODEL_679454576c3e426298d40e7be3f22faa",
       "value": 700000
      }
     },
     "7ee8f27df7eb4097bfce82cfd5f9a04a": {
      "model_module": "@jupyter-widgets/controls",
      "model_module_version": "1.5.0",
      "model_name": "HTMLModel",
      "state": {
       "layout": "IPY_MODEL_b98c7268a50a41c399714c505d3aaf9e",
       "style": "IPY_MODEL_6a9ee0a13f1a42d4bc809daeb716b6b3",
       "value": " 27/27 [01:13&lt;00:00,  2.71s/it]"
      }
     },
     "7f85a3158f9d4ca98f9e3d30569ac5f8": {
      "model_module": "@jupyter-widgets/controls",
      "model_module_version": "1.5.0",
      "model_name": "HTMLModel",
      "state": {
       "layout": "IPY_MODEL_f0861253b14a45348cb77d9d9d0c9470",
       "style": "IPY_MODEL_20cfcc1f97e047dc8a58a48c41cde2d3",
       "value": " 9464/9464 [25:20&lt;00:00,  6.22it/s]"
      }
     },
     "8028492d19d949908ce6587c4e849e8c": {
      "model_module": "@jupyter-widgets/base",
      "model_module_version": "1.2.0",
      "model_name": "LayoutModel",
      "state": {}
     },
     "80f389079494422a888664dda15803a2": {
      "model_module": "@jupyter-widgets/base",
      "model_module_version": "1.2.0",
      "model_name": "LayoutModel",
      "state": {}
     },
     "80ffe3bca60d40888c453aff2446492b": {
      "model_module": "@jupyter-widgets/controls",
      "model_module_version": "1.5.0",
      "model_name": "FloatProgressModel",
      "state": {
       "bar_style": "success",
       "description": "100%",
       "layout": "IPY_MODEL_dab027b52aeb4e01aa487251a399247d",
       "max": 9464,
       "style": "IPY_MODEL_a5ca7f5ef55440d6991bef6a03eb262f",
       "value": 9464
      }
     },
     "818fac90a4024dc793214da1dd3c2c40": {
      "model_module": "@jupyter-widgets/base",
      "model_module_version": "1.2.0",
      "model_name": "LayoutModel",
      "state": {}
     },
     "81f973bcb43a49a9b0816120b704b7da": {
      "model_module": "@jupyter-widgets/controls",
      "model_module_version": "1.5.0",
      "model_name": "HBoxModel",
      "state": {
       "children": [
        "IPY_MODEL_d330e1c1dbc24e5ba0b8048b62d48275",
        "IPY_MODEL_9fef8c4a961449fe9e834ab6222c378e"
       ],
       "layout": "IPY_MODEL_bb201fcb2043444996bfe11b2213c795"
      }
     },
     "82580211a7484582b0bf7602dacf6028": {
      "model_module": "@jupyter-widgets/base",
      "model_module_version": "1.2.0",
      "model_name": "LayoutModel",
      "state": {}
     },
     "826a97f6a28c4e4ca1659d57585eb2f8": {
      "model_module": "@jupyter-widgets/controls",
      "model_module_version": "1.5.0",
      "model_name": "HBoxModel",
      "state": {
       "children": [
        "IPY_MODEL_d82b46ee2c1942e6aefdaa40a5243224",
        "IPY_MODEL_48cbbc00406f414a83761d950010b2d8"
       ],
       "layout": "IPY_MODEL_537d8e11460148f0b4dda26a11300cd3"
      }
     },
     "8275782d30a743fdbbc74275e2da7e7b": {
      "model_module": "@jupyter-widgets/controls",
      "model_module_version": "1.5.0",
      "model_name": "ProgressStyleModel",
      "state": {
       "description_width": "initial"
      }
     },
     "847be183c7bd4368be41ae408fec3e26": {
      "model_module": "@jupyter-widgets/controls",
      "model_module_version": "1.5.0",
      "model_name": "FloatProgressModel",
      "state": {
       "bar_style": "success",
       "description": "100%",
       "layout": "IPY_MODEL_0f4edfbf9b4b4e8e97d187a171e3c8af",
       "max": 193822720,
       "style": "IPY_MODEL_006114858067450a8e5a1bb994b19ee6",
       "value": 193822720
      }
     },
     "851ea23636eb4c2a8c33b553b78acbe4": {
      "model_module": "@jupyter-widgets/controls",
      "model_module_version": "1.5.0",
      "model_name": "ProgressStyleModel",
      "state": {
       "description_width": "initial"
      }
     },
     "8584c6d30d3c40df8218269dfca95282": {
      "model_module": "@jupyter-widgets/controls",
      "model_module_version": "1.5.0",
      "model_name": "HTMLModel",
      "state": {
       "layout": "IPY_MODEL_c67479c8f3604066a80bc0041717d06f",
       "style": "IPY_MODEL_5a4b30b3d04c48ffa78af1d530f7d074",
       "value": " 27/27 [01:47&lt;00:00,  3.98s/it]"
      }
     },
     "859e326e6c494db4bbf900a916bf3f55": {
      "model_module": "@jupyter-widgets/controls",
      "model_module_version": "1.5.0",
      "model_name": "HTMLModel",
      "state": {
       "layout": "IPY_MODEL_68a95162896a438c8483145fdb22ef49",
       "style": "IPY_MODEL_efa5ae58f74440a7a65c7773030e6a34",
       "value": " 27/27 [00:47&lt;00:00,  1.75s/it]"
      }
     },
     "85d3a65a790040249e91fbd2bd5f22bb": {
      "model_module": "@jupyter-widgets/base",
      "model_module_version": "1.2.0",
      "model_name": "LayoutModel",
      "state": {}
     },
     "85eceae03ef84ad5a8d071d0a4961ca9": {
      "model_module": "@jupyter-widgets/controls",
      "model_module_version": "1.5.0",
      "model_name": "DescriptionStyleModel",
      "state": {
       "description_width": ""
      }
     },
     "85f7f3c31ae1497b849ec4300780f533": {
      "model_module": "@jupyter-widgets/controls",
      "model_module_version": "1.5.0",
      "model_name": "DescriptionStyleModel",
      "state": {
       "description_width": ""
      }
     },
     "86389f3ce6af4ef6a1942b545acd8436": {
      "model_module": "@jupyter-widgets/controls",
      "model_module_version": "1.5.0",
      "model_name": "HTMLModel",
      "state": {
       "layout": "IPY_MODEL_a62197f3171f46ea9588599f65082d33",
       "style": "IPY_MODEL_e562de85992a441ea9b3e6b93df494af",
       "value": " 27/27 [00:29&lt;00:00,  1.10s/it]"
      }
     },
     "8671316f70834da4ba14eb6fa579448e": {
      "model_module": "@jupyter-widgets/base",
      "model_module_version": "1.2.0",
      "model_name": "LayoutModel",
      "state": {}
     },
     "8742a5a33634451499687504d7883673": {
      "model_module": "@jupyter-widgets/base",
      "model_module_version": "1.2.0",
      "model_name": "LayoutModel",
      "state": {}
     },
     "87e54a1f04584f77a8fbae99f5867fd6": {
      "model_module": "@jupyter-widgets/controls",
      "model_module_version": "1.5.0",
      "model_name": "ProgressStyleModel",
      "state": {
       "description_width": "initial"
      }
     },
     "88241bd9eebb496b99893af9699b8553": {
      "model_module": "@jupyter-widgets/controls",
      "model_module_version": "1.5.0",
      "model_name": "ProgressStyleModel",
      "state": {
       "description_width": "initial"
      }
     },
     "882d9c38bd1044b49abf3478e11eb0be": {
      "model_module": "@jupyter-widgets/controls",
      "model_module_version": "1.5.0",
      "model_name": "DescriptionStyleModel",
      "state": {
       "description_width": ""
      }
     },
     "885ba56360cb4ab09462f302b5068e60": {
      "model_module": "@jupyter-widgets/base",
      "model_module_version": "1.2.0",
      "model_name": "LayoutModel",
      "state": {}
     },
     "886259d92ccb4330acb55ee184389835": {
      "model_module": "@jupyter-widgets/controls",
      "model_module_version": "1.5.0",
      "model_name": "HTMLModel",
      "state": {
       "layout": "IPY_MODEL_396d74788f91469da5fc043795421770",
       "style": "IPY_MODEL_121cf2e4eb5241c6b63fe530e495c4cc",
       "value": " 0/? [1:06:17&lt;?, ?it/s]"
      }
     },
     "897eca5f36da452fa4d8b0a9c2070d08": {
      "model_module": "@jupyter-widgets/controls",
      "model_module_version": "1.5.0",
      "model_name": "HTMLModel",
      "state": {
       "layout": "IPY_MODEL_5fa58294fc974290ac34d935be4f762d",
       "style": "IPY_MODEL_9f0b5196cfe947b6a33c1e1fa61df958",
       "value": " 9464/9464 [1:42:50&lt;00:00,  1.53it/s]"
      }
     },
     "8a3409579b0b4f02acc487c8f08d48dd": {
      "model_module": "@jupyter-widgets/base",
      "model_module_version": "1.2.0",
      "model_name": "LayoutModel",
      "state": {}
     },
     "8a7ec38dc0ca4e7d9755837500649083": {
      "model_module": "@jupyter-widgets/controls",
      "model_module_version": "1.5.0",
      "model_name": "HTMLModel",
      "state": {
       "layout": "IPY_MODEL_a0c49a2def2f49259653ab1ca766118e",
       "style": "IPY_MODEL_8dcb1b964b3249eea83569071cfd88f6",
       "value": " 1/9464 [16:18&lt;2571:08:15, 978.14s/it]"
      }
     },
     "8a915071ad234961a97c134ebf1a4fee": {
      "model_module": "@jupyter-widgets/base",
      "model_module_version": "1.2.0",
      "model_name": "LayoutModel",
      "state": {}
     },
     "8b1f35c57abd48af886a8f84425df94a": {
      "model_module": "@jupyter-widgets/controls",
      "model_module_version": "1.5.0",
      "model_name": "HTMLModel",
      "state": {
       "layout": "IPY_MODEL_f598fc7265ec45e68f62b2f2e74ae1f3",
       "style": "IPY_MODEL_14167f06f4af4b358a9842914c791569",
       "value": " 193822720/193822720 [33:53&lt;00:00, 95327.57it/s]"
      }
     },
     "8bf916593c8044beb6f5fd42cc6e7ab1": {
      "model_module": "@jupyter-widgets/base",
      "model_module_version": "1.2.0",
      "model_name": "LayoutModel",
      "state": {}
     },
     "8c1757058345455dbb98a7e402df088a": {
      "model_module": "@jupyter-widgets/controls",
      "model_module_version": "1.5.0",
      "model_name": "DescriptionStyleModel",
      "state": {
       "description_width": ""
      }
     },
     "8c25e9eda3e048feb75550bb8023421c": {
      "model_module": "@jupyter-widgets/base",
      "model_module_version": "1.2.0",
      "model_name": "LayoutModel",
      "state": {}
     },
     "8c857cc1fd6347e8b6b0f1693ad96eca": {
      "model_module": "@jupyter-widgets/base",
      "model_module_version": "1.2.0",
      "model_name": "LayoutModel",
      "state": {}
     },
     "8c92ebea79164a57ad32ff339d039653": {
      "model_module": "@jupyter-widgets/controls",
      "model_module_version": "1.5.0",
      "model_name": "FloatProgressModel",
      "state": {
       "bar_style": "danger",
       "description": "  0%",
       "layout": "IPY_MODEL_f45738faf2df44d9b052db65e6377996",
       "max": 9464,
       "style": "IPY_MODEL_50e73f3c534a4a6d9b1a5944b816f427"
      }
     },
     "8d1a4c193f0c46bba931d974a6d46223": {
      "model_module": "@jupyter-widgets/base",
      "model_module_version": "1.2.0",
      "model_name": "LayoutModel",
      "state": {}
     },
     "8d55dc8f0bc446dd8c58fc1a8ed49e51": {
      "model_module": "@jupyter-widgets/base",
      "model_module_version": "1.2.0",
      "model_name": "LayoutModel",
      "state": {}
     },
     "8d6081f9ca7244f19ef1c872635a9f88": {
      "model_module": "@jupyter-widgets/base",
      "model_module_version": "1.2.0",
      "model_name": "LayoutModel",
      "state": {}
     },
     "8d69c3b2b10f43268d09492bc878fcde": {
      "model_module": "@jupyter-widgets/base",
      "model_module_version": "1.2.0",
      "model_name": "LayoutModel",
      "state": {}
     },
     "8dcb1b964b3249eea83569071cfd88f6": {
      "model_module": "@jupyter-widgets/controls",
      "model_module_version": "1.5.0",
      "model_name": "DescriptionStyleModel",
      "state": {
       "description_width": ""
      }
     },
     "8de73f44aec940c39e1756951a2fcc81": {
      "model_module": "@jupyter-widgets/controls",
      "model_module_version": "1.5.0",
      "model_name": "FloatProgressModel",
      "state": {
       "bar_style": "danger",
       "description": "100%",
       "layout": "IPY_MODEL_0c97ee13d023477ea7aa694dfab55bef",
       "max": 193822720,
       "style": "IPY_MODEL_a8dcbceaba774d80b8bebb622e7d0d7f",
       "value": 193820000
      }
     },
     "8e17312b5f6c4769bf0fe5307123b32c": {
      "model_module": "@jupyter-widgets/base",
      "model_module_version": "1.2.0",
      "model_name": "LayoutModel",
      "state": {}
     },
     "8ed12e2cb4be4a8f855fb179bfe0f163": {
      "model_module": "@jupyter-widgets/base",
      "model_module_version": "1.2.0",
      "model_name": "LayoutModel",
      "state": {}
     },
     "8f0afc4e87c64fbe81e6ad64256cb90f": {
      "model_module": "@jupyter-widgets/base",
      "model_module_version": "1.2.0",
      "model_name": "LayoutModel",
      "state": {}
     },
     "8f2180c0104345e3a7e34071ecf934b9": {
      "model_module": "@jupyter-widgets/base",
      "model_module_version": "1.2.0",
      "model_name": "LayoutModel",
      "state": {}
     },
     "8f4db2b552734b04bc48bd5d94b335b5": {
      "model_module": "@jupyter-widgets/controls",
      "model_module_version": "1.5.0",
      "model_name": "FloatProgressModel",
      "state": {
       "bar_style": "info",
       "layout": "IPY_MODEL_b97bd658123740718b87adffe386b1cb",
       "max": 1,
       "style": "IPY_MODEL_9289a8bd08d8466fbf2a38ab13ccb5e8"
      }
     },
     "8fbf287462924abcad9866ffeeed2bd7": {
      "model_module": "@jupyter-widgets/controls",
      "model_module_version": "1.5.0",
      "model_name": "ProgressStyleModel",
      "state": {
       "description_width": "initial"
      }
     },
     "8fd3ad4144ae4c7c98eead92cd4a9427": {
      "model_module": "@jupyter-widgets/base",
      "model_module_version": "1.2.0",
      "model_name": "LayoutModel",
      "state": {}
     },
     "9082fd1ec9564dbbaa8fb82344260c5b": {
      "model_module": "@jupyter-widgets/base",
      "model_module_version": "1.2.0",
      "model_name": "LayoutModel",
      "state": {}
     },
     "90ffcd5a33da4666af627352eaf0dc09": {
      "model_module": "@jupyter-widgets/base",
      "model_module_version": "1.2.0",
      "model_name": "LayoutModel",
      "state": {}
     },
     "9105b2d3c59544698bcbd12b904beba8": {
      "model_module": "@jupyter-widgets/controls",
      "model_module_version": "1.5.0",
      "model_name": "FloatProgressModel",
      "state": {
       "bar_style": "danger",
       "description": "  0%",
       "layout": "IPY_MODEL_25e740f4a4b6459690f96271b1381f48",
       "max": 9464,
       "style": "IPY_MODEL_37bdf0b8e9a243ffbcc75c2e742bbd07"
      }
     },
     "9106a006985743878149de66b7083436": {
      "model_module": "@jupyter-widgets/controls",
      "model_module_version": "1.5.0",
      "model_name": "HTMLModel",
      "state": {
       "layout": "IPY_MODEL_885ba56360cb4ab09462f302b5068e60",
       "style": "IPY_MODEL_932fbdfb66154400a06bb2468f69995f",
       "value": " 35/9464 [1:03:07&lt;283:27:25, 108.22s/it]"
      }
     },
     "9264d7c469c140d79f81e886a27dc8c2": {
      "model_module": "@jupyter-widgets/base",
      "model_module_version": "1.2.0",
      "model_name": "LayoutModel",
      "state": {}
     },
     "9289a8bd08d8466fbf2a38ab13ccb5e8": {
      "model_module": "@jupyter-widgets/controls",
      "model_module_version": "1.5.0",
      "model_name": "ProgressStyleModel",
      "state": {
       "description_width": "initial"
      }
     },
     "92f82530ddf04439affd1b7b36f2d409": {
      "model_module": "@jupyter-widgets/controls",
      "model_module_version": "1.5.0",
      "model_name": "ProgressStyleModel",
      "state": {
       "description_width": "initial"
      }
     },
     "9310305117054dbda6faa434f055c817": {
      "model_module": "@jupyter-widgets/controls",
      "model_module_version": "1.5.0",
      "model_name": "HBoxModel",
      "state": {
       "children": [
        "IPY_MODEL_9c30c3ac94764aaf8b40b24e8f8a3dc0",
        "IPY_MODEL_3048e3ea6d3f4260b8f69bb702a2c3d9"
       ],
       "layout": "IPY_MODEL_5e75e48f50c34d4d9b6460bbbe58edfd"
      }
     },
     "931a5a69f6fd4154823dfafe2ec8db97": {
      "model_module": "@jupyter-widgets/controls",
      "model_module_version": "1.5.0",
      "model_name": "FloatProgressModel",
      "state": {
       "bar_style": "danger",
       "description": "  0%",
       "layout": "IPY_MODEL_e73711da08834771af2b49dcea67f592",
       "max": 9464,
       "style": "IPY_MODEL_351c38867732431b8f302e9368103dfd"
      }
     },
     "932fbdfb66154400a06bb2468f69995f": {
      "model_module": "@jupyter-widgets/controls",
      "model_module_version": "1.5.0",
      "model_name": "DescriptionStyleModel",
      "state": {
       "description_width": ""
      }
     },
     "9338373d93084b64848f1438465326ad": {
      "model_module": "@jupyter-widgets/base",
      "model_module_version": "1.2.0",
      "model_name": "LayoutModel",
      "state": {}
     },
     "9460136639454fa7b815286e858396ad": {
      "model_module": "@jupyter-widgets/base",
      "model_module_version": "1.2.0",
      "model_name": "LayoutModel",
      "state": {}
     },
     "947c94af2a8f42068ff860812bc81906": {
      "model_module": "@jupyter-widgets/controls",
      "model_module_version": "1.5.0",
      "model_name": "HTMLModel",
      "state": {
       "layout": "IPY_MODEL_80f389079494422a888664dda15803a2",
       "style": "IPY_MODEL_0a2adcfee9524fe6a115f681b1b4e7f4",
       "value": " 0/27 [01:07&lt;?, ?it/s]"
      }
     },
     "9520bea899b242a1bf55bb219937181b": {
      "model_module": "@jupyter-widgets/base",
      "model_module_version": "1.2.0",
      "model_name": "LayoutModel",
      "state": {}
     },
     "955b2280c3dd4a9eb958ededbcd3521f": {
      "model_module": "@jupyter-widgets/base",
      "model_module_version": "1.2.0",
      "model_name": "LayoutModel",
      "state": {}
     },
     "95926672ca664feeafd37ca8d463b1f4": {
      "model_module": "@jupyter-widgets/base",
      "model_module_version": "1.2.0",
      "model_name": "LayoutModel",
      "state": {}
     },
     "95e919d53a81470899d566917ccea033": {
      "model_module": "@jupyter-widgets/controls",
      "model_module_version": "1.5.0",
      "model_name": "FloatProgressModel",
      "state": {
       "bar_style": "success",
       "description": "100%",
       "layout": "IPY_MODEL_f234eb64b79e4182b0a757b3c2203c69",
       "max": 27,
       "style": "IPY_MODEL_cc82bc519d6d420a8ab5eb8e6ee3bedb",
       "value": 27
      }
     },
     "95ebe270d4374f068773ed617bdf3ddd": {
      "model_module": "@jupyter-widgets/controls",
      "model_module_version": "1.5.0",
      "model_name": "HTMLModel",
      "state": {
       "layout": "IPY_MODEL_59833cce9ac1454593b22a6fe5843be7",
       "style": "IPY_MODEL_3ec8b0848b0143268171c09efe3be7ff",
       "value": " 27/27 [01:34&lt;00:00,  3.48s/it]"
      }
     },
     "9603e02451994355a538df90f12f3251": {
      "model_module": "@jupyter-widgets/base",
      "model_module_version": "1.2.0",
      "model_name": "LayoutModel",
      "state": {}
     },
     "96397b93fe114340b06354788dfa857b": {
      "model_module": "@jupyter-widgets/base",
      "model_module_version": "1.2.0",
      "model_name": "LayoutModel",
      "state": {}
     },
     "97ce0611bffd49d1bb8411472cbf4606": {
      "model_module": "@jupyter-widgets/controls",
      "model_module_version": "1.5.0",
      "model_name": "HTMLModel",
      "state": {
       "layout": "IPY_MODEL_d11d6f24e64d459c8611578738e12f8d",
       "style": "IPY_MODEL_624c11e532134c478460c1a933096703",
       "value": " 0/? [1:03:26&lt;?, ?it/s]"
      }
     },
     "983c387d284c4aa495aaa01daae5d7b7": {
      "model_module": "@jupyter-widgets/controls",
      "model_module_version": "1.5.0",
      "model_name": "FloatProgressModel",
      "state": {
       "bar_style": "info",
       "layout": "IPY_MODEL_8a3409579b0b4f02acc487c8f08d48dd",
       "max": 1,
       "style": "IPY_MODEL_b4859f63032e4c78ba9114c0f7e2a82f"
      }
     },
     "98644e1a4af644d799cc3f2c9a87550b": {
      "model_module": "@jupyter-widgets/base",
      "model_module_version": "1.2.0",
      "model_name": "LayoutModel",
      "state": {}
     },
     "990145eb72c745bc883f5fa02332cdd3": {
      "model_module": "@jupyter-widgets/controls",
      "model_module_version": "1.5.0",
      "model_name": "HBoxModel",
      "state": {
       "children": [
        "IPY_MODEL_8de73f44aec940c39e1756951a2fcc81",
        "IPY_MODEL_ced8c3d0b8304ecf81eb7ee2f493a8bc"
       ],
       "layout": "IPY_MODEL_09d0e32f2abf4955b90d11ff6b1a7a8c"
      }
     },
     "990cfff8e40d45d194243b73070b9cae": {
      "model_module": "@jupyter-widgets/controls",
      "model_module_version": "1.5.0",
      "model_name": "HTMLModel",
      "state": {
       "layout": "IPY_MODEL_f0bdd7f2af0c40c0a212ca8113d2f355",
       "style": "IPY_MODEL_3ae7824417d44148867dc7c591ae58fc",
       "value": " 193822720/193822720 [11:23&lt;00:00, 283748.40it/s]"
      }
     },
     "99a387e26f8241389bcc6f81add67aa5": {
      "model_module": "@jupyter-widgets/base",
      "model_module_version": "1.2.0",
      "model_name": "LayoutModel",
      "state": {}
     },
     "99d069252a2a40a992a9f1016f39e48c": {
      "model_module": "@jupyter-widgets/base",
      "model_module_version": "1.2.0",
      "model_name": "LayoutModel",
      "state": {}
     },
     "9a4cd6a5fd184191b43d9a279614b488": {
      "model_module": "@jupyter-widgets/base",
      "model_module_version": "1.2.0",
      "model_name": "LayoutModel",
      "state": {}
     },
     "9a88d00d83ec4dd18f488a239b709466": {
      "model_module": "@jupyter-widgets/base",
      "model_module_version": "1.2.0",
      "model_name": "LayoutModel",
      "state": {}
     },
     "9a9448dbf5044db085b171ee79283cca": {
      "model_module": "@jupyter-widgets/base",
      "model_module_version": "1.2.0",
      "model_name": "LayoutModel",
      "state": {}
     },
     "9b3faf8e51504388b60bf930345f5815": {
      "model_module": "@jupyter-widgets/base",
      "model_module_version": "1.2.0",
      "model_name": "LayoutModel",
      "state": {}
     },
     "9b4ce002e0f241a1a4cd17f2c6624569": {
      "model_module": "@jupyter-widgets/controls",
      "model_module_version": "1.5.0",
      "model_name": "HBoxModel",
      "state": {
       "children": [
        "IPY_MODEL_196ce683bee343b2b477b62b75f3f400",
        "IPY_MODEL_86389f3ce6af4ef6a1942b545acd8436"
       ],
       "layout": "IPY_MODEL_63a18fe2879a403d9fbe568363ad29f8"
      }
     },
     "9bac8271659e4c0c948359ef8499d308": {
      "model_module": "@jupyter-widgets/base",
      "model_module_version": "1.2.0",
      "model_name": "LayoutModel",
      "state": {}
     },
     "9c30c3ac94764aaf8b40b24e8f8a3dc0": {
      "model_module": "@jupyter-widgets/controls",
      "model_module_version": "1.5.0",
      "model_name": "FloatProgressModel",
      "state": {
       "bar_style": "success",
       "description": "100%",
       "layout": "IPY_MODEL_3903f5b5fccf48d48c4c1924e95dc2f5",
       "max": 27,
       "style": "IPY_MODEL_65829722ee6a4b93910d0b3f1c99fe4b",
       "value": 27
      }
     },
     "9c450e4022954e6aae22c41411c30088": {
      "model_module": "@jupyter-widgets/controls",
      "model_module_version": "1.5.0",
      "model_name": "DescriptionStyleModel",
      "state": {
       "description_width": ""
      }
     },
     "9c7eeb41ad2346059746a9abe58d45f5": {
      "model_module": "@jupyter-widgets/base",
      "model_module_version": "1.2.0",
      "model_name": "LayoutModel",
      "state": {}
     },
     "9d48ec6a3b0942bbb1367e3a1d798ec9": {
      "model_module": "@jupyter-widgets/controls",
      "model_module_version": "1.5.0",
      "model_name": "HTMLModel",
      "state": {
       "layout": "IPY_MODEL_1b9d3fe175904c4da9b5ce4236324bf8",
       "style": "IPY_MODEL_8c1757058345455dbb98a7e402df088a",
       "value": " 0/? [1:06:59&lt;?, ?it/s]"
      }
     },
     "9d62ba50fe4d4d6790576baee9418d27": {
      "model_module": "@jupyter-widgets/controls",
      "model_module_version": "1.5.0",
      "model_name": "ProgressStyleModel",
      "state": {
       "description_width": "initial"
      }
     },
     "9e11014b86954851af93c770d8c9ec8a": {
      "model_module": "@jupyter-widgets/controls",
      "model_module_version": "1.5.0",
      "model_name": "ProgressStyleModel",
      "state": {
       "description_width": "initial"
      }
     },
     "9e57b13401374f018f414dc74cbaf8d2": {
      "model_module": "@jupyter-widgets/controls",
      "model_module_version": "1.5.0",
      "model_name": "FloatProgressModel",
      "state": {
       "bar_style": "success",
       "description": "100%",
       "layout": "IPY_MODEL_de60855258c5431fa13425568b9ae57e",
       "max": 27,
       "style": "IPY_MODEL_b9f27956897c4854bc6210d3db8d05bd",
       "value": 27
      }
     },
     "9f0b5196cfe947b6a33c1e1fa61df958": {
      "model_module": "@jupyter-widgets/controls",
      "model_module_version": "1.5.0",
      "model_name": "DescriptionStyleModel",
      "state": {
       "description_width": ""
      }
     },
     "9f94b81126b949688a232dfbc909a45f": {
      "model_module": "@jupyter-widgets/base",
      "model_module_version": "1.2.0",
      "model_name": "LayoutModel",
      "state": {}
     },
     "9f9dfeba731c4c3cb77eff1d58f992d9": {
      "model_module": "@jupyter-widgets/controls",
      "model_module_version": "1.5.0",
      "model_name": "HTMLModel",
      "state": {
       "layout": "IPY_MODEL_1f32c14ab218453e88a812f6f84791dd",
       "style": "IPY_MODEL_fd6eb12e1c334fd18813001ab454211c",
       "value": " 161/9464 [00:33&lt;32:42,  4.74it/s]"
      }
     },
     "9fef8c4a961449fe9e834ab6222c378e": {
      "model_module": "@jupyter-widgets/controls",
      "model_module_version": "1.5.0",
      "model_name": "HTMLModel",
      "state": {
       "layout": "IPY_MODEL_e3076e8594ac4d8fa635922b85b72f92",
       "style": "IPY_MODEL_4a11f582733d44b18fb265b322a18449",
       "value": " 0/9464 [00:28&lt;?, ?it/s]"
      }
     },
     "a01b9a47362f466db6973401ec7ac7bc": {
      "model_module": "@jupyter-widgets/controls",
      "model_module_version": "1.5.0",
      "model_name": "DescriptionStyleModel",
      "state": {
       "description_width": ""
      }
     },
     "a02e9bdcca0f4d6aaaff8c54870208ca": {
      "model_module": "@jupyter-widgets/controls",
      "model_module_version": "1.5.0",
      "model_name": "HTMLModel",
      "state": {
       "layout": "IPY_MODEL_d6275386b19d47ca8e9fe136aeb815f8",
       "style": "IPY_MODEL_4f5868bc7d664e0a80f646542bc71f2b",
       "value": " 27/27 [03:10&lt;00:00,  7.04s/it]"
      }
     },
     "a0c49a2def2f49259653ab1ca766118e": {
      "model_module": "@jupyter-widgets/base",
      "model_module_version": "1.2.0",
      "model_name": "LayoutModel",
      "state": {}
     },
     "a1a1594a79034312aa8ef822357e7e64": {
      "model_module": "@jupyter-widgets/controls",
      "model_module_version": "1.5.0",
      "model_name": "HTMLModel",
      "state": {
       "layout": "IPY_MODEL_5f9a3054a72f444bb91bc4d7966a9d22",
       "style": "IPY_MODEL_57f035bf91d94edf9b073869f8dcc68b",
       "value": " 57/57 [01:13&lt;00:00,  1.29s/it]"
      }
     },
     "a230e2f869224623a02ebd85b7f8cad3": {
      "model_module": "@jupyter-widgets/controls",
      "model_module_version": "1.5.0",
      "model_name": "ProgressStyleModel",
      "state": {
       "description_width": "initial"
      }
     },
     "a26ea4831f2844519ec435d30be1a95f": {
      "model_module": "@jupyter-widgets/base",
      "model_module_version": "1.2.0",
      "model_name": "LayoutModel",
      "state": {}
     },
     "a2f86cc0ec7b41a9885706314d4ce436": {
      "model_module": "@jupyter-widgets/controls",
      "model_module_version": "1.5.0",
      "model_name": "FloatProgressModel",
      "state": {
       "bar_style": "success",
       "description": "100%",
       "layout": "IPY_MODEL_a4d7dc14b34f412a9914482faf685711",
       "max": 193822720,
       "style": "IPY_MODEL_12cc4800dce64debaa964f218666a82b",
       "value": 193822720
      }
     },
     "a31f1827ced04caba939f124bff441e6": {
      "model_module": "@jupyter-widgets/controls",
      "model_module_version": "1.5.0",
      "model_name": "FloatProgressModel",
      "state": {
       "bar_style": "success",
       "description": "100%",
       "layout": "IPY_MODEL_51a0cff3c99d4de2a5fcbce29c1a33c0",
       "max": 27,
       "style": "IPY_MODEL_246f49f88dd3486caa879224d5500baa",
       "value": 27
      }
     },
     "a39ce88482e34298914581d0107fff9d": {
      "model_module": "@jupyter-widgets/controls",
      "model_module_version": "1.5.0",
      "model_name": "ProgressStyleModel",
      "state": {
       "description_width": "initial"
      }
     },
     "a3d49746129c45d2b90fb05810f5f98e": {
      "model_module": "@jupyter-widgets/controls",
      "model_module_version": "1.5.0",
      "model_name": "HBoxModel",
      "state": {
       "children": [
        "IPY_MODEL_26b62cb37a2a4329bd30658ac6f498ed",
        "IPY_MODEL_5386b67f409a4808a85b5ea4022f846a"
       ],
       "layout": "IPY_MODEL_e9c740795518404896dac3b340fd7a03"
      }
     },
     "a481b33cef884a9a8c120b9c48a7f00b": {
      "model_module": "@jupyter-widgets/base",
      "model_module_version": "1.2.0",
      "model_name": "LayoutModel",
      "state": {}
     },
     "a4d7dc14b34f412a9914482faf685711": {
      "model_module": "@jupyter-widgets/base",
      "model_module_version": "1.2.0",
      "model_name": "LayoutModel",
      "state": {}
     },
     "a5119f02035b4a2b81d3e8a6d130f038": {
      "model_module": "@jupyter-widgets/controls",
      "model_module_version": "1.5.0",
      "model_name": "HBoxModel",
      "state": {
       "children": [
        "IPY_MODEL_3667daf93f6842a19559701ca4a14b9c",
        "IPY_MODEL_b4bf331473884f67abcf92b6bb6a5c2c"
       ],
       "layout": "IPY_MODEL_e766465d953e43b09b6e9c272b020b9b"
      }
     },
     "a51538fb60544bafb36f6ea96b7a051f": {
      "model_module": "@jupyter-widgets/controls",
      "model_module_version": "1.5.0",
      "model_name": "ProgressStyleModel",
      "state": {
       "description_width": "initial"
      }
     },
     "a55d5fc0f8c646afaf2831ceb8bd45ba": {
      "model_module": "@jupyter-widgets/controls",
      "model_module_version": "1.5.0",
      "model_name": "DescriptionStyleModel",
      "state": {
       "description_width": ""
      }
     },
     "a55e165853604aa59a0c6b474f7d922e": {
      "model_module": "@jupyter-widgets/controls",
      "model_module_version": "1.5.0",
      "model_name": "DescriptionStyleModel",
      "state": {
       "description_width": ""
      }
     },
     "a5b7fe26f5194a08a2a3dface6d11261": {
      "model_module": "@jupyter-widgets/base",
      "model_module_version": "1.2.0",
      "model_name": "LayoutModel",
      "state": {}
     },
     "a5ca7f5ef55440d6991bef6a03eb262f": {
      "model_module": "@jupyter-widgets/controls",
      "model_module_version": "1.5.0",
      "model_name": "ProgressStyleModel",
      "state": {
       "description_width": "initial"
      }
     },
     "a62197f3171f46ea9588599f65082d33": {
      "model_module": "@jupyter-widgets/base",
      "model_module_version": "1.2.0",
      "model_name": "LayoutModel",
      "state": {}
     },
     "a69f7ef8e3e24981b92eebbfd0fcee17": {
      "model_module": "@jupyter-widgets/base",
      "model_module_version": "1.2.0",
      "model_name": "LayoutModel",
      "state": {}
     },
     "a72c50b666b64e56956b094ab5744a6f": {
      "model_module": "@jupyter-widgets/controls",
      "model_module_version": "1.5.0",
      "model_name": "FloatProgressModel",
      "state": {
       "bar_style": "success",
       "description": "100%",
       "layout": "IPY_MODEL_b287d013df3341af893ad008b639e763",
       "max": 27,
       "style": "IPY_MODEL_febf0e8234fa41c9b553f8fa55b3d3d4",
       "value": 27
      }
     },
     "a74945d5db4a4d93a7b08e2782d076be": {
      "model_module": "@jupyter-widgets/controls",
      "model_module_version": "1.5.0",
      "model_name": "HBoxModel",
      "state": {
       "children": [
        "IPY_MODEL_11bd0e50324a4f13901b670dee79cb1f",
        "IPY_MODEL_af8c8f66ec23429694933cf8e782063d"
       ],
       "layout": "IPY_MODEL_1d6568e3ef074c75ad3f483c7ad66309"
      }
     },
     "a771858c3c97427faf822d3a6bfd0f70": {
      "model_module": "@jupyter-widgets/base",
      "model_module_version": "1.2.0",
      "model_name": "LayoutModel",
      "state": {}
     },
     "a78159908e744b81baa5bc23f0cad543": {
      "model_module": "@jupyter-widgets/controls",
      "model_module_version": "1.5.0",
      "model_name": "FloatProgressModel",
      "state": {
       "bar_style": "success",
       "description": "100%",
       "layout": "IPY_MODEL_537f8bb3ff974a6f917dd2e0ab3d2450",
       "max": 27,
       "style": "IPY_MODEL_d397236d7b254eb69d2ca9e35dba31b5",
       "value": 27
      }
     },
     "a7b9e168038b4ed7abf1512fce4bbefc": {
      "model_module": "@jupyter-widgets/controls",
      "model_module_version": "1.5.0",
      "model_name": "FloatProgressModel",
      "state": {
       "bar_style": "success",
       "description": "100%",
       "layout": "IPY_MODEL_c610d1a83d2545dcb44b66b0631deece",
       "max": 9464,
       "style": "IPY_MODEL_ddce9637c7364877936ccf830153f26a",
       "value": 9464
      }
     },
     "a7e247dc0e6e477d8c2a66c79c58cbb6": {
      "model_module": "@jupyter-widgets/controls",
      "model_module_version": "1.5.0",
      "model_name": "HTMLModel",
      "state": {
       "layout": "IPY_MODEL_a5b7fe26f5194a08a2a3dface6d11261",
       "style": "IPY_MODEL_fe8f795a47664b629f6006676e67e084",
       "value": " 87/87 [00:44&lt;00:00,  1.94it/s]"
      }
     },
     "a835c957a412440a8e74c48419304f10": {
      "model_module": "@jupyter-widgets/base",
      "model_module_version": "1.2.0",
      "model_name": "LayoutModel",
      "state": {}
     },
     "a86ffbd2468b4384bda3bf55b7489e2f": {
      "model_module": "@jupyter-widgets/controls",
      "model_module_version": "1.5.0",
      "model_name": "HBoxModel",
      "state": {
       "children": [
        "IPY_MODEL_53cedda9bb984e3c9a4d6bf841c3be3c",
        "IPY_MODEL_9106a006985743878149de66b7083436"
       ],
       "layout": "IPY_MODEL_f978779e8ac644d4aad635ef9e2dc2b5"
      }
     },
     "a8dcbceaba774d80b8bebb622e7d0d7f": {
      "model_module": "@jupyter-widgets/controls",
      "model_module_version": "1.5.0",
      "model_name": "ProgressStyleModel",
      "state": {
       "description_width": "initial"
      }
     },
     "a96bb7d867d746f8af62066522a7077e": {
      "model_module": "@jupyter-widgets/base",
      "model_module_version": "1.2.0",
      "model_name": "LayoutModel",
      "state": {}
     },
     "a98e259fa9354ec8ba57452732cc9adc": {
      "model_module": "@jupyter-widgets/controls",
      "model_module_version": "1.5.0",
      "model_name": "ProgressStyleModel",
      "state": {
       "description_width": "initial"
      }
     },
     "a99aa0e4a1314d2684ae1872d3f23026": {
      "model_module": "@jupyter-widgets/controls",
      "model_module_version": "1.5.0",
      "model_name": "HTMLModel",
      "state": {
       "layout": "IPY_MODEL_0691da5be500433d8f509d281de9f5a8",
       "style": "IPY_MODEL_db76fd4257c349db94348ec834cb5e9a",
       "value": " 27/27 [01:08&lt;00:00,  2.53s/it]"
      }
     },
     "a9dcd3cc6f3c427a94c162f15d097d17": {
      "model_module": "@jupyter-widgets/controls",
      "model_module_version": "1.5.0",
      "model_name": "HBoxModel",
      "state": {
       "children": [
        "IPY_MODEL_3c60b8bacd864e868f33c94ab938d8f3",
        "IPY_MODEL_2289db99df3149e1b05f11c771dc7c61"
       ],
       "layout": "IPY_MODEL_6c41a260a89d41e59ffa26776de35b55"
      }
     },
     "aa354c64ed3749e099ecd3188695c7f5": {
      "model_module": "@jupyter-widgets/controls",
      "model_module_version": "1.5.0",
      "model_name": "DescriptionStyleModel",
      "state": {
       "description_width": ""
      }
     },
     "aa7f03fa3d1946569532dfb9121e7f63": {
      "model_module": "@jupyter-widgets/base",
      "model_module_version": "1.2.0",
      "model_name": "LayoutModel",
      "state": {}
     },
     "ad2df5f04f524bdc9ae9a9fe789d59a3": {
      "model_module": "@jupyter-widgets/base",
      "model_module_version": "1.2.0",
      "model_name": "LayoutModel",
      "state": {}
     },
     "ad4da0a11e384fb393b7567a10b43e21": {
      "model_module": "@jupyter-widgets/controls",
      "model_module_version": "1.5.0",
      "model_name": "HTMLModel",
      "state": {
       "layout": "IPY_MODEL_8d1a4c193f0c46bba931d974a6d46223",
       "style": "IPY_MODEL_2b0317d95a3b46b19271b9afd991d125",
       "value": " 0/? [46:15&lt;?, ?it/s]"
      }
     },
     "add30b98fd9f475a8fae40439c8b4eb4": {
      "model_module": "@jupyter-widgets/base",
      "model_module_version": "1.2.0",
      "model_name": "LayoutModel",
      "state": {}
     },
     "ae653311c7b94ddfb3e3d4d89ec76a40": {
      "model_module": "@jupyter-widgets/controls",
      "model_module_version": "1.5.0",
      "model_name": "DescriptionStyleModel",
      "state": {
       "description_width": ""
      }
     },
     "af819c4c7a294e0e9c0be4257e11058d": {
      "model_module": "@jupyter-widgets/base",
      "model_module_version": "1.2.0",
      "model_name": "LayoutModel",
      "state": {}
     },
     "af8c8f66ec23429694933cf8e782063d": {
      "model_module": "@jupyter-widgets/controls",
      "model_module_version": "1.5.0",
      "model_name": "HTMLModel",
      "state": {
       "layout": "IPY_MODEL_da23c4a978334598819ca7a5b9112f45",
       "style": "IPY_MODEL_0c8dca698ef344be8f91fa440b0bb7f4",
       "value": " 27/27 [03:51&lt;00:00,  8.56s/it]"
      }
     },
     "afdaea5a318b4e9e82026a3c2cfbdb4d": {
      "model_module": "@jupyter-widgets/controls",
      "model_module_version": "1.5.0",
      "model_name": "FloatProgressModel",
      "state": {
       "bar_style": "success",
       "description": "100%",
       "layout": "IPY_MODEL_5d5fc7d968b94630886891470bd1d993",
       "max": 27,
       "style": "IPY_MODEL_1a447137e13f43ab8046ffbdb2f75efc",
       "value": 27
      }
     },
     "b02d70edf78e4dd9ae4e4e94c0018ace": {
      "model_module": "@jupyter-widgets/controls",
      "model_module_version": "1.5.0",
      "model_name": "ProgressStyleModel",
      "state": {
       "description_width": "initial"
      }
     },
     "b07403a68be74109932df45a4a2ed8c7": {
      "model_module": "@jupyter-widgets/controls",
      "model_module_version": "1.5.0",
      "model_name": "HTMLModel",
      "state": {
       "layout": "IPY_MODEL_e3f3bcf7d19f46d7b7607a6ded3ab04c",
       "style": "IPY_MODEL_1daf2465ec3b4e96922dffae1b1d58c9",
       "value": " 27/27 [00:51&lt;00:00,  1.91s/it]"
      }
     },
     "b0be05aa6e3d4fff9e9e24f3f08956eb": {
      "model_module": "@jupyter-widgets/controls",
      "model_module_version": "1.5.0",
      "model_name": "FloatProgressModel",
      "state": {
       "bar_style": "success",
       "description": "100%",
       "layout": "IPY_MODEL_3118e1e1c58546318eaeb96d20a355cb",
       "max": 27,
       "style": "IPY_MODEL_56d1fc1b1b6f43669bff3d676f449a55",
       "value": 27
      }
     },
     "b16d894dfa394e56bb9392a05bcf8f6b": {
      "model_module": "@jupyter-widgets/controls",
      "model_module_version": "1.5.0",
      "model_name": "ProgressStyleModel",
      "state": {
       "description_width": "initial"
      }
     },
     "b1b47479f59f43d09fbd3d03663b0425": {
      "model_module": "@jupyter-widgets/controls",
      "model_module_version": "1.5.0",
      "model_name": "HTMLModel",
      "state": {
       "layout": "IPY_MODEL_955b2280c3dd4a9eb958ededbcd3521f",
       "style": "IPY_MODEL_e4eaa9a5bda54337b0abb328cc2e9fb8",
       "value": " 0/? [1:06:44&lt;?, ?it/s]"
      }
     },
     "b287d013df3341af893ad008b639e763": {
      "model_module": "@jupyter-widgets/base",
      "model_module_version": "1.2.0",
      "model_name": "LayoutModel",
      "state": {}
     },
     "b41a316172354cdba355450d2fba22ab": {
      "model_module": "@jupyter-widgets/controls",
      "model_module_version": "1.5.0",
      "model_name": "HBoxModel",
      "state": {
       "children": [
        "IPY_MODEL_0836a379366d4fb4ba648c3b36232b1d",
        "IPY_MODEL_8b1f35c57abd48af886a8f84425df94a"
       ],
       "layout": "IPY_MODEL_d1274ca66c694a3e88ab5c0b17937b0d"
      }
     },
     "b43ae1666dec46cab4690afddfb7316f": {
      "model_module": "@jupyter-widgets/controls",
      "model_module_version": "1.5.0",
      "model_name": "HBoxModel",
      "state": {
       "children": [
        "IPY_MODEL_d0b64aa77bd7474ba95bbde44f4a0431",
        "IPY_MODEL_8584c6d30d3c40df8218269dfca95282"
       ],
       "layout": "IPY_MODEL_37f48d30168745c29f01f787487c0c2b"
      }
     },
     "b4859f63032e4c78ba9114c0f7e2a82f": {
      "model_module": "@jupyter-widgets/controls",
      "model_module_version": "1.5.0",
      "model_name": "ProgressStyleModel",
      "state": {
       "description_width": "initial"
      }
     },
     "b4bf331473884f67abcf92b6bb6a5c2c": {
      "model_module": "@jupyter-widgets/controls",
      "model_module_version": "1.5.0",
      "model_name": "HTMLModel",
      "state": {
       "layout": "IPY_MODEL_5d860cc5e035421a917b0f6ada77e3dc",
       "style": "IPY_MODEL_65dd5fe58f1a4ba495a98e60f4d86891",
       "value": " 0/9464 [01:03&lt;?, ?it/s]"
      }
     },
     "b55853faf75b4801987751a50f640178": {
      "model_module": "@jupyter-widgets/base",
      "model_module_version": "1.2.0",
      "model_name": "LayoutModel",
      "state": {}
     },
     "b576ae42497f40eab0b37f93976a9d50": {
      "model_module": "@jupyter-widgets/controls",
      "model_module_version": "1.5.0",
      "model_name": "HBoxModel",
      "state": {
       "children": [
        "IPY_MODEL_b7b6835ac8c34d6eb51f180b4b120d75",
        "IPY_MODEL_7ec02d889da64bff918d6c67ecdf6de1"
       ],
       "layout": "IPY_MODEL_00a71137d4f8419fb87ddd7ea12196f9"
      }
     },
     "b5d2c14bf7c44d49b8b2cc2ef31100c5": {
      "model_module": "@jupyter-widgets/controls",
      "model_module_version": "1.5.0",
      "model_name": "FloatProgressModel",
      "state": {
       "bar_style": "danger",
       "description": "  0%",
       "layout": "IPY_MODEL_52bd5b927c8c4b5ca5facee082e32e9e",
       "max": 9464,
       "style": "IPY_MODEL_2192ca030d12401f802b1548333fd00f"
      }
     },
     "b6d39897accb442dbd9881b664879cfc": {
      "model_module": "@jupyter-widgets/controls",
      "model_module_version": "1.5.0",
      "model_name": "HTMLModel",
      "state": {
       "layout": "IPY_MODEL_e007bd9217fb435c8a8355c1d8c8899c",
       "style": "IPY_MODEL_1d75fd24a31f42f3b66c0ad3368396b1",
       "value": " 1315000/193822720 [02:31&lt;6:08:37, 8703.88it/s]"
      }
     },
     "b78b92ab3b8149b0918006c198b863ff": {
      "model_module": "@jupyter-widgets/controls",
      "model_module_version": "1.5.0",
      "model_name": "HBoxModel",
      "state": {
       "children": [
        "IPY_MODEL_3c4001a9ef764370b38a6739b6475994",
        "IPY_MODEL_371ad16a9c544c609df90d250cd53b52"
       ],
       "layout": "IPY_MODEL_9a88d00d83ec4dd18f488a239b709466"
      }
     },
     "b7b6835ac8c34d6eb51f180b4b120d75": {
      "model_module": "@jupyter-widgets/controls",
      "model_module_version": "1.5.0",
      "model_name": "FloatProgressModel",
      "state": {
       "bar_style": "danger",
       "description": "  3%",
       "layout": "IPY_MODEL_610a580e05d44d209711e5a1ebf13f94",
       "max": 193822720,
       "style": "IPY_MODEL_c4df3105bb2e4b12a70c12d4b36d20c0",
       "value": 4925000
      }
     },
     "b836e96f9e864916b20d4027a29cf294": {
      "model_module": "@jupyter-widgets/controls",
      "model_module_version": "1.5.0",
      "model_name": "FloatProgressModel",
      "state": {
       "bar_style": "danger",
       "description": "  0%",
       "layout": "IPY_MODEL_fb44609c27f440c8848157e23cc7e876",
       "max": 9464,
       "style": "IPY_MODEL_37aca47a82324b8980614f6ce497e852"
      }
     },
     "b92a444162474ec7858031536bf16f5b": {
      "model_module": "@jupyter-widgets/base",
      "model_module_version": "1.2.0",
      "model_name": "LayoutModel",
      "state": {}
     },
     "b947899158534625ac414c875fa7d79c": {
      "model_module": "@jupyter-widgets/controls",
      "model_module_version": "1.5.0",
      "model_name": "ProgressStyleModel",
      "state": {
       "description_width": "initial"
      }
     },
     "b97bd658123740718b87adffe386b1cb": {
      "model_module": "@jupyter-widgets/base",
      "model_module_version": "1.2.0",
      "model_name": "LayoutModel",
      "state": {}
     },
     "b98c7268a50a41c399714c505d3aaf9e": {
      "model_module": "@jupyter-widgets/base",
      "model_module_version": "1.2.0",
      "model_name": "LayoutModel",
      "state": {}
     },
     "b9b2e1fa6a0f43f1b61c5486fcc85a58": {
      "model_module": "@jupyter-widgets/base",
      "model_module_version": "1.2.0",
      "model_name": "LayoutModel",
      "state": {}
     },
     "b9f27956897c4854bc6210d3db8d05bd": {
      "model_module": "@jupyter-widgets/controls",
      "model_module_version": "1.5.0",
      "model_name": "ProgressStyleModel",
      "state": {
       "description_width": "initial"
      }
     },
     "ba0d5adb30b0451bbbf028b874ffbe95": {
      "model_module": "@jupyter-widgets/controls",
      "model_module_version": "1.5.0",
      "model_name": "HTMLModel",
      "state": {
       "layout": "IPY_MODEL_fbc1d9de96e44806aa2262e90a9b80aa",
       "style": "IPY_MODEL_7c12aa49f7124ff2a980658f59b52282",
       "value": " 9464/9464 [18:05&lt;00:00,  8.72it/s]"
      }
     },
     "bb12fb53f40c470890e9b9ed1950a067": {
      "model_module": "@jupyter-widgets/base",
      "model_module_version": "1.2.0",
      "model_name": "LayoutModel",
      "state": {}
     },
     "bb201fcb2043444996bfe11b2213c795": {
      "model_module": "@jupyter-widgets/base",
      "model_module_version": "1.2.0",
      "model_name": "LayoutModel",
      "state": {}
     },
     "bc5bb2d3adad41e0b591db94fd311aa5": {
      "model_module": "@jupyter-widgets/controls",
      "model_module_version": "1.5.0",
      "model_name": "ProgressStyleModel",
      "state": {
       "description_width": "initial"
      }
     },
     "bc72e53f0b3e4c96b4617169de3f9dd5": {
      "model_module": "@jupyter-widgets/base",
      "model_module_version": "1.2.0",
      "model_name": "LayoutModel",
      "state": {}
     },
     "bd0c6bf9afc74291a1f3ae80c093ca58": {
      "model_module": "@jupyter-widgets/base",
      "model_module_version": "1.2.0",
      "model_name": "LayoutModel",
      "state": {}
     },
     "bd50bc56b2e44537a8fc7253ad5a414b": {
      "model_module": "@jupyter-widgets/base",
      "model_module_version": "1.2.0",
      "model_name": "LayoutModel",
      "state": {}
     },
     "bd9a7edf48ba4af1a472a0b0e446b493": {
      "model_module": "@jupyter-widgets/base",
      "model_module_version": "1.2.0",
      "model_name": "LayoutModel",
      "state": {}
     },
     "bef5f6dfa6b6473b9d2709b8fe6ab85b": {
      "model_module": "@jupyter-widgets/controls",
      "model_module_version": "1.5.0",
      "model_name": "FloatProgressModel",
      "state": {
       "bar_style": "success",
       "description": "100%",
       "layout": "IPY_MODEL_ddfcc04dbe484222a0ac60aeb031895f",
       "max": 27,
       "style": "IPY_MODEL_2612db5e8c1b45f19affffeff4f68397",
       "value": 27
      }
     },
     "bf1bdaa6f0254f51a2435cf719531fa3": {
      "model_module": "@jupyter-widgets/controls",
      "model_module_version": "1.5.0",
      "model_name": "DescriptionStyleModel",
      "state": {
       "description_width": ""
      }
     },
     "bf4e3d91f55340fbb7b0475e81496a22": {
      "model_module": "@jupyter-widgets/base",
      "model_module_version": "1.2.0",
      "model_name": "LayoutModel",
      "state": {}
     },
     "bfa35f55a1a4484cac85eba5462ced9e": {
      "model_module": "@jupyter-widgets/controls",
      "model_module_version": "1.5.0",
      "model_name": "DescriptionStyleModel",
      "state": {
       "description_width": ""
      }
     },
     "bfa543ad5fec4922b5dfbdad0ec78289": {
      "model_module": "@jupyter-widgets/base",
      "model_module_version": "1.2.0",
      "model_name": "LayoutModel",
      "state": {}
     },
     "c04a4105eec74ed9bf93222055ba9fd4": {
      "model_module": "@jupyter-widgets/base",
      "model_module_version": "1.2.0",
      "model_name": "LayoutModel",
      "state": {}
     },
     "c0ae0e0fa9d645d99a9a8ec27ab73587": {
      "model_module": "@jupyter-widgets/controls",
      "model_module_version": "1.5.0",
      "model_name": "DescriptionStyleModel",
      "state": {
       "description_width": ""
      }
     },
     "c0d6386a751244f9bba75742a4327c3c": {
      "model_module": "@jupyter-widgets/controls",
      "model_module_version": "1.5.0",
      "model_name": "HBoxModel",
      "state": {
       "children": [
        "IPY_MODEL_a31f1827ced04caba939f124bff441e6",
        "IPY_MODEL_0c891dfb6b5140b2aca801125e822615"
       ],
       "layout": "IPY_MODEL_aa7f03fa3d1946569532dfb9121e7f63"
      }
     },
     "c21d88f7e6e14a21b222ac2abb8e6ace": {
      "model_module": "@jupyter-widgets/controls",
      "model_module_version": "1.5.0",
      "model_name": "FloatProgressModel",
      "state": {
       "bar_style": "success",
       "description": "100%",
       "layout": "IPY_MODEL_82580211a7484582b0bf7602dacf6028",
       "max": 57,
       "style": "IPY_MODEL_a39ce88482e34298914581d0107fff9d",
       "value": 57
      }
     },
     "c2637f9205d84d2e8cb04f5015501662": {
      "model_module": "@jupyter-widgets/controls",
      "model_module_version": "1.5.0",
      "model_name": "HTMLModel",
      "state": {
       "layout": "IPY_MODEL_2683f26f2cf34a85a7f651172c7ec90c",
       "style": "IPY_MODEL_c409f2b209e643a0b1ac0b64cb88a13c",
       "value": " 0/? [1:07:20&lt;?, ?it/s]"
      }
     },
     "c3a7ff94df064124b25b2446036e6172": {
      "model_module": "@jupyter-widgets/controls",
      "model_module_version": "1.5.0",
      "model_name": "HBoxModel",
      "state": {
       "children": [
        "IPY_MODEL_e0c00467f0c84e589090d853b9226e21",
        "IPY_MODEL_897eca5f36da452fa4d8b0a9c2070d08"
       ],
       "layout": "IPY_MODEL_e2bb1cb8559249cd9d403842b3b54db3"
      }
     },
     "c3a94f83adb34b478c27c1ab9b5843da": {
      "model_module": "@jupyter-widgets/controls",
      "model_module_version": "1.5.0",
      "model_name": "ProgressStyleModel",
      "state": {
       "description_width": "initial"
      }
     },
     "c3f40848d41c464491617e83d02c8eda": {
      "model_module": "@jupyter-widgets/controls",
      "model_module_version": "1.5.0",
      "model_name": "ProgressStyleModel",
      "state": {
       "description_width": "initial"
      }
     },
     "c409f2b209e643a0b1ac0b64cb88a13c": {
      "model_module": "@jupyter-widgets/controls",
      "model_module_version": "1.5.0",
      "model_name": "DescriptionStyleModel",
      "state": {
       "description_width": ""
      }
     },
     "c444dd145a9d44848e30c6490d63fcb9": {
      "model_module": "@jupyter-widgets/controls",
      "model_module_version": "1.5.0",
      "model_name": "FloatProgressModel",
      "state": {
       "bar_style": "success",
       "description": "100%",
       "layout": "IPY_MODEL_8c857cc1fd6347e8b6b0f1693ad96eca",
       "max": 9464,
       "style": "IPY_MODEL_5364fa8dc47048089adf8cbb61c54cf7",
       "value": 9464
      }
     },
     "c4df3105bb2e4b12a70c12d4b36d20c0": {
      "model_module": "@jupyter-widgets/controls",
      "model_module_version": "1.5.0",
      "model_name": "ProgressStyleModel",
      "state": {
       "description_width": "initial"
      }
     },
     "c56f56d23ec0429f96b8307a9a2804a9": {
      "model_module": "@jupyter-widgets/base",
      "model_module_version": "1.2.0",
      "model_name": "LayoutModel",
      "state": {}
     },
     "c57d514d23944d869485107c0992d3cb": {
      "model_module": "@jupyter-widgets/base",
      "model_module_version": "1.2.0",
      "model_name": "LayoutModel",
      "state": {}
     },
     "c5a7d7af42284fe581332b5d1bb5de38": {
      "model_module": "@jupyter-widgets/controls",
      "model_module_version": "1.5.0",
      "model_name": "FloatProgressModel",
      "state": {
       "bar_style": "danger",
       "description": "  3%",
       "layout": "IPY_MODEL_2dc537476772406c8bf57716fbc70bcb",
       "max": 193822720,
       "style": "IPY_MODEL_5497ed2efaf04999bd94e206e9f1ae04",
       "value": 6600000
      }
     },
     "c610ce72863e44068b95c44b2164621a": {
      "model_module": "@jupyter-widgets/controls",
      "model_module_version": "1.5.0",
      "model_name": "ProgressStyleModel",
      "state": {
       "description_width": "initial"
      }
     },
     "c610d1a83d2545dcb44b66b0631deece": {
      "model_module": "@jupyter-widgets/base",
      "model_module_version": "1.2.0",
      "model_name": "LayoutModel",
      "state": {}
     },
     "c66deda988314fa1ac4865964fac254c": {
      "model_module": "@jupyter-widgets/controls",
      "model_module_version": "1.5.0",
      "model_name": "ProgressStyleModel",
      "state": {
       "description_width": "initial"
      }
     },
     "c67479c8f3604066a80bc0041717d06f": {
      "model_module": "@jupyter-widgets/base",
      "model_module_version": "1.2.0",
      "model_name": "LayoutModel",
      "state": {}
     },
     "c6ca3b5b0a9e4a7e956d325f20d50eaf": {
      "model_module": "@jupyter-widgets/controls",
      "model_module_version": "1.5.0",
      "model_name": "FloatProgressModel",
      "state": {
       "bar_style": "info",
       "layout": "IPY_MODEL_4ff52997384246948dd7cb0866f7c786",
       "max": 1,
       "style": "IPY_MODEL_1019b3c66f6f40ee8b78aa950264ff65"
      }
     },
     "c736297940484283be7cee26886da0f6": {
      "model_module": "@jupyter-widgets/controls",
      "model_module_version": "1.5.0",
      "model_name": "HTMLModel",
      "state": {
       "layout": "IPY_MODEL_324c29310b3d489aaf26d08f0d9693ed",
       "style": "IPY_MODEL_aa354c64ed3749e099ecd3188695c7f5",
       "value": " 0/9464 [00:20&lt;?, ?it/s]"
      }
     },
     "c814c4e1602a4b8085bb61eb9b35e9f7": {
      "model_module": "@jupyter-widgets/controls",
      "model_module_version": "1.5.0",
      "model_name": "HBoxModel",
      "state": {
       "children": [
        "IPY_MODEL_afdaea5a318b4e9e82026a3c2cfbdb4d",
        "IPY_MODEL_62de6f789d364462b922b05541349496"
       ],
       "layout": "IPY_MODEL_6ae48c87317b44d39fd7104e46aa5a0a"
      }
     },
     "c86d1326c81e4c9ea2941856c27d44a8": {
      "model_module": "@jupyter-widgets/controls",
      "model_module_version": "1.5.0",
      "model_name": "ProgressStyleModel",
      "state": {
       "description_width": "initial"
      }
     },
     "c8cd705292a74f08aa5e9fbaf73a8013": {
      "model_module": "@jupyter-widgets/controls",
      "model_module_version": "1.5.0",
      "model_name": "DescriptionStyleModel",
      "state": {
       "description_width": ""
      }
     },
     "c9228491021e4e52ab88a8663e028925": {
      "model_module": "@jupyter-widgets/base",
      "model_module_version": "1.2.0",
      "model_name": "LayoutModel",
      "state": {}
     },
     "c9244abcea9c4d7d9a1e996f9f9b97f7": {
      "model_module": "@jupyter-widgets/base",
      "model_module_version": "1.2.0",
      "model_name": "LayoutModel",
      "state": {}
     },
     "c9788a3879d645f781ac5a77369af27c": {
      "model_module": "@jupyter-widgets/controls",
      "model_module_version": "1.5.0",
      "model_name": "ProgressStyleModel",
      "state": {
       "description_width": "initial"
      }
     },
     "c9dfbbb2105e4715806c491a88943a90": {
      "model_module": "@jupyter-widgets/controls",
      "model_module_version": "1.5.0",
      "model_name": "FloatProgressModel",
      "state": {
       "bar_style": "success",
       "description": "100%",
       "layout": "IPY_MODEL_4635a0f011104995b886e672a1f630bf",
       "max": 9464,
       "style": "IPY_MODEL_536201d01c7b4332be3b5886b4841162",
       "value": 9464
      }
     },
     "ca4bc03e0388499f8f5175f8cee9b37c": {
      "model_module": "@jupyter-widgets/base",
      "model_module_version": "1.2.0",
      "model_name": "LayoutModel",
      "state": {}
     },
     "cab5399fd74143389be7c4c1ebddec35": {
      "model_module": "@jupyter-widgets/base",
      "model_module_version": "1.2.0",
      "model_name": "LayoutModel",
      "state": {}
     },
     "cad40a21387c4be299e0ab8239226d15": {
      "model_module": "@jupyter-widgets/controls",
      "model_module_version": "1.5.0",
      "model_name": "HTMLModel",
      "state": {
       "layout": "IPY_MODEL_b92a444162474ec7858031536bf16f5b",
       "style": "IPY_MODEL_61477d6c954b40cfa5c4031501283679",
       "value": " 0/9464 [00:41&lt;?, ?it/s]"
      }
     },
     "cbfa903c6de5481a93d96704d175df2a": {
      "model_module": "@jupyter-widgets/base",
      "model_module_version": "1.2.0",
      "model_name": "LayoutModel",
      "state": {}
     },
     "cc82bc519d6d420a8ab5eb8e6ee3bedb": {
      "model_module": "@jupyter-widgets/controls",
      "model_module_version": "1.5.0",
      "model_name": "ProgressStyleModel",
      "state": {
       "description_width": "initial"
      }
     },
     "cc88121e2a51444ebf54168daa69e7e0": {
      "model_module": "@jupyter-widgets/controls",
      "model_module_version": "1.5.0",
      "model_name": "DescriptionStyleModel",
      "state": {
       "description_width": ""
      }
     },
     "cd067bf90fa347f1bcded810f0935ccb": {
      "model_module": "@jupyter-widgets/controls",
      "model_module_version": "1.5.0",
      "model_name": "DescriptionStyleModel",
      "state": {
       "description_width": ""
      }
     },
     "cddbac1a56284c178c80587a12b087a6": {
      "model_module": "@jupyter-widgets/controls",
      "model_module_version": "1.5.0",
      "model_name": "DescriptionStyleModel",
      "state": {
       "description_width": ""
      }
     },
     "ce17922f245c49daabe2a129ed801875": {
      "model_module": "@jupyter-widgets/controls",
      "model_module_version": "1.5.0",
      "model_name": "DescriptionStyleModel",
      "state": {
       "description_width": ""
      }
     },
     "cecdd6586f4f4314bdbdcd640bd01c40": {
      "model_module": "@jupyter-widgets/controls",
      "model_module_version": "1.5.0",
      "model_name": "FloatProgressModel",
      "state": {
       "bar_style": "info",
       "layout": "IPY_MODEL_5d1a335bffed4e84a516f7b7215583cd",
       "max": 1,
       "style": "IPY_MODEL_e12ee157d32746939886aa620b2a6914"
      }
     },
     "cecf3168f8d8472db8f59aad0c1c3eca": {
      "model_module": "@jupyter-widgets/controls",
      "model_module_version": "1.5.0",
      "model_name": "HBoxModel",
      "state": {
       "children": [
        "IPY_MODEL_c444dd145a9d44848e30c6490d63fcb9",
        "IPY_MODEL_d249757d9d6a4668a634e7df6038b3d3"
       ],
       "layout": "IPY_MODEL_4391d8a9724f46bfb766f94410f212f7"
      }
     },
     "ced8c3d0b8304ecf81eb7ee2f493a8bc": {
      "model_module": "@jupyter-widgets/controls",
      "model_module_version": "1.5.0",
      "model_name": "HTMLModel",
      "state": {
       "layout": "IPY_MODEL_a26ea4831f2844519ec435d30be1a95f",
       "style": "IPY_MODEL_68005e31b98441c0b943130192a80c84",
       "value": " 193820000/193822720 [42:26&lt;00:00, 76102.26it/s]"
      }
     },
     "cf4ac109251749d0bed204a33ff97657": {
      "model_module": "@jupyter-widgets/controls",
      "model_module_version": "1.5.0",
      "model_name": "ProgressStyleModel",
      "state": {
       "description_width": "initial"
      }
     },
     "d018ad92f950437a803f511bf9251847": {
      "model_module": "@jupyter-widgets/controls",
      "model_module_version": "1.5.0",
      "model_name": "HBoxModel",
      "state": {
       "children": [
        "IPY_MODEL_7e2fc34e96234c47aae30389ec1cefbe",
        "IPY_MODEL_5c08999581864bc8afcb5c4d754fb996"
       ],
       "layout": "IPY_MODEL_522ed26eaf074f62b2c993c740d507ef"
      }
     },
     "d0b64aa77bd7474ba95bbde44f4a0431": {
      "model_module": "@jupyter-widgets/controls",
      "model_module_version": "1.5.0",
      "model_name": "FloatProgressModel",
      "state": {
       "bar_style": "success",
       "description": "100%",
       "layout": "IPY_MODEL_e19d46301def4d11a7d419e2ed98ccbe",
       "max": 27,
       "style": "IPY_MODEL_bc5bb2d3adad41e0b591db94fd311aa5",
       "value": 27
      }
     },
     "d0f0befa91c2495a8e482751636bf139": {
      "model_module": "@jupyter-widgets/controls",
      "model_module_version": "1.5.0",
      "model_name": "HBoxModel",
      "state": {
       "children": [
        "IPY_MODEL_a78159908e744b81baa5bc23f0cad543",
        "IPY_MODEL_7ee8f27df7eb4097bfce82cfd5f9a04a"
       ],
       "layout": "IPY_MODEL_396f03b988e14428964b1702ca79f1bd"
      }
     },
     "d11d6f24e64d459c8611578738e12f8d": {
      "model_module": "@jupyter-widgets/base",
      "model_module_version": "1.2.0",
      "model_name": "LayoutModel",
      "state": {}
     },
     "d12264fa8a9a47eeac0368b605e96cee": {
      "model_module": "@jupyter-widgets/base",
      "model_module_version": "1.2.0",
      "model_name": "LayoutModel",
      "state": {}
     },
     "d1274ca66c694a3e88ab5c0b17937b0d": {
      "model_module": "@jupyter-widgets/base",
      "model_module_version": "1.2.0",
      "model_name": "LayoutModel",
      "state": {}
     },
     "d18aea06368449fbba3d23a3f454bf9b": {
      "model_module": "@jupyter-widgets/controls",
      "model_module_version": "1.5.0",
      "model_name": "DescriptionStyleModel",
      "state": {
       "description_width": ""
      }
     },
     "d2091e3af0cc4c16918d02e1b0994fa7": {
      "model_module": "@jupyter-widgets/controls",
      "model_module_version": "1.5.0",
      "model_name": "HBoxModel",
      "state": {
       "children": [
        "IPY_MODEL_9e57b13401374f018f414dc74cbaf8d2",
        "IPY_MODEL_4d4fbbc4f9d9471a840e70d8b56a730b"
       ],
       "layout": "IPY_MODEL_29715531b61645bf874c16b5e7a4fff4"
      }
     },
     "d249757d9d6a4668a634e7df6038b3d3": {
      "model_module": "@jupyter-widgets/controls",
      "model_module_version": "1.5.0",
      "model_name": "HTMLModel",
      "state": {
       "layout": "IPY_MODEL_a771858c3c97427faf822d3a6bfd0f70",
       "style": "IPY_MODEL_a55e165853604aa59a0c6b474f7d922e",
       "value": " 9464/9464 [31:50&lt;00:00,  4.95it/s]"
      }
     },
     "d25e3a5fb3af42f4a9bb830fdcd1e2de": {
      "model_module": "@jupyter-widgets/controls",
      "model_module_version": "1.5.0",
      "model_name": "FloatProgressModel",
      "state": {
       "bar_style": "success",
       "description": "100%",
       "layout": "IPY_MODEL_bd0c6bf9afc74291a1f3ae80c093ca58",
       "max": 27,
       "style": "IPY_MODEL_51384e52b0e7468082d37311b086939d",
       "value": 27
      }
     },
     "d28aa61a584b4a338aa24f5809c65839": {
      "model_module": "@jupyter-widgets/controls",
      "model_module_version": "1.5.0",
      "model_name": "DescriptionStyleModel",
      "state": {
       "description_width": ""
      }
     },
     "d2a9f3f9e585413ab8bf847850eb0e0c": {
      "model_module": "@jupyter-widgets/controls",
      "model_module_version": "1.5.0",
      "model_name": "DescriptionStyleModel",
      "state": {
       "description_width": ""
      }
     },
     "d2fc94615583435bb1e4acc4933f3ca8": {
      "model_module": "@jupyter-widgets/controls",
      "model_module_version": "1.5.0",
      "model_name": "FloatProgressModel",
      "state": {
       "bar_style": "danger",
       "description": "100%",
       "layout": "IPY_MODEL_3e33fc40572a4999bb911ae6ea25f070",
       "max": 193822720,
       "style": "IPY_MODEL_b947899158534625ac414c875fa7d79c",
       "value": 193820000
      }
     },
     "d3221247037844c5b5fa59276f034eb8": {
      "model_module": "@jupyter-widgets/controls",
      "model_module_version": "1.5.0",
      "model_name": "FloatProgressModel",
      "state": {
       "bar_style": "danger",
       "description": "  1%",
       "layout": "IPY_MODEL_8028492d19d949908ce6587c4e849e8c",
       "max": 193822720,
       "style": "IPY_MODEL_1d4b3ccd94ca41178bb9786316957932",
       "value": 1315000
      }
     },
     "d330e1c1dbc24e5ba0b8048b62d48275": {
      "model_module": "@jupyter-widgets/controls",
      "model_module_version": "1.5.0",
      "model_name": "FloatProgressModel",
      "state": {
       "bar_style": "danger",
       "description": "  0%",
       "layout": "IPY_MODEL_e39f992f4b594c28b6735a7bcf4af87a",
       "max": 9464,
       "style": "IPY_MODEL_c9788a3879d645f781ac5a77369af27c"
      }
     },
     "d3706c2926b74fcdba372beb5c207488": {
      "model_module": "@jupyter-widgets/controls",
      "model_module_version": "1.5.0",
      "model_name": "ProgressStyleModel",
      "state": {
       "description_width": "initial"
      }
     },
     "d37181f649a44788977316220e5ebd4b": {
      "model_module": "@jupyter-widgets/base",
      "model_module_version": "1.2.0",
      "model_name": "LayoutModel",
      "state": {}
     },
     "d397236d7b254eb69d2ca9e35dba31b5": {
      "model_module": "@jupyter-widgets/controls",
      "model_module_version": "1.5.0",
      "model_name": "ProgressStyleModel",
      "state": {
       "description_width": "initial"
      }
     },
     "d471893a85424ad7bfbda145eede7f82": {
      "model_module": "@jupyter-widgets/base",
      "model_module_version": "1.2.0",
      "model_name": "LayoutModel",
      "state": {}
     },
     "d49d49ef39424e27810a6b1e82a4e6bd": {
      "model_module": "@jupyter-widgets/controls",
      "model_module_version": "1.5.0",
      "model_name": "HTMLModel",
      "state": {
       "layout": "IPY_MODEL_3bfeda3da97b4730b828a9fd10c67b1d",
       "style": "IPY_MODEL_5a50219337434393a27c92b2a9040fda",
       "value": " 0/9464 [01:21&lt;?, ?it/s]"
      }
     },
     "d4ebc31b0e6c4a9a965a721db734b681": {
      "model_module": "@jupyter-widgets/base",
      "model_module_version": "1.2.0",
      "model_name": "LayoutModel",
      "state": {}
     },
     "d523e4873778487ea307e2e05eb38235": {
      "model_module": "@jupyter-widgets/controls",
      "model_module_version": "1.5.0",
      "model_name": "FloatProgressModel",
      "state": {
       "bar_style": "success",
       "description": "100%",
       "layout": "IPY_MODEL_16f69ad3531c473d948e75efbd3204ec",
       "max": 27,
       "style": "IPY_MODEL_d9afe8c664fc45f698ccd1dfed209310",
       "value": 27
      }
     },
     "d6275386b19d47ca8e9fe136aeb815f8": {
      "model_module": "@jupyter-widgets/base",
      "model_module_version": "1.2.0",
      "model_name": "LayoutModel",
      "state": {}
     },
     "d6c0fe94c1f442878c1d35f3ad3e0260": {
      "model_module": "@jupyter-widgets/controls",
      "model_module_version": "1.5.0",
      "model_name": "HTMLModel",
      "state": {
       "layout": "IPY_MODEL_f58b622225784aa897358e410bd7feb5",
       "style": "IPY_MODEL_4f848fc3c7ee4e2faad1a405fe846db2",
       "value": " 27/27 [00:38&lt;00:00,  1.43s/it]"
      }
     },
     "d6f30f66babf44c3be4d3d5b960aed9c": {
      "model_module": "@jupyter-widgets/controls",
      "model_module_version": "1.5.0",
      "model_name": "DescriptionStyleModel",
      "state": {
       "description_width": ""
      }
     },
     "d81634dcd59b4167b2de45613b04d6e7": {
      "model_module": "@jupyter-widgets/controls",
      "model_module_version": "1.5.0",
      "model_name": "DescriptionStyleModel",
      "state": {
       "description_width": ""
      }
     },
     "d82b46ee2c1942e6aefdaa40a5243224": {
      "model_module": "@jupyter-widgets/controls",
      "model_module_version": "1.5.0",
      "model_name": "FloatProgressModel",
      "state": {
       "bar_style": "success",
       "description": "100%",
       "layout": "IPY_MODEL_9520bea899b242a1bf55bb219937181b",
       "max": 27,
       "style": "IPY_MODEL_92f82530ddf04439affd1b7b36f2d409",
       "value": 27
      }
     },
     "d89f7afe79334ae482b599f94349fe47": {
      "model_module": "@jupyter-widgets/controls",
      "model_module_version": "1.5.0",
      "model_name": "HBoxModel",
      "state": {
       "children": [
        "IPY_MODEL_762637bf7218493b9831a0ad45a7cbf5",
        "IPY_MODEL_3197a0f01e794ed584521c2e91ce6fa6"
       ],
       "layout": "IPY_MODEL_99d069252a2a40a992a9f1016f39e48c"
      }
     },
     "d95d46e1d2a94612b8055dc38e73359e": {
      "model_module": "@jupyter-widgets/controls",
      "model_module_version": "1.5.0",
      "model_name": "FloatProgressModel",
      "state": {
       "bar_style": "info",
       "layout": "IPY_MODEL_696f5d33a0594e77b55b3b79f5618443",
       "max": 1,
       "style": "IPY_MODEL_b02d70edf78e4dd9ae4e4e94c0018ace"
      }
     },
     "d9afe8c664fc45f698ccd1dfed209310": {
      "model_module": "@jupyter-widgets/controls",
      "model_module_version": "1.5.0",
      "model_name": "ProgressStyleModel",
      "state": {
       "description_width": "initial"
      }
     },
     "d9cfcf987c064e8e8b6fea739ecb120c": {
      "model_module": "@jupyter-widgets/base",
      "model_module_version": "1.2.0",
      "model_name": "LayoutModel",
      "state": {}
     },
     "da23c4a978334598819ca7a5b9112f45": {
      "model_module": "@jupyter-widgets/base",
      "model_module_version": "1.2.0",
      "model_name": "LayoutModel",
      "state": {}
     },
     "da6f90a6cd184777b36dc157353af1e2": {
      "model_module": "@jupyter-widgets/base",
      "model_module_version": "1.2.0",
      "model_name": "LayoutModel",
      "state": {}
     },
     "dab027b52aeb4e01aa487251a399247d": {
      "model_module": "@jupyter-widgets/base",
      "model_module_version": "1.2.0",
      "model_name": "LayoutModel",
      "state": {}
     },
     "dafd074049984a4193264fe6d55bc073": {
      "model_module": "@jupyter-widgets/controls",
      "model_module_version": "1.5.0",
      "model_name": "ProgressStyleModel",
      "state": {
       "description_width": "initial"
      }
     },
     "db76fd4257c349db94348ec834cb5e9a": {
      "model_module": "@jupyter-widgets/controls",
      "model_module_version": "1.5.0",
      "model_name": "DescriptionStyleModel",
      "state": {
       "description_width": ""
      }
     },
     "dc5a54d9776e4000ab979878f391ded0": {
      "model_module": "@jupyter-widgets/base",
      "model_module_version": "1.2.0",
      "model_name": "LayoutModel",
      "state": {}
     },
     "dd1a6495876a4868a762df705258ade6": {
      "model_module": "@jupyter-widgets/controls",
      "model_module_version": "1.5.0",
      "model_name": "DescriptionStyleModel",
      "state": {
       "description_width": ""
      }
     },
     "ddce9637c7364877936ccf830153f26a": {
      "model_module": "@jupyter-widgets/controls",
      "model_module_version": "1.5.0",
      "model_name": "ProgressStyleModel",
      "state": {
       "description_width": "initial"
      }
     },
     "ddfcc04dbe484222a0ac60aeb031895f": {
      "model_module": "@jupyter-widgets/base",
      "model_module_version": "1.2.0",
      "model_name": "LayoutModel",
      "state": {}
     },
     "de60855258c5431fa13425568b9ae57e": {
      "model_module": "@jupyter-widgets/base",
      "model_module_version": "1.2.0",
      "model_name": "LayoutModel",
      "state": {}
     },
     "de71b0f3cfac45f3b3b9985482ccec42": {
      "model_module": "@jupyter-widgets/controls",
      "model_module_version": "1.5.0",
      "model_name": "FloatProgressModel",
      "state": {
       "bar_style": "success",
       "description": "100%",
       "layout": "IPY_MODEL_9264d7c469c140d79f81e886a27dc8c2",
       "max": 193822720,
       "style": "IPY_MODEL_a98e259fa9354ec8ba57452732cc9adc",
       "value": 193822720
      }
     },
     "def82c6e64c047f2bfcd3545b4d45bf6": {
      "model_module": "@jupyter-widgets/controls",
      "model_module_version": "1.5.0",
      "model_name": "HTMLModel",
      "state": {
       "layout": "IPY_MODEL_62c0140d4a724afabf35b1ad84dc5e69",
       "style": "IPY_MODEL_bfa35f55a1a4484cac85eba5462ced9e",
       "value": " 27/27 [01:27&lt;00:00,  3.24s/it]"
      }
     },
     "dfb39036065e4c4ba629cdaea0a19d1d": {
      "model_module": "@jupyter-widgets/base",
      "model_module_version": "1.2.0",
      "model_name": "LayoutModel",
      "state": {}
     },
     "dfc734f0e3ca497986e4e02f75c639c8": {
      "model_module": "@jupyter-widgets/base",
      "model_module_version": "1.2.0",
      "model_name": "LayoutModel",
      "state": {}
     },
     "e003e7d5d85541239072fbeb0a2aaaa0": {
      "model_module": "@jupyter-widgets/base",
      "model_module_version": "1.2.0",
      "model_name": "LayoutModel",
      "state": {}
     },
     "e007bd9217fb435c8a8355c1d8c8899c": {
      "model_module": "@jupyter-widgets/base",
      "model_module_version": "1.2.0",
      "model_name": "LayoutModel",
      "state": {}
     },
     "e010f20e60b7422fbf71c1ae0cdd3229": {
      "model_module": "@jupyter-widgets/controls",
      "model_module_version": "1.5.0",
      "model_name": "HTMLModel",
      "state": {
       "layout": "IPY_MODEL_71a868dc30994b86b3aaf7565ab229ec",
       "style": "IPY_MODEL_eccc5cda137a412ca7982e4b01a79b26",
       "value": " 0/9464 [47:35&lt;?, ?it/s]"
      }
     },
     "e03c3293a52a4db98d62b533ed858bef": {
      "model_module": "@jupyter-widgets/base",
      "model_module_version": "1.2.0",
      "model_name": "LayoutModel",
      "state": {}
     },
     "e0c00467f0c84e589090d853b9226e21": {
      "model_module": "@jupyter-widgets/controls",
      "model_module_version": "1.5.0",
      "model_name": "FloatProgressModel",
      "state": {
       "bar_style": "success",
       "description": "100%",
       "layout": "IPY_MODEL_18324c961a544fca8e397a08169b7dbb",
       "max": 9464,
       "style": "IPY_MODEL_3cbcc5cd25184f66a253d5f62e4423fb",
       "value": 9464
      }
     },
     "e12ee157d32746939886aa620b2a6914": {
      "model_module": "@jupyter-widgets/controls",
      "model_module_version": "1.5.0",
      "model_name": "ProgressStyleModel",
      "state": {
       "description_width": "initial"
      }
     },
     "e19d46301def4d11a7d419e2ed98ccbe": {
      "model_module": "@jupyter-widgets/base",
      "model_module_version": "1.2.0",
      "model_name": "LayoutModel",
      "state": {}
     },
     "e1d4ba7b36e54a0584a70e4d7ddf8ea4": {
      "model_module": "@jupyter-widgets/controls",
      "model_module_version": "1.5.0",
      "model_name": "HBoxModel",
      "state": {
       "children": [
        "IPY_MODEL_0edd24e275e64cbb8e5c1f8e8b015946",
        "IPY_MODEL_3f0b78d8ddaf4f6d9210ed4d12a76409"
       ],
       "layout": "IPY_MODEL_4a25754241de449ca5ccff57133e435b"
      }
     },
     "e2ab79da6598464db9852e0ba5ef1b44": {
      "model_module": "@jupyter-widgets/base",
      "model_module_version": "1.2.0",
      "model_name": "LayoutModel",
      "state": {}
     },
     "e2bb1cb8559249cd9d403842b3b54db3": {
      "model_module": "@jupyter-widgets/base",
      "model_module_version": "1.2.0",
      "model_name": "LayoutModel",
      "state": {}
     },
     "e2e4c220f93f46f5adb23e94b56399c3": {
      "model_module": "@jupyter-widgets/controls",
      "model_module_version": "1.5.0",
      "model_name": "FloatProgressModel",
      "state": {
       "bar_style": "info",
       "layout": "IPY_MODEL_23f6e1d470d64a4ca1b0d5052961646f",
       "max": 1,
       "style": "IPY_MODEL_d3706c2926b74fcdba372beb5c207488"
      }
     },
     "e3076e8594ac4d8fa635922b85b72f92": {
      "model_module": "@jupyter-widgets/base",
      "model_module_version": "1.2.0",
      "model_name": "LayoutModel",
      "state": {}
     },
     "e39f992f4b594c28b6735a7bcf4af87a": {
      "model_module": "@jupyter-widgets/base",
      "model_module_version": "1.2.0",
      "model_name": "LayoutModel",
      "state": {}
     },
     "e3f16cfa3c4a4e04a6f57d846f916fff": {
      "model_module": "@jupyter-widgets/controls",
      "model_module_version": "1.5.0",
      "model_name": "DescriptionStyleModel",
      "state": {
       "description_width": ""
      }
     },
     "e3f3bcf7d19f46d7b7607a6ded3ab04c": {
      "model_module": "@jupyter-widgets/base",
      "model_module_version": "1.2.0",
      "model_name": "LayoutModel",
      "state": {}
     },
     "e4eaa9a5bda54337b0abb328cc2e9fb8": {
      "model_module": "@jupyter-widgets/controls",
      "model_module_version": "1.5.0",
      "model_name": "DescriptionStyleModel",
      "state": {
       "description_width": ""
      }
     },
     "e562de85992a441ea9b3e6b93df494af": {
      "model_module": "@jupyter-widgets/controls",
      "model_module_version": "1.5.0",
      "model_name": "DescriptionStyleModel",
      "state": {
       "description_width": ""
      }
     },
     "e66a47c4567a48dca6e51ab76740dbd9": {
      "model_module": "@jupyter-widgets/base",
      "model_module_version": "1.2.0",
      "model_name": "LayoutModel",
      "state": {}
     },
     "e66db0033cc54f029f9b4c923f8f68e1": {
      "model_module": "@jupyter-widgets/controls",
      "model_module_version": "1.5.0",
      "model_name": "HBoxModel",
      "state": {
       "children": [
        "IPY_MODEL_3c24c177fd0f4ef782221c0eaa6ed4f0",
        "IPY_MODEL_947c94af2a8f42068ff860812bc81906"
       ],
       "layout": "IPY_MODEL_691d917c99aa4d5da6b486903535029a"
      }
     },
     "e68245b8a88845b583242c8b14dc326f": {
      "model_module": "@jupyter-widgets/base",
      "model_module_version": "1.2.0",
      "model_name": "LayoutModel",
      "state": {}
     },
     "e6ff2fa868ba43f699bf18a93f88d1e6": {
      "model_module": "@jupyter-widgets/controls",
      "model_module_version": "1.5.0",
      "model_name": "ProgressStyleModel",
      "state": {
       "description_width": "initial"
      }
     },
     "e73711da08834771af2b49dcea67f592": {
      "model_module": "@jupyter-widgets/base",
      "model_module_version": "1.2.0",
      "model_name": "LayoutModel",
      "state": {}
     },
     "e755952164ab4eeca343f6f9de33b003": {
      "model_module": "@jupyter-widgets/controls",
      "model_module_version": "1.5.0",
      "model_name": "DescriptionStyleModel",
      "state": {
       "description_width": ""
      }
     },
     "e766465d953e43b09b6e9c272b020b9b": {
      "model_module": "@jupyter-widgets/base",
      "model_module_version": "1.2.0",
      "model_name": "LayoutModel",
      "state": {}
     },
     "e806152aaa824b808e02c3bac9ad1c43": {
      "model_module": "@jupyter-widgets/base",
      "model_module_version": "1.2.0",
      "model_name": "LayoutModel",
      "state": {}
     },
     "e90da5e33add4edc8e23621af4b57182": {
      "model_module": "@jupyter-widgets/controls",
      "model_module_version": "1.5.0",
      "model_name": "HBoxModel",
      "state": {
       "children": [
        "IPY_MODEL_77f1c7f78cba4bbc9759830f97ba28f4",
        "IPY_MODEL_a7e247dc0e6e477d8c2a66c79c58cbb6"
       ],
       "layout": "IPY_MODEL_c56f56d23ec0429f96b8307a9a2804a9"
      }
     },
     "e9c740795518404896dac3b340fd7a03": {
      "model_module": "@jupyter-widgets/base",
      "model_module_version": "1.2.0",
      "model_name": "LayoutModel",
      "state": {}
     },
     "ea0ca08b238a4a5b97322dd03a5db925": {
      "model_module": "@jupyter-widgets/controls",
      "model_module_version": "1.5.0",
      "model_name": "ProgressStyleModel",
      "state": {
       "description_width": "initial"
      }
     },
     "ea1109e5e9bf479da332ef92c39f672c": {
      "model_module": "@jupyter-widgets/base",
      "model_module_version": "1.2.0",
      "model_name": "LayoutModel",
      "state": {}
     },
     "eb0a5a28182a428bb2c68c91328aa480": {
      "model_module": "@jupyter-widgets/base",
      "model_module_version": "1.2.0",
      "model_name": "LayoutModel",
      "state": {}
     },
     "eb70255e8c2947288dbd4117b4a9c836": {
      "model_module": "@jupyter-widgets/controls",
      "model_module_version": "1.5.0",
      "model_name": "HBoxModel",
      "state": {
       "children": [
        "IPY_MODEL_5540dcf7e5f84106ad1ba7fdc45cddcc",
        "IPY_MODEL_4d797e7c30674920b5432841f6c0be13"
       ],
       "layout": "IPY_MODEL_e03c3293a52a4db98d62b533ed858bef"
      }
     },
     "eb7a16476227453ebdf189c6e8f3b04c": {
      "model_module": "@jupyter-widgets/base",
      "model_module_version": "1.2.0",
      "model_name": "LayoutModel",
      "state": {}
     },
     "ebab349263de4784be71a2373f021772": {
      "model_module": "@jupyter-widgets/base",
      "model_module_version": "1.2.0",
      "model_name": "LayoutModel",
      "state": {}
     },
     "ebd02b5a54f746f980b195676e7f6e06": {
      "model_module": "@jupyter-widgets/controls",
      "model_module_version": "1.5.0",
      "model_name": "ProgressStyleModel",
      "state": {
       "description_width": "initial"
      }
     },
     "ec43c063f83f444f8dc80f1884c7ba4f": {
      "model_module": "@jupyter-widgets/base",
      "model_module_version": "1.2.0",
      "model_name": "LayoutModel",
      "state": {}
     },
     "eccc5cda137a412ca7982e4b01a79b26": {
      "model_module": "@jupyter-widgets/controls",
      "model_module_version": "1.5.0",
      "model_name": "DescriptionStyleModel",
      "state": {
       "description_width": ""
      }
     },
     "ee67f556938c4a068ee635c9203c794a": {
      "model_module": "@jupyter-widgets/controls",
      "model_module_version": "1.5.0",
      "model_name": "DescriptionStyleModel",
      "state": {
       "description_width": ""
      }
     },
     "ef1f1e1fd915444ab6d9bca4e7b0903b": {
      "model_module": "@jupyter-widgets/controls",
      "model_module_version": "1.5.0",
      "model_name": "DescriptionStyleModel",
      "state": {
       "description_width": ""
      }
     },
     "efa5ae58f74440a7a65c7773030e6a34": {
      "model_module": "@jupyter-widgets/controls",
      "model_module_version": "1.5.0",
      "model_name": "DescriptionStyleModel",
      "state": {
       "description_width": ""
      }
     },
     "efcad946c9e04161bd05be713e88d5ff": {
      "model_module": "@jupyter-widgets/controls",
      "model_module_version": "1.5.0",
      "model_name": "DescriptionStyleModel",
      "state": {
       "description_width": ""
      }
     },
     "eff96eeb647f4b469141e4671ecf04e8": {
      "model_module": "@jupyter-widgets/controls",
      "model_module_version": "1.5.0",
      "model_name": "FloatProgressModel",
      "state": {
       "bar_style": "success",
       "description": "100%",
       "layout": "IPY_MODEL_9bac8271659e4c0c948359ef8499d308",
       "max": 27,
       "style": "IPY_MODEL_c66deda988314fa1ac4865964fac254c",
       "value": 27
      }
     },
     "effd85debc5c474e8336d9010eef14b4": {
      "model_module": "@jupyter-widgets/base",
      "model_module_version": "1.2.0",
      "model_name": "LayoutModel",
      "state": {}
     },
     "f0861253b14a45348cb77d9d9d0c9470": {
      "model_module": "@jupyter-widgets/base",
      "model_module_version": "1.2.0",
      "model_name": "LayoutModel",
      "state": {}
     },
     "f0bdd7f2af0c40c0a212ca8113d2f355": {
      "model_module": "@jupyter-widgets/base",
      "model_module_version": "1.2.0",
      "model_name": "LayoutModel",
      "state": {}
     },
     "f17155d02b104801856cbc70cb3162d2": {
      "model_module": "@jupyter-widgets/base",
      "model_module_version": "1.2.0",
      "model_name": "LayoutModel",
      "state": {}
     },
     "f234eb64b79e4182b0a757b3c2203c69": {
      "model_module": "@jupyter-widgets/base",
      "model_module_version": "1.2.0",
      "model_name": "LayoutModel",
      "state": {}
     },
     "f26f8c0695784f50ac195d40e5651b62": {
      "model_module": "@jupyter-widgets/controls",
      "model_module_version": "1.5.0",
      "model_name": "HTMLModel",
      "state": {
       "layout": "IPY_MODEL_4c1a591a8beb43a0865de5535a9f4ed9",
       "style": "IPY_MODEL_1a5bb349e0c14a7199a82832c147351b",
       "value": " 0/9464 [48:07&lt;?, ?it/s]"
      }
     },
     "f2bf1cca9b33416abdfcf6b48db1390c": {
      "model_module": "@jupyter-widgets/controls",
      "model_module_version": "1.5.0",
      "model_name": "HBoxModel",
      "state": {
       "children": [
        "IPY_MODEL_931a5a69f6fd4154823dfafe2ec8db97",
        "IPY_MODEL_cad40a21387c4be299e0ab8239226d15"
       ],
       "layout": "IPY_MODEL_623918d515ab41218b26157d8933154e"
      }
     },
     "f3ab8faaa3a54ff195117f1b743d52e5": {
      "model_module": "@jupyter-widgets/base",
      "model_module_version": "1.2.0",
      "model_name": "LayoutModel",
      "state": {}
     },
     "f45738faf2df44d9b052db65e6377996": {
      "model_module": "@jupyter-widgets/base",
      "model_module_version": "1.2.0",
      "model_name": "LayoutModel",
      "state": {}
     },
     "f4f602ac2cb14dab9049426dd702ead5": {
      "model_module": "@jupyter-widgets/controls",
      "model_module_version": "1.5.0",
      "model_name": "FloatProgressModel",
      "state": {
       "bar_style": "danger",
       "description": "  0%",
       "layout": "IPY_MODEL_cbfa903c6de5481a93d96704d175df2a",
       "max": 9464,
       "style": "IPY_MODEL_87e54a1f04584f77a8fbae99f5867fd6"
      }
     },
     "f51a4a1a46da4004bea72be7c4000092": {
      "model_module": "@jupyter-widgets/controls",
      "model_module_version": "1.5.0",
      "model_name": "DescriptionStyleModel",
      "state": {
       "description_width": ""
      }
     },
     "f5821835f1d54d95a9b4c088c8c16865": {
      "model_module": "@jupyter-widgets/controls",
      "model_module_version": "1.5.0",
      "model_name": "FloatProgressModel",
      "state": {
       "bar_style": "danger",
       "description": "  0%",
       "layout": "IPY_MODEL_5507276c37584c6fb86c32b94e3cc0ea",
       "max": 27,
       "style": "IPY_MODEL_c3a94f83adb34b478c27c1ab9b5843da"
      }
     },
     "f58b622225784aa897358e410bd7feb5": {
      "model_module": "@jupyter-widgets/base",
      "model_module_version": "1.2.0",
      "model_name": "LayoutModel",
      "state": {}
     },
     "f598fc7265ec45e68f62b2f2e74ae1f3": {
      "model_module": "@jupyter-widgets/base",
      "model_module_version": "1.2.0",
      "model_name": "LayoutModel",
      "state": {}
     },
     "f67e94c35b8c47958c1917d9c80580de": {
      "model_module": "@jupyter-widgets/controls",
      "model_module_version": "1.5.0",
      "model_name": "DescriptionStyleModel",
      "state": {
       "description_width": ""
      }
     },
     "f68a60ab492545fd9b995730f6b06b69": {
      "model_module": "@jupyter-widgets/controls",
      "model_module_version": "1.5.0",
      "model_name": "FloatProgressModel",
      "state": {
       "bar_style": "success",
       "description": "100%",
       "layout": "IPY_MODEL_e003e7d5d85541239072fbeb0a2aaaa0",
       "max": 27,
       "style": "IPY_MODEL_dafd074049984a4193264fe6d55bc073",
       "value": 27
      }
     },
     "f6903eab09d84f7ebab36ad7e0b781c0": {
      "model_module": "@jupyter-widgets/controls",
      "model_module_version": "1.5.0",
      "model_name": "FloatProgressModel",
      "state": {
       "bar_style": "success",
       "description": "100%",
       "layout": "IPY_MODEL_9a4cd6a5fd184191b43d9a279614b488",
       "max": 27,
       "style": "IPY_MODEL_203d836bb481443896b5e23460265c81",
       "value": 27
      }
     },
     "f70632f5947b4b4ea50c4b33b28bdedb": {
      "model_module": "@jupyter-widgets/controls",
      "model_module_version": "1.5.0",
      "model_name": "HTMLModel",
      "state": {
       "layout": "IPY_MODEL_38fa815cbea94d7da6b8eb6402c129f7",
       "style": "IPY_MODEL_5c1d3a6e02cd47edba4a26441230b46c",
       "value": " 0/? [48:07&lt;?, ?it/s]"
      }
     },
     "f7b082ee83314114bf26243961188ea8": {
      "model_module": "@jupyter-widgets/base",
      "model_module_version": "1.2.0",
      "model_name": "LayoutModel",
      "state": {}
     },
     "f91171f724894edead34cd4be06a1eb0": {
      "model_module": "@jupyter-widgets/controls",
      "model_module_version": "1.5.0",
      "model_name": "ProgressStyleModel",
      "state": {
       "description_width": "initial"
      }
     },
     "f978779e8ac644d4aad635ef9e2dc2b5": {
      "model_module": "@jupyter-widgets/base",
      "model_module_version": "1.2.0",
      "model_name": "LayoutModel",
      "state": {}
     },
     "f98ed054588c418d93ee5f484bb02659": {
      "model_module": "@jupyter-widgets/controls",
      "model_module_version": "1.5.0",
      "model_name": "FloatProgressModel",
      "state": {
       "bar_style": "success",
       "layout": "IPY_MODEL_0d9a6b1a877a43698bbd45ccf6d7b1de",
       "max": 1,
       "style": "IPY_MODEL_c610ce72863e44068b95c44b2164621a"
      }
     },
     "fb44609c27f440c8848157e23cc7e876": {
      "model_module": "@jupyter-widgets/base",
      "model_module_version": "1.2.0",
      "model_name": "LayoutModel",
      "state": {}
     },
     "fbc1d9de96e44806aa2262e90a9b80aa": {
      "model_module": "@jupyter-widgets/base",
      "model_module_version": "1.2.0",
      "model_name": "LayoutModel",
      "state": {}
     },
     "fbe762f6cba74ad9860d1015f0c3e770": {
      "model_module": "@jupyter-widgets/controls",
      "model_module_version": "1.5.0",
      "model_name": "HBoxModel",
      "state": {
       "children": [
        "IPY_MODEL_a72c50b666b64e56956b094ab5744a6f",
        "IPY_MODEL_a02e9bdcca0f4d6aaaff8c54870208ca"
       ],
       "layout": "IPY_MODEL_8fd3ad4144ae4c7c98eead92cd4a9427"
      }
     },
     "fc845c2209d9456e9b5cbcadaa40a6ac": {
      "model_module": "@jupyter-widgets/base",
      "model_module_version": "1.2.0",
      "model_name": "LayoutModel",
      "state": {}
     },
     "fd6eb12e1c334fd18813001ab454211c": {
      "model_module": "@jupyter-widgets/controls",
      "model_module_version": "1.5.0",
      "model_name": "DescriptionStyleModel",
      "state": {
       "description_width": ""
      }
     },
     "fe8f795a47664b629f6006676e67e084": {
      "model_module": "@jupyter-widgets/controls",
      "model_module_version": "1.5.0",
      "model_name": "DescriptionStyleModel",
      "state": {
       "description_width": ""
      }
     },
     "feb780cec587421e8389ef8d405bace6": {
      "model_module": "@jupyter-widgets/base",
      "model_module_version": "1.2.0",
      "model_name": "LayoutModel",
      "state": {}
     },
     "febf0e8234fa41c9b553f8fa55b3d3d4": {
      "model_module": "@jupyter-widgets/controls",
      "model_module_version": "1.5.0",
      "model_name": "ProgressStyleModel",
      "state": {
       "description_width": "initial"
      }
     },
     "ffcc152144674a189bad4a8be92d7d77": {
      "model_module": "@jupyter-widgets/controls",
      "model_module_version": "1.5.0",
      "model_name": "DescriptionStyleModel",
      "state": {
       "description_width": ""
      }
     }
    },
    "version_major": 2,
    "version_minor": 0
   }
  }
 },
 "nbformat": 4,
 "nbformat_minor": 2
}
