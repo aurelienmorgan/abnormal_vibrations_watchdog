{
 "cells": [
  {
   "cell_type": "markdown",
   "metadata": {},
   "source": [
    "<a name=\"page-top\"></a>"
   ]
  },
  {
   "cell_type": "code",
   "execution_count": 2,
   "metadata": {},
   "outputs": [],
   "source": [
    "import os, sys\n",
    "from pprint import pprint\n",
    "from IPython.core.display import display, HTML\n",
    "\n",
    "%reload_ext autoreload\n",
    "%autoreload 2"
   ]
  },
  {
   "cell_type": "markdown",
   "metadata": {},
   "source": [
    "# Bearings Vibration Anomaly Detection"
   ]
  },
  {
   "cell_type": "code",
   "execution_count": null,
   "metadata": {},
   "outputs": [],
   "source": []
  },
  {
   "cell_type": "markdown",
   "metadata": {},
   "source": [
    "TOC\n",
    "1. <a href=\"#dataset\">The Dataset - Bearings Vibration Sensory Time Series</a><br />\n",
    "2. <a href=\"#mongodb\">Download Sensors Data to MongoDB</a><br />\n",
    "3. <a href=\"#pyspark\">PySpark Connection</a><br />\n",
    "4. Keras LSTM Autoencoder\n",
    "5. Abnormal Vibrations - Hard Failure Early Warning"
   ]
  },
  {
   "cell_type": "markdown",
   "metadata": {},
   "source": [
    "<img width=\"33.3%\" alt=\"Coming Soon !\" src=\"./images/under-construction.png\" align=\"center\" />"
   ]
  },
  {
   "cell_type": "code",
   "execution_count": null,
   "metadata": {},
   "outputs": [],
   "source": []
  },
  {
   "cell_type": "markdown",
   "metadata": {},
   "source": [
    "<a name=\"dataset\"></a>\n",
    "<h2>1. The Dataset - Bearings Vibration Sensory Time Series <small><em><a href=\"#page-top\">(go back to top &uarr;)]</a></em></small></h2>"
   ]
  },
  {
   "cell_type": "markdown",
   "metadata": {},
   "source": [
    "<div style='text-align: justify;'>\n",
    "The \"Bearing Data Set\" is part of the records provided by NASA in its <b>Prognostics Data Repository</b> <a href='https://ti.arc.nasa.gov/tech/dash/groups/pcoe/prognostic-data-repository/' target='_blank'><img href='.' src='./images/target_blank.png' style='vertical-align: baseline; display: inline;' /></a>. This NASA data repository gathers a collection of datasets that have been donated by various universities, agencies, or companies.\n",
    "<br />\n",
    "<br />\n",
    "It was originally used for the Feb 2006 research paper by J. Lee, H. Qiu, G. Yu, J. Lin, and <em>Rexnord Technical Services</em>, for the <u>Intelligent Maintenance System center <a href='http://www.imscenter.net/' target='_blank'><img href='.' src='./images/target_blank.png' style='vertical-align: baseline; display: inline;' /></a> - University of Cincinnati</u>, entitled <b>Wavelet filter-based weak signature detection method and its application on rolling element bearing prognostics</b> <a href='https://www.researchgate.net/publication/223556476_Wavelet_filter-based_weak_signature_detection_method_and_its_application_on_rolling_element_bearing_prognostics' target='_blank'><img href='.' src='./images/target_blank.png' style='vertical-align: baseline; display: inline;' /></a>.\n",
    "</div>"
   ]
  },
  {
   "cell_type": "markdown",
   "metadata": {},
   "source": [
    "<div style=\"float: left; border-right: 5px solid transparent;\">\n",
    "<table border=\"0\" width=\"350px;\" style=\"background-color: #f5f5f5; float: left;\">\n",
    "    <tr>\n",
    "        <td>\n",
    "            <center><b>A Spherical Roller Bearing <em>(sectional view)</em></b></center>\n",
    "        </td>\n",
    "    </tr>\n",
    "    <tr>\n",
    "        <td>\n",
    "            <img alt=\"spherical Roller Bearing\" src=\"./images/spherical_roller_bearing.png?uncache=12364\" />\n",
    "        </td>\n",
    "    </tr>\n",
    "    <tr>\n",
    "        <td>\n",
    "            <center><b>Bearings test rig and sensor placement illustration</b></center>\n",
    "        </td>\n",
    "    </tr>\n",
    "    <tr>\n",
    "        <td>\n",
    "            <a href=\"./images/bearings_test_rig.png\" target=\"_blank\" style=\"text-decoration: none; color: inherit;\">\n",
    "            <img alt=\"Bearings test rig\" src=\"./images/bearings_test_rig.png?uncache=12364\" />\n",
    "            <br />\n",
    "            <center><em>click to enlarge</em></center></a>\n",
    "        </td>\n",
    "    </tr>\n",
    "</table></div>\n",
    "<div style='text-align: justify;'>\n",
    "The data comprises measurements from vibrations sensors respectively mounted on 4 distinct spherical roller bearings. These bearings were placed along a rotating shaft as illustrated on the bottom-left figure.\n",
    "<br />\n",
    "The experiment was of a 'test-to-failure' nature and has been reproduced 3 times. All bearing failures occurred after exceeding their designed life time, which was of more than 100 million revolutions.\n",
    "<br />\n",
    "<p style=\"text-align: justify; color: darkgray;\">\n",
    "<u>REMARK</u>&nbsp;: for 'test 1', 8 sensors were used (2 per bearing), when for both 'test 2' and 'test 3' only 4 sensors were deemed sufficient to be mounted on the test bench (1 per bearing).\n",
    "</p>\n",
    "</div>\n",
    "\n"
   ]
  },
  {
   "cell_type": "markdown",
   "metadata": {},
   "source": [
    "<a name=\"mongodb\"></a>\n",
    "<h2>2. Download Sensors Data to MongoDB <small><em><a href=\"#page-top\">(go back to top &uarr;)]</a></em></small></h2>"
   ]
  },
  {
   "cell_type": "markdown",
   "metadata": {},
   "source": [
    "<div style='text-align: justify;'>\n",
    "<a href=\"https://www.mongodb.com/\" target=\"_blank\"><img alt=\"Mongo DB !\" src=\"./images/mongodb.png?uncache=34364\" align=\"right\" style=\"height: 50px; margin: 0px 0px 0px 10px;\" /></a>\n",
    "In <a href=\"./measurements_to_mongo.html\" target=\"_blank\">this companion notebook <img href='.' src='./images/target_blank.png' style='vertical-align: baseline; display: inline;' /></a>, we automate the download of the data from the NASA repository and load it into a Mongo DB database. The source data is provided as a compressed set of very numerous files, each consisting in tens of thousands time-slices of 1 second sensors recording at a sampling rate of 20 kHz. We use <span style=\"background-color: #e0e0e0\">&nbsp;multiprocessing&nbsp;</span> to speedup the data dumps to Mongo DB.\n",
    "<br />\n",
    "<br />\n",
    "For our read needs on the newly created <b>nasa_bearing_ims_db</b> Mongo DB database, a user named 'readOnlyUser' is available to us&nbsp;:\n",
    "</div>"
   ]
  },
  {
   "cell_type": "code",
   "execution_count": 4,
   "metadata": {},
   "outputs": [],
   "source": [
    "from pymongo import MongoClient\n",
    "\n",
    "username = 'readOnlyUser'\n",
    "password = 'readOnlyUser_password'\n",
    "\n",
    "client = MongoClient('mongodb://%s:%s@127.0.0.1' % (username, password)\n",
    "                     , appname='Abnormal Vibration Watchdog')"
   ]
  },
  {
   "cell_type": "markdown",
   "metadata": {},
   "source": [
    "We can for instance look into 2 measurement timestep documents from test 2&nbsp;:"
   ]
  },
  {
   "cell_type": "code",
   "execution_count": 9,
   "metadata": {},
   "outputs": [
    {
     "name": "stdout",
     "output_type": "stream",
     "text": [
      "{'_id': ObjectId('5f606c7f9c3887062e5f88bb'),\n",
      " 'sensor_1': '-0.049',\n",
      " 'sensor_2': '-0.071',\n",
      " 'sensor_3': '-0.132',\n",
      " 'sensor_4': '-0.010',\n",
      " 'test_id': 2,\n",
      " 'timestamp': datetime.datetime(2004, 2, 12, 10, 32, 39)}\n",
      "{'_id': ObjectId('5f606c7f9c3887062e5f88bc'),\n",
      " 'sensor_1': '-0.042',\n",
      " 'sensor_2': '-0.073',\n",
      " 'sensor_3': '-0.007',\n",
      " 'sensor_4': '-0.105',\n",
      " 'test_id': 2,\n",
      " 'timestamp': datetime.datetime(2004, 2, 12, 10, 32, 39)}\n"
     ]
    }
   ],
   "source": [
    "cursor = client.nasa_ims_database.measurements.find(\n",
    "    {'test_id': 2}, limit=2)\n",
    "for document in cursor : pprint(document)"
   ]
  },
  {
   "cell_type": "markdown",
   "metadata": {},
   "source": [
    "<div style='text-align: justify;'>\n",
    "<p style=\"text-align: justify; color: darkgray;\">\n",
    "<u>REMARK</u>&nbsp;: Once the data dowloaded, we can follow this link to the README file that comes alongside it&nbsp;: <a href=\"./data/Readme Document for IMS Bearing Data.pdf\" target=\"_blank\"><img href='.' src='./images/target_blank.png' style='vertical-align: baseline; display: inline;' /></a>. This README provides a little further details on the experiment run to produce the dataset than introduced <a href=\"#dataset\" style=\"color: #819bc7;\"><b>&sect;1.</b></a>.\n",
    "</p>\n",
    "</div>"
   ]
  },
  {
   "cell_type": "markdown",
   "metadata": {},
   "source": [
    "<a name=\"pyspark\"></a>\n",
    "<h2>3. PySpark Connection <small><em><a href=\"#page-top\">(go back to top &uarr;)]</a></em></small></h2>"
   ]
  },
  {
   "cell_type": "markdown",
   "metadata": {},
   "source": [
    "<a href=\"https://spark.apache.org/docs/latest/api/python/index.html\" target=\"_blank\"><img style=\"height: 50px;\" alt=\"PySpark\" src=\"./images/pyspark.png?uncache=3443644\" align=\"right\" /></a>\n",
    "We will be interfacing our <em>NASA IMS Measurements</em> Mongo DB database collection thru the <a href=\"https://docs.mongodb.com/spark-connector/master/python-api/\" target=\"_blank\"><b>MONGODB SPARK CONNECTOR</b> <img href='.' src='./images/target_blank.png' style='vertical-align: baseline; display: inline;' /></a>. This will allow for distributed access and pre-processing of our data.\n",
    "<br />\n",
    "<br />\n",
    "Lets first establish a \"Mongo DB connector aware\" Spark Session for the Jupyter kernel instance running this notebook&nbsp;:"
   ]
  },
  {
   "cell_type": "code",
   "execution_count": 5,
   "metadata": {},
   "outputs": [
    {
     "data": {
      "text/html": [
       "<em>To monitor jobs &amp; stages, go to the <a href='http://MSI:4041/environment/' target='_blank'>Spark UI</a> (on your Spark master host)</em>"
      ],
      "text/plain": [
       "<IPython.core.display.HTML object>"
      ]
     },
     "metadata": {},
     "output_type": "display_data"
    }
   ],
   "source": [
    "from pyspark import SparkContext\n",
    "from pyspark.sql import SparkSession\n",
    "\n",
    "# add the 'mongo-spark-connector' classpath info\n",
    "# PRIOR to the JVM start on this notebook kernel\n",
    "spark_jars_directory = os.path.realpath(\"C:/Users/Organization/.ivy2/jars/\")\n",
    "sys.path.insert(0, spark_jars_directory)\n",
    "SUBMIT_ARGS = '--packages org.mongodb.spark:mongo-spark-connector_2.11:2.4.2 pyspark-shell'\n",
    "# - where \"2.11\" is our Scala version\n",
    "#   (on which our Spark 2.4.4 is running)\n",
    "# - where 2.4.2 is the mongodb-spark connector version\n",
    "#   (compatible with our Spark 2.4.4 version)\n",
    "os.environ[\"PYSPARK_SUBMIT_ARGS\"] = SUBMIT_ARGS\n",
    "\n",
    "## Start Spark\n",
    "master = \"local[*]\" ; app_name = \"Abnormal_Vibration_Watchdog\"\n",
    "sc = SparkContext(master = master, appName = app_name)\n",
    "spark = SparkSession(sc).builder.getOrCreate()\n",
    "\n",
    "display(HTML(\"<em>To monitor jobs &amp; stages, go to the \" +\n",
    "             \"<a href='\" + spark.sparkContext.uiWebUrl + \"/environment/'\" +\n",
    "             \" target='_blank'>Spark UI</a> (on your Spark master host)</em>\"))"
   ]
  },
  {
   "cell_type": "markdown",
   "metadata": {},
   "source": [
    "We can now set a reference to our Mongo DB database thru a Spark DataFrame&nbsp;:"
   ]
  },
  {
   "cell_type": "code",
   "execution_count": 6,
   "metadata": {},
   "outputs": [],
   "source": [
    "df = (\n",
    "    spark.read\n",
    "        .format(\"com.mongodb.spark.sql.DefaultSource\")\n",
    "        .option(\"uri\", \"mongodb://\" + username + \":\" + password + \"@127.0.0.1:27017\")\n",
    "        .option(\"database\", \"nasa_ims_database\")\n",
    "        .option(\"collection\", \"measurements\")\n",
    "\n",
    "        .option(\"pipeline\", \"[{ $limit: 10 }]\") # temporary\n",
    "\n",
    "        .load()\n",
    ")"
   ]
  },
  {
   "cell_type": "code",
   "execution_count": 7,
   "metadata": {},
   "outputs": [
    {
     "name": "stdout",
     "output_type": "stream",
     "text": [
      "root\n",
      " |-- _id: struct (nullable = true)\n",
      " |    |-- oid: string (nullable = true)\n",
      " |-- sensor_1: string (nullable = true)\n",
      " |-- sensor_2: string (nullable = true)\n",
      " |-- sensor_3: string (nullable = true)\n",
      " |-- sensor_4: string (nullable = true)\n",
      " |-- sensor_5: string (nullable = true)\n",
      " |-- sensor_6: string (nullable = true)\n",
      " |-- sensor_7: string (nullable = true)\n",
      " |-- sensor_8: string (nullable = true)\n",
      " |-- test_id: integer (nullable = true)\n",
      " |-- timestamp: timestamp (nullable = true)\n",
      "\n"
     ]
    }
   ],
   "source": [
    "df.printSchema()"
   ]
  },
  {
   "cell_type": "markdown",
   "metadata": {},
   "source": [
    "We can also look into any two measurement timestep documents from our dataset&nbsp;:"
   ]
  },
  {
   "cell_type": "code",
   "execution_count": 8,
   "metadata": {},
   "outputs": [
    {
     "name": "stdout",
     "output_type": "stream",
     "text": [
      "{'_id': Row(oid='5f60cea78a22a457166fda0c'),\n",
      " 'sensor_1': '-0.022',\n",
      " 'sensor_2': '-0.039',\n",
      " 'sensor_3': '-0.183',\n",
      " 'sensor_4': '-0.054',\n",
      " 'sensor_5': '-0.105',\n",
      " 'sensor_6': '-0.134',\n",
      " 'sensor_7': '-0.129',\n",
      " 'sensor_8': '-0.142',\n",
      " 'test_id': 1,\n",
      " 'timestamp': datetime.datetime(2003, 10, 22, 14, 6, 24)}\n",
      "{'_id': Row(oid='5f60cea78a22a457166fda0d'),\n",
      " 'sensor_1': '-0.105',\n",
      " 'sensor_2': '-0.017',\n",
      " 'sensor_3': '-0.164',\n",
      " 'sensor_4': '-0.183',\n",
      " 'sensor_5': '-0.049',\n",
      " 'sensor_6': '0.029',\n",
      " 'sensor_7': '-0.115',\n",
      " 'sensor_8': '-0.122',\n",
      " 'test_id': 1,\n",
      " 'timestamp': datetime.datetime(2003, 10, 22, 14, 6, 24)}\n"
     ]
    }
   ],
   "source": [
    "from pprint import pprint\n",
    "\n",
    "records = df.rdd.map(lambda row: row.asDict()).take(2)\n",
    "for record in records :\n",
    "    pprint(record)"
   ]
  },
  {
   "cell_type": "code",
   "execution_count": 22,
   "metadata": {},
   "outputs": [],
   "source": [
    "spark.stop()"
   ]
  },
  {
   "cell_type": "markdown",
   "metadata": {},
   "source": [
    "We're now well-equipped to tackle our model training challenge. We're indeed now in a position to developp a custom Keras fit-generator that will handle our training set like a champ'&nbsp;!"
   ]
  },
  {
   "cell_type": "markdown",
   "metadata": {},
   "source": [
    "<br />\n",
    "<br />\n",
    "<br />\n",
    "<b><p style=\"font-size=24pt\">BEING CONTINUED..</p></b>\n",
    "<br />\n",
    "<br />\n",
    "<br />"
   ]
  },
  {
   "cell_type": "code",
   "execution_count": null,
   "metadata": {},
   "outputs": [],
   "source": []
  },
  {
   "cell_type": "code",
   "execution_count": null,
   "metadata": {},
   "outputs": [],
   "source": []
  },
  {
   "cell_type": "code",
   "execution_count": null,
   "metadata": {},
   "outputs": [],
   "source": []
  },
  {
   "cell_type": "code",
   "execution_count": null,
   "metadata": {},
   "outputs": [],
   "source": []
  },
  {
   "cell_type": "code",
   "execution_count": null,
   "metadata": {},
   "outputs": [],
   "source": []
  },
  {
   "cell_type": "code",
   "execution_count": null,
   "metadata": {},
   "outputs": [],
   "source": []
  },
  {
   "cell_type": "code",
   "execution_count": null,
   "metadata": {},
   "outputs": [],
   "source": []
  },
  {
   "cell_type": "code",
   "execution_count": null,
   "metadata": {},
   "outputs": [],
   "source": []
  },
  {
   "cell_type": "code",
   "execution_count": null,
   "metadata": {},
   "outputs": [],
   "source": []
  },
  {
   "cell_type": "markdown",
   "metadata": {},
   "source": [
    "<hr style=\"height:2px;border-width:0;color:gray;background-color:gray;width:80%\" />"
   ]
  },
  {
   "cell_type": "markdown",
   "metadata": {},
   "source": [
    "# EXTRA"
   ]
  },
  {
   "cell_type": "markdown",
   "metadata": {},
   "source": [
    "<b>Export Notebook to HTML (with Markdown extension cells evaluated and hidden cell outputs omitted)&nbsp;:</b>"
   ]
  },
  {
   "cell_type": "code",
   "execution_count": 9,
   "metadata": {},
   "outputs": [
    {
     "name": "stdout",
     "output_type": "stream",
     "text": [
      "'main.ipynb' ; 'D:\\jupyter_notebooks\\TimeSeries_Anomaly_Detection\\main.html'\n",
      "done.\n"
     ]
    }
   ],
   "source": [
    "from my_TS_Anomaly_lib.jupyter_markdown_extension import md_extension_to_html\n",
    "\n",
    "md_extension_to_html(os.path.join(os.path.realpath('.'), 'main.ipynb'))"
   ]
  },
  {
   "cell_type": "code",
   "execution_count": null,
   "metadata": {},
   "outputs": [],
   "source": []
  },
  {
   "cell_type": "code",
   "execution_count": null,
   "metadata": {},
   "outputs": [],
   "source": []
  },
  {
   "cell_type": "code",
   "execution_count": null,
   "metadata": {},
   "outputs": [],
   "source": []
  },
  {
   "cell_type": "code",
   "execution_count": null,
   "metadata": {},
   "outputs": [],
   "source": []
  },
  {
   "cell_type": "code",
   "execution_count": null,
   "metadata": {},
   "outputs": [],
   "source": [
    "\n",
    "\n",
    "\n",
    "\n",
    "\n",
    "\n",
    "\n",
    "\n",
    "\n",
    "\n",
    "\n",
    "\n",
    "\n",
    "\n",
    "\n",
    "\n",
    "\n",
    "\n",
    "\n",
    "\n",
    "\n",
    "\n",
    "\n",
    "\n",
    "\n",
    "\n",
    "\n",
    "\n",
    "\n",
    "\n",
    "\n",
    "\n",
    "\n",
    "\n",
    "\n",
    "\n",
    "\n",
    "\n",
    "\n",
    "\n",
    "\n",
    "\n"
   ]
  }
 ],
 "metadata": {
  "kernelspec": {
   "display_name": "TensorFlow-GPU-1.13.1",
   "language": "python",
   "name": "r-tensorflow"
  },
  "language_info": {
   "codemirror_mode": {
    "name": "ipython",
    "version": 3
   },
   "file_extension": ".py",
   "mimetype": "text/x-python",
   "name": "python",
   "nbconvert_exporter": "python",
   "pygments_lexer": "ipython3",
   "version": "3.6.8"
  },
  "widgets": {
   "application/vnd.jupyter.widget-state+json": {
    "state": {},
    "version_major": 2,
    "version_minor": 0
   }
  }
 },
 "nbformat": 4,
 "nbformat_minor": 2
}
